{
 "cells": [
  {
   "cell_type": "code",
   "execution_count": 1,
   "id": "590f366d",
   "metadata": {},
   "outputs": [],
   "source": [
    "import pandas as pd\n",
    "import numpy as np\n",
    "import seaborn as sns\n",
    "import statsmodels.api as sm\n",
    "import matplotlib.pyplot as plt\n",
    "import matplotlib\n",
    "from datetime import datetime, timedelta\n",
    "\n",
    "from matplotlib import font_manager, rc, cm\n",
    "%matplotlib inline\n",
    "\n",
    "import platform\n",
    "your_os = platform.system()\n",
    "if your_os == 'Linux':\n",
    "    rc('font', family='NanumGothic')\n",
    "elif your_os == 'Windows':\n",
    "    ttf = \"c:/Windows/Fonts/malgun.ttf\"\n",
    "    font_name = font_manager.FontProperties(fname=ttf).get_name()\n",
    "    rc('font', family=font_name)\n",
    "elif your_os == 'Darwin':\n",
    "    rc('font', family='AppleGothic')\n",
    "rc('axes', unicode_minus=False)\n",
    "from sklearn.model_selection import train_test_split\n",
    "import glob\n",
    "import os\n",
    "import time\n",
    "import random\n",
    "import warnings; warnings.filterwarnings(\"ignore\")\n",
    "from IPython.display import Image\n",
    "import pickle\n",
    "from tqdm import tqdm\n",
    "import platform\n",
    "from itertools import combinations\n",
    "from scipy.stats.mstats import gmean\n",
    "\n",
    "from tqdm.notebook import tqdm\n",
    "from pycaret.regression import *\n",
    "from sklearn.metrics import mean_squared_error\n",
    "from sklearn.metrics import r2_score"
   ]
  },
  {
   "cell_type": "markdown",
   "id": "9b6c3ac7",
   "metadata": {},
   "source": [
    "# Pycaret을 이용한 튜닝 및 예측\n",
    " - 3 표준편차 기준 이상치 대체 반응변수\n",
    " - 왜도 3 이상 값들 로그변환 설명변수\n",
    " - VIF < 11 인 값들\n",
    " - 부스팅 / 배깅 / 블랜딩 3개 혼합모델"
   ]
  },
  {
   "cell_type": "markdown",
   "id": "571c51b4",
   "metadata": {},
   "source": [
    "#### 0. 데이터 불러오기\n",
    "- stepwise로 선택된 변수\n",
    "- 이상치가 대체된 배출량 data"
   ]
  },
  {
   "cell_type": "code",
   "execution_count": 2,
   "id": "0ba4fc49",
   "metadata": {},
   "outputs": [
    {
     "name": "stdout",
     "output_type": "stream",
     "text": [
      "44\n"
     ]
    },
    {
     "data": {
      "text/plain": [
       "(16601, 323)"
      ]
     },
     "execution_count": 2,
     "metadata": {},
     "output_type": "execute_result"
    }
   ],
   "source": [
    "data = pd.read_csv(\"행정동1 군집0번의 data 이상치 3.csv\")\n",
    "variable_dummy = np.load(\"행정동1 label 0 VIF10 선택변수.npy\")\n",
    "print(len(variable_dummy))\n",
    "data.shape"
   ]
  },
  {
   "cell_type": "code",
   "execution_count": 6,
   "id": "f2424a53",
   "metadata": {},
   "outputs": [],
   "source": [
    "from sklearn.preprocessing import StandardScaler\n",
    "std = StandardScaler()\n",
    "data[\"내국인_목적별 0 회의및업무\"] = std.fit_transform(data[\"내국인_목적별 0 회의및업무\"].values.reshape(-1,1))\n",
    "\n",
    "std = StandardScaler()\n",
    "data[\"내국인_목적별 0 레저스포츠\"] = std.fit_transform(data[\"내국인_목적별 0 레저스포츠\"].values.reshape(-1,1))\n",
    "\n",
    "std = StandardScaler()\n",
    "data[\"내국인_행태별 0 패키지\"] = std.fit_transform(data[\"내국인_행태별 0 패키지\"].values.reshape(-1,1))"
   ]
  },
  {
   "cell_type": "code",
   "execution_count": 3,
   "id": "34903d97",
   "metadata": {},
   "outputs": [
    {
     "data": {
      "text/plain": [
       "array(['월_일별배출량비율', '월배출량비율', '일강수량', '연휴전날', '평균 기온', '내국인_목적별 0 레저스포츠',\n",
       "       'CO', 'NO2', '장기4방문표준편차', '년_2019', 'O3', '내국인_목적별 0 회의및업무', '월_5',\n",
       "       '분기_1', '연_월간식결제건수비율', '월_일별결제건수비율', '연휴다음날', '연_월아시아음식결제건수비율',\n",
       "       '요일부페결제금액', 'SO2', '단기4방문편차', '연_월양식결제금액비율', '공휴일', '장기2거주편차',\n",
       "       '월_11', '월_일별배출건수비율', '장기4거주표준편차', '장기2방문표준편차', '장기1방문표준편차',\n",
       "       '요일부페결제건수비율', '실업률', '내국인_행태별 0 패키지', '일별예상승객총합', '일별예상승객편차',\n",
       "       '연_요일별결제건수비율', '지방세', 'PM10', '요일아시아음식결제건수비율', '일_25', '월_2',\n",
       "       '연_월결제금액_부페', '장기3일표준편차', '요일_화', '연_요일별배출금액비율'], dtype='<U15')"
      ]
     },
     "execution_count": 3,
     "metadata": {},
     "output_type": "execute_result"
    }
   ],
   "source": [
    "variable_dummy"
   ]
  },
  {
   "cell_type": "markdown",
   "id": "06887a01",
   "metadata": {},
   "source": [
    "성능평가 방법\n",
    "- RMSLE"
   ]
  },
  {
   "cell_type": "code",
   "execution_count": 7,
   "id": "550effce",
   "metadata": {},
   "outputs": [],
   "source": [
    "from sklearn.metrics import mean_squared_error,mean_absolute_error\n",
    "\n",
    "def rmsle(y,pred):\n",
    "    log_y = np.log1p(y)\n",
    "    log_pred = np.log1p(pred)\n",
    "    squared_error = (log_y - log_pred) ** 2\n",
    "    rmsle = np.sqrt(np.mean(squared_error))\n",
    "    return rmsle\n",
    "\n",
    "def rmse(y,pred):\n",
    "    return np.sqrt(mean_squared_error(y,pred))\n",
    "\n",
    "def eval_reg(y,pred):\n",
    "    rmsle_val = rmsle(y,pred)\n",
    "    rmse_val = rmse(y,pred)\n",
    "    mae_val = mean_absolute_error(y,pred)\n",
    "    print(\"RMSLE : {0:.3f}, RMSE : {1:.3f}, MAE : {2:,.3f}\".format(rmsle_val,rmse_val,mae_val))\n",
    "    return rmsle_val,rmse_val,mae_val"
   ]
  },
  {
   "cell_type": "markdown",
   "id": "051ecdc9",
   "metadata": {},
   "source": [
    "#### 1. 데이터 생성하기\n",
    "- 로그변환"
   ]
  },
  {
   "cell_type": "code",
   "execution_count": 8,
   "id": "4b72ae7e",
   "metadata": {},
   "outputs": [
    {
     "name": "stdout",
     "output_type": "stream",
     "text": [
      "['장기2방문표준편차', '연_월결제금액_부페', '공휴일', '연휴전날', '연휴다음날', '단기4방문편차', '일강수량', '요일부페결제금액', 'PM10']\n"
     ]
    }
   ],
   "source": [
    "Y = data[\"배출량\"]\n",
    "    \n",
    "dummy = pd.get_dummies(data[[\"년\",\"월\",\"일\",\"요일\",\"분기\"]],columns = [\"년\",\"월\",\"일\",\"요일\",\"분기\"]).columns\n",
    "variable_nodummy = list(set(variable_dummy).difference(dummy))\n",
    "# stepwise로 선택된 변수 중 dummy가 아닌 것들\n",
    "    \n",
    "select_dummy = list(set(variable_dummy).difference(variable_nodummy))\n",
    "# stepwsie로 선택된 변수 중 dummy인 변수들\n",
    "    \n",
    "X_1 = pd.get_dummies(data.drop([\"일자\",\"행정시\",\"배출량\",\"행정동명\"],axis=1)\n",
    "                         ,columns=[\"년\",\"월\",\"일\",\"요일\",\"분기\"])[variable_nodummy]\n",
    "# X_1 : 더미변수를 제하고 stepwise로 선택된 모든 변수 dataframe\n",
    "\n",
    "X_2 = pd.get_dummies(data.drop([\"일자\",\"행정시\",\"배출량\",\"행정동명\"],axis=1)\n",
    "                         ,columns=[\"년\",\"월\",\"일\",\"요일\",\"분기\"])[select_dummy]\n",
    "# X_2 : stepwise로 선택된 모든 더미변수 dataframe\n",
    "\n",
    "loglist=[]\n",
    "# 왜도 3인 설명변수 log1p 변환\n",
    "for val in list(X_1.columns):\n",
    "    if abs(X_1[val].skew())>3:\n",
    "        X_1[val] = np.log1p(X_1[val])\n",
    "        loglist.append(val)\n",
    "        \n",
    "X_1 = pd.DataFrame(X_1)\n",
    "    \n",
    "X_3 = data[\"행정동명\"]\n",
    "# Categorical Features인 행정동명\n",
    "    \n",
    "X = pd.concat([X_1,X_2,X_3],axis=1)\n",
    "# X1, X2, X3 데이터 concat\n",
    "\n",
    "x_train, x_test, y_train, y_test = train_test_split(X, Y,test_size=0.2, shuffle=True, random_state=0)\n",
    "train = pd.concat([x_train, y_train], axis = 1)\n",
    "\n",
    "reg = setup(data=train,\n",
    "                target='배출량',\n",
    "                numeric_imputation = 'mean',\n",
    "                normalize = True,\n",
    "                normalize_method = 'zscore',\n",
    "                categorical_features = [\"행정동명\"],\n",
    "                silent= True,\n",
    "                fold_strategy = 'timeseries',\n",
    "                fold = 3,\n",
    "                session_id = 0,\n",
    "                verbose=False)\n",
    "print(loglist)"
   ]
  },
  {
   "cell_type": "markdown",
   "id": "bddeccc4",
   "metadata": {},
   "source": [
    "단일 모델 선택하기 위한 성능 비교"
   ]
  },
  {
   "cell_type": "code",
   "execution_count": 10,
   "id": "67852fa4",
   "metadata": {},
   "outputs": [
    {
     "data": {
      "text/html": [
       "<style  type=\"text/css\" >\n",
       "    #T_f8aee_ th {\n",
       "          text-align: left;\n",
       "    }#T_f8aee_row0_col0,#T_f8aee_row1_col0,#T_f8aee_row1_col1,#T_f8aee_row1_col2,#T_f8aee_row1_col3,#T_f8aee_row1_col4,#T_f8aee_row1_col5,#T_f8aee_row1_col6,#T_f8aee_row2_col0,#T_f8aee_row2_col1,#T_f8aee_row2_col2,#T_f8aee_row2_col3,#T_f8aee_row2_col4,#T_f8aee_row2_col5,#T_f8aee_row2_col6,#T_f8aee_row3_col0,#T_f8aee_row3_col1,#T_f8aee_row3_col2,#T_f8aee_row3_col3,#T_f8aee_row3_col4,#T_f8aee_row3_col5,#T_f8aee_row3_col6,#T_f8aee_row4_col0,#T_f8aee_row4_col1,#T_f8aee_row4_col2,#T_f8aee_row4_col3,#T_f8aee_row4_col4,#T_f8aee_row4_col5,#T_f8aee_row4_col6,#T_f8aee_row5_col0,#T_f8aee_row5_col1,#T_f8aee_row5_col2,#T_f8aee_row5_col3,#T_f8aee_row5_col4,#T_f8aee_row5_col5,#T_f8aee_row5_col6,#T_f8aee_row6_col0,#T_f8aee_row6_col1,#T_f8aee_row6_col2,#T_f8aee_row6_col3,#T_f8aee_row6_col4,#T_f8aee_row6_col5,#T_f8aee_row6_col6,#T_f8aee_row7_col0,#T_f8aee_row7_col1,#T_f8aee_row7_col2,#T_f8aee_row7_col3,#T_f8aee_row7_col4,#T_f8aee_row7_col5,#T_f8aee_row7_col6,#T_f8aee_row8_col0,#T_f8aee_row8_col1,#T_f8aee_row8_col2,#T_f8aee_row8_col3,#T_f8aee_row8_col4,#T_f8aee_row8_col5,#T_f8aee_row8_col6,#T_f8aee_row9_col0,#T_f8aee_row9_col1,#T_f8aee_row9_col2,#T_f8aee_row9_col3,#T_f8aee_row9_col4,#T_f8aee_row9_col5,#T_f8aee_row9_col6,#T_f8aee_row10_col0,#T_f8aee_row10_col1,#T_f8aee_row10_col2,#T_f8aee_row10_col3,#T_f8aee_row10_col4,#T_f8aee_row10_col5,#T_f8aee_row10_col6,#T_f8aee_row11_col0,#T_f8aee_row11_col1,#T_f8aee_row11_col2,#T_f8aee_row11_col3,#T_f8aee_row11_col4,#T_f8aee_row11_col5,#T_f8aee_row11_col6,#T_f8aee_row12_col0,#T_f8aee_row12_col1,#T_f8aee_row12_col2,#T_f8aee_row12_col3,#T_f8aee_row12_col4,#T_f8aee_row12_col5,#T_f8aee_row12_col6,#T_f8aee_row13_col0,#T_f8aee_row13_col1,#T_f8aee_row13_col2,#T_f8aee_row13_col3,#T_f8aee_row13_col4,#T_f8aee_row13_col5,#T_f8aee_row13_col6,#T_f8aee_row14_col0,#T_f8aee_row14_col1,#T_f8aee_row14_col2,#T_f8aee_row14_col3,#T_f8aee_row14_col4,#T_f8aee_row14_col5,#T_f8aee_row14_col6,#T_f8aee_row15_col0,#T_f8aee_row15_col1,#T_f8aee_row15_col2,#T_f8aee_row15_col3,#T_f8aee_row15_col4,#T_f8aee_row15_col5,#T_f8aee_row15_col6,#T_f8aee_row16_col0,#T_f8aee_row16_col1,#T_f8aee_row16_col2,#T_f8aee_row16_col3,#T_f8aee_row16_col4,#T_f8aee_row16_col5,#T_f8aee_row16_col6{\n",
       "            text-align:  left;\n",
       "            text-align:  left;\n",
       "        }#T_f8aee_row0_col1,#T_f8aee_row0_col2,#T_f8aee_row0_col3,#T_f8aee_row0_col4,#T_f8aee_row0_col5,#T_f8aee_row0_col6{\n",
       "            text-align:  left;\n",
       "            text-align:  left;\n",
       "            background-color:  yellow;\n",
       "        }#T_f8aee_row0_col7,#T_f8aee_row1_col7,#T_f8aee_row2_col7,#T_f8aee_row3_col7,#T_f8aee_row4_col7,#T_f8aee_row5_col7,#T_f8aee_row6_col7,#T_f8aee_row7_col7,#T_f8aee_row8_col7,#T_f8aee_row9_col7,#T_f8aee_row10_col7,#T_f8aee_row11_col7,#T_f8aee_row12_col7,#T_f8aee_row13_col7,#T_f8aee_row14_col7,#T_f8aee_row16_col7{\n",
       "            text-align:  left;\n",
       "            text-align:  left;\n",
       "            background-color:  lightgrey;\n",
       "        }#T_f8aee_row15_col7{\n",
       "            text-align:  left;\n",
       "            text-align:  left;\n",
       "            background-color:  yellow;\n",
       "            background-color:  lightgrey;\n",
       "        }</style><table id=\"T_f8aee_\" ><thead>    <tr>        <th class=\"blank level0\" ></th>        <th class=\"col_heading level0 col0\" >Model</th>        <th class=\"col_heading level0 col1\" >MAE</th>        <th class=\"col_heading level0 col2\" >MSE</th>        <th class=\"col_heading level0 col3\" >RMSE</th>        <th class=\"col_heading level0 col4\" >R2</th>        <th class=\"col_heading level0 col5\" >RMSLE</th>        <th class=\"col_heading level0 col6\" >MAPE</th>        <th class=\"col_heading level0 col7\" >TT (Sec)</th>    </tr></thead><tbody>\n",
       "                <tr>\n",
       "                        <th id=\"T_f8aee_level0_row0\" class=\"row_heading level0 row0\" >lightgbm</th>\n",
       "                        <td id=\"T_f8aee_row0_col0\" class=\"data row0 col0\" >Light Gradient Boosting Machine</td>\n",
       "                        <td id=\"T_f8aee_row0_col1\" class=\"data row0 col1\" >137713.8967</td>\n",
       "                        <td id=\"T_f8aee_row0_col2\" class=\"data row0 col2\" >34265863090.0046</td>\n",
       "                        <td id=\"T_f8aee_row0_col3\" class=\"data row0 col3\" >184836.1306</td>\n",
       "                        <td id=\"T_f8aee_row0_col4\" class=\"data row0 col4\" >0.8380</td>\n",
       "                        <td id=\"T_f8aee_row0_col5\" class=\"data row0 col5\" >0.1282</td>\n",
       "                        <td id=\"T_f8aee_row0_col6\" class=\"data row0 col6\" >0.0936</td>\n",
       "                        <td id=\"T_f8aee_row0_col7\" class=\"data row0 col7\" >5.8167</td>\n",
       "            </tr>\n",
       "            <tr>\n",
       "                        <th id=\"T_f8aee_level0_row1\" class=\"row_heading level0 row1\" >et</th>\n",
       "                        <td id=\"T_f8aee_row1_col0\" class=\"data row1 col0\" >Extra Trees Regressor</td>\n",
       "                        <td id=\"T_f8aee_row1_col1\" class=\"data row1 col1\" >139395.6108</td>\n",
       "                        <td id=\"T_f8aee_row1_col2\" class=\"data row1 col2\" >37298707179.5285</td>\n",
       "                        <td id=\"T_f8aee_row1_col3\" class=\"data row1 col3\" >193045.5057</td>\n",
       "                        <td id=\"T_f8aee_row1_col4\" class=\"data row1 col4\" >0.8238</td>\n",
       "                        <td id=\"T_f8aee_row1_col5\" class=\"data row1 col5\" >0.1303</td>\n",
       "                        <td id=\"T_f8aee_row1_col6\" class=\"data row1 col6\" >0.0938</td>\n",
       "                        <td id=\"T_f8aee_row1_col7\" class=\"data row1 col7\" >2.8100</td>\n",
       "            </tr>\n",
       "            <tr>\n",
       "                        <th id=\"T_f8aee_level0_row2\" class=\"row_heading level0 row2\" >rf</th>\n",
       "                        <td id=\"T_f8aee_row2_col0\" class=\"data row2 col0\" >Random Forest Regressor</td>\n",
       "                        <td id=\"T_f8aee_row2_col1\" class=\"data row2 col1\" >148672.5770</td>\n",
       "                        <td id=\"T_f8aee_row2_col2\" class=\"data row2 col2\" >41800143027.4422</td>\n",
       "                        <td id=\"T_f8aee_row2_col3\" class=\"data row2 col3\" >204123.3023</td>\n",
       "                        <td id=\"T_f8aee_row2_col4\" class=\"data row2 col4\" >0.8024</td>\n",
       "                        <td id=\"T_f8aee_row2_col5\" class=\"data row2 col5\" >0.1417</td>\n",
       "                        <td id=\"T_f8aee_row2_col6\" class=\"data row2 col6\" >0.1023</td>\n",
       "                        <td id=\"T_f8aee_row2_col7\" class=\"data row2 col7\" >5.3167</td>\n",
       "            </tr>\n",
       "            <tr>\n",
       "                        <th id=\"T_f8aee_level0_row3\" class=\"row_heading level0 row3\" >gbr</th>\n",
       "                        <td id=\"T_f8aee_row3_col0\" class=\"data row3 col0\" >Gradient Boosting Regressor</td>\n",
       "                        <td id=\"T_f8aee_row3_col1\" class=\"data row3 col1\" >171588.6203</td>\n",
       "                        <td id=\"T_f8aee_row3_col2\" class=\"data row3 col2\" >52286691265.2474</td>\n",
       "                        <td id=\"T_f8aee_row3_col3\" class=\"data row3 col3\" >228640.1573</td>\n",
       "                        <td id=\"T_f8aee_row3_col4\" class=\"data row3 col4\" >0.7531</td>\n",
       "                        <td id=\"T_f8aee_row3_col5\" class=\"data row3 col5\" >0.1616</td>\n",
       "                        <td id=\"T_f8aee_row3_col6\" class=\"data row3 col6\" >0.1203</td>\n",
       "                        <td id=\"T_f8aee_row3_col7\" class=\"data row3 col7\" >5.5400</td>\n",
       "            </tr>\n",
       "            <tr>\n",
       "                        <th id=\"T_f8aee_level0_row4\" class=\"row_heading level0 row4\" >knn</th>\n",
       "                        <td id=\"T_f8aee_row4_col0\" class=\"data row4 col0\" >K Neighbors Regressor</td>\n",
       "                        <td id=\"T_f8aee_row4_col1\" class=\"data row4 col1\" >218172.3958</td>\n",
       "                        <td id=\"T_f8aee_row4_col2\" class=\"data row4 col2\" >83759620096.0000</td>\n",
       "                        <td id=\"T_f8aee_row4_col3\" class=\"data row4 col3\" >288741.7708</td>\n",
       "                        <td id=\"T_f8aee_row4_col4\" class=\"data row4 col4\" >0.6040</td>\n",
       "                        <td id=\"T_f8aee_row4_col5\" class=\"data row4 col5\" >0.1949</td>\n",
       "                        <td id=\"T_f8aee_row4_col6\" class=\"data row4 col6\" >0.1511</td>\n",
       "                        <td id=\"T_f8aee_row4_col7\" class=\"data row4 col7\" >0.8800</td>\n",
       "            </tr>\n",
       "            <tr>\n",
       "                        <th id=\"T_f8aee_level0_row5\" class=\"row_heading level0 row5\" >lr</th>\n",
       "                        <td id=\"T_f8aee_row5_col0\" class=\"data row5 col0\" >Linear Regression</td>\n",
       "                        <td id=\"T_f8aee_row5_col1\" class=\"data row5 col1\" >203157.1562</td>\n",
       "                        <td id=\"T_f8aee_row5_col2\" class=\"data row5 col2\" >72012696234.6667</td>\n",
       "                        <td id=\"T_f8aee_row5_col3\" class=\"data row5 col3\" >268320.1146</td>\n",
       "                        <td id=\"T_f8aee_row5_col4\" class=\"data row5 col4\" >0.6601</td>\n",
       "                        <td id=\"T_f8aee_row5_col5\" class=\"data row5 col5\" >0.1957</td>\n",
       "                        <td id=\"T_f8aee_row5_col6\" class=\"data row5 col6\" >0.1462</td>\n",
       "                        <td id=\"T_f8aee_row5_col7\" class=\"data row5 col7\" >4.4267</td>\n",
       "            </tr>\n",
       "            <tr>\n",
       "                        <th id=\"T_f8aee_level0_row6\" class=\"row_heading level0 row6\" >lasso</th>\n",
       "                        <td id=\"T_f8aee_row6_col0\" class=\"data row6 col0\" >Lasso Regression</td>\n",
       "                        <td id=\"T_f8aee_row6_col1\" class=\"data row6 col1\" >203089.3177</td>\n",
       "                        <td id=\"T_f8aee_row6_col2\" class=\"data row6 col2\" >71959057749.3333</td>\n",
       "                        <td id=\"T_f8aee_row6_col3\" class=\"data row6 col3\" >268217.1250</td>\n",
       "                        <td id=\"T_f8aee_row6_col4\" class=\"data row6 col4\" >0.6603</td>\n",
       "                        <td id=\"T_f8aee_row6_col5\" class=\"data row6 col5\" >0.1957</td>\n",
       "                        <td id=\"T_f8aee_row6_col6\" class=\"data row6 col6\" >0.1462</td>\n",
       "                        <td id=\"T_f8aee_row6_col7\" class=\"data row6 col7\" >11.0700</td>\n",
       "            </tr>\n",
       "            <tr>\n",
       "                        <th id=\"T_f8aee_level0_row7\" class=\"row_heading level0 row7\" >ridge</th>\n",
       "                        <td id=\"T_f8aee_row7_col0\" class=\"data row7 col0\" >Ridge Regression</td>\n",
       "                        <td id=\"T_f8aee_row7_col1\" class=\"data row7 col1\" >203066.3177</td>\n",
       "                        <td id=\"T_f8aee_row7_col2\" class=\"data row7 col2\" >71954535765.3333</td>\n",
       "                        <td id=\"T_f8aee_row7_col3\" class=\"data row7 col3\" >268208.2917</td>\n",
       "                        <td id=\"T_f8aee_row7_col4\" class=\"data row7 col4\" >0.6603</td>\n",
       "                        <td id=\"T_f8aee_row7_col5\" class=\"data row7 col5\" >0.1957</td>\n",
       "                        <td id=\"T_f8aee_row7_col6\" class=\"data row7 col6\" >0.1462</td>\n",
       "                        <td id=\"T_f8aee_row7_col7\" class=\"data row7 col7\" >10.2133</td>\n",
       "            </tr>\n",
       "            <tr>\n",
       "                        <th id=\"T_f8aee_level0_row8\" class=\"row_heading level0 row8\" >llar</th>\n",
       "                        <td id=\"T_f8aee_row8_col0\" class=\"data row8 col0\" >Lasso Least Angle Regression</td>\n",
       "                        <td id=\"T_f8aee_row8_col1\" class=\"data row8 col1\" >203054.9726</td>\n",
       "                        <td id=\"T_f8aee_row8_col2\" class=\"data row8 col2\" >71952301366.2745</td>\n",
       "                        <td id=\"T_f8aee_row8_col3\" class=\"data row8 col3\" >268204.6772</td>\n",
       "                        <td id=\"T_f8aee_row8_col4\" class=\"data row8 col4\" >0.6604</td>\n",
       "                        <td id=\"T_f8aee_row8_col5\" class=\"data row8 col5\" >0.1957</td>\n",
       "                        <td id=\"T_f8aee_row8_col6\" class=\"data row8 col6\" >0.1462</td>\n",
       "                        <td id=\"T_f8aee_row8_col7\" class=\"data row8 col7\" >0.1167</td>\n",
       "            </tr>\n",
       "            <tr>\n",
       "                        <th id=\"T_f8aee_level0_row9\" class=\"row_heading level0 row9\" >br</th>\n",
       "                        <td id=\"T_f8aee_row9_col0\" class=\"data row9 col0\" >Bayesian Ridge</td>\n",
       "                        <td id=\"T_f8aee_row9_col1\" class=\"data row9 col1\" >203037.2642</td>\n",
       "                        <td id=\"T_f8aee_row9_col2\" class=\"data row9 col2\" >71960110548.1874</td>\n",
       "                        <td id=\"T_f8aee_row9_col3\" class=\"data row9 col3\" >268217.8183</td>\n",
       "                        <td id=\"T_f8aee_row9_col4\" class=\"data row9 col4\" >0.6603</td>\n",
       "                        <td id=\"T_f8aee_row9_col5\" class=\"data row9 col5\" >0.1957</td>\n",
       "                        <td id=\"T_f8aee_row9_col6\" class=\"data row9 col6\" >0.1462</td>\n",
       "                        <td id=\"T_f8aee_row9_col7\" class=\"data row9 col7\" >0.1200</td>\n",
       "            </tr>\n",
       "            <tr>\n",
       "                        <th id=\"T_f8aee_level0_row10\" class=\"row_heading level0 row10\" >lar</th>\n",
       "                        <td id=\"T_f8aee_row10_col0\" class=\"data row10 col0\" >Least Angle Regression</td>\n",
       "                        <td id=\"T_f8aee_row10_col1\" class=\"data row10 col1\" >205612.3757</td>\n",
       "                        <td id=\"T_f8aee_row10_col2\" class=\"data row10 col2\" >73347388093.2523</td>\n",
       "                        <td id=\"T_f8aee_row10_col3\" class=\"data row10 col3\" >270733.5544</td>\n",
       "                        <td id=\"T_f8aee_row10_col4\" class=\"data row10 col4\" >0.6538</td>\n",
       "                        <td id=\"T_f8aee_row10_col5\" class=\"data row10 col5\" >0.1968</td>\n",
       "                        <td id=\"T_f8aee_row10_col6\" class=\"data row10 col6\" >0.1476</td>\n",
       "                        <td id=\"T_f8aee_row10_col7\" class=\"data row10 col7\" >0.1133</td>\n",
       "            </tr>\n",
       "            <tr>\n",
       "                        <th id=\"T_f8aee_level0_row11\" class=\"row_heading level0 row11\" >huber</th>\n",
       "                        <td id=\"T_f8aee_row11_col0\" class=\"data row11 col0\" >Huber Regressor</td>\n",
       "                        <td id=\"T_f8aee_row11_col1\" class=\"data row11 col1\" >201072.1814</td>\n",
       "                        <td id=\"T_f8aee_row11_col2\" class=\"data row11 col2\" >73912984661.2756</td>\n",
       "                        <td id=\"T_f8aee_row11_col3\" class=\"data row11 col3\" >271817.0057</td>\n",
       "                        <td id=\"T_f8aee_row11_col4\" class=\"data row11 col4\" >0.6511</td>\n",
       "                        <td id=\"T_f8aee_row11_col5\" class=\"data row11 col5\" >0.1999</td>\n",
       "                        <td id=\"T_f8aee_row11_col6\" class=\"data row11 col6\" >0.1476</td>\n",
       "                        <td id=\"T_f8aee_row11_col7\" class=\"data row11 col7\" >0.8700</td>\n",
       "            </tr>\n",
       "            <tr>\n",
       "                        <th id=\"T_f8aee_level0_row12\" class=\"row_heading level0 row12\" >dt</th>\n",
       "                        <td id=\"T_f8aee_row12_col0\" class=\"data row12 col0\" >Decision Tree Regressor</td>\n",
       "                        <td id=\"T_f8aee_row12_col1\" class=\"data row12 col1\" >226163.2062</td>\n",
       "                        <td id=\"T_f8aee_row12_col2\" class=\"data row12 col2\" >98937478015.7147</td>\n",
       "                        <td id=\"T_f8aee_row12_col3\" class=\"data row12 col3\" >313400.0442</td>\n",
       "                        <td id=\"T_f8aee_row12_col4\" class=\"data row12 col4\" >0.5320</td>\n",
       "                        <td id=\"T_f8aee_row12_col5\" class=\"data row12 col5\" >0.2131</td>\n",
       "                        <td id=\"T_f8aee_row12_col6\" class=\"data row12 col6\" >0.1495</td>\n",
       "                        <td id=\"T_f8aee_row12_col7\" class=\"data row12 col7\" >0.3367</td>\n",
       "            </tr>\n",
       "            <tr>\n",
       "                        <th id=\"T_f8aee_level0_row13\" class=\"row_heading level0 row13\" >ada</th>\n",
       "                        <td id=\"T_f8aee_row13_col0\" class=\"data row13 col0\" >AdaBoost Regressor</td>\n",
       "                        <td id=\"T_f8aee_row13_col1\" class=\"data row13 col1\" >259298.7814</td>\n",
       "                        <td id=\"T_f8aee_row13_col2\" class=\"data row13 col2\" >103763268031.5256</td>\n",
       "                        <td id=\"T_f8aee_row13_col3\" class=\"data row13 col3\" >322113.6869</td>\n",
       "                        <td id=\"T_f8aee_row13_col4\" class=\"data row13 col4\" >0.5103</td>\n",
       "                        <td id=\"T_f8aee_row13_col5\" class=\"data row13 col5\" >0.2287</td>\n",
       "                        <td id=\"T_f8aee_row13_col6\" class=\"data row13 col6\" >0.1877</td>\n",
       "                        <td id=\"T_f8aee_row13_col7\" class=\"data row13 col7\" >2.1833</td>\n",
       "            </tr>\n",
       "            <tr>\n",
       "                        <th id=\"T_f8aee_level0_row14\" class=\"row_heading level0 row14\" >omp</th>\n",
       "                        <td id=\"T_f8aee_row14_col0\" class=\"data row14 col0\" >Orthogonal Matching Pursuit</td>\n",
       "                        <td id=\"T_f8aee_row14_col1\" class=\"data row14 col1\" >279973.7445</td>\n",
       "                        <td id=\"T_f8aee_row14_col2\" class=\"data row14 col2\" >125761107050.4488</td>\n",
       "                        <td id=\"T_f8aee_row14_col3\" class=\"data row14 col3\" >354614.4538</td>\n",
       "                        <td id=\"T_f8aee_row14_col4\" class=\"data row14 col4\" >0.4064</td>\n",
       "                        <td id=\"T_f8aee_row14_col5\" class=\"data row14 col5\" >0.2503</td>\n",
       "                        <td id=\"T_f8aee_row14_col6\" class=\"data row14 col6\" >0.2015</td>\n",
       "                        <td id=\"T_f8aee_row14_col7\" class=\"data row14 col7\" >0.0867</td>\n",
       "            </tr>\n",
       "            <tr>\n",
       "                        <th id=\"T_f8aee_level0_row15\" class=\"row_heading level0 row15\" >en</th>\n",
       "                        <td id=\"T_f8aee_row15_col0\" class=\"data row15 col0\" >Elastic Net</td>\n",
       "                        <td id=\"T_f8aee_row15_col1\" class=\"data row15 col1\" >290465.7083</td>\n",
       "                        <td id=\"T_f8aee_row15_col2\" class=\"data row15 col2\" >135633207296.0000</td>\n",
       "                        <td id=\"T_f8aee_row15_col3\" class=\"data row15 col3\" >368268.5521</td>\n",
       "                        <td id=\"T_f8aee_row15_col4\" class=\"data row15 col4\" >0.3598</td>\n",
       "                        <td id=\"T_f8aee_row15_col5\" class=\"data row15 col5\" >0.2529</td>\n",
       "                        <td id=\"T_f8aee_row15_col6\" class=\"data row15 col6\" >0.2076</td>\n",
       "                        <td id=\"T_f8aee_row15_col7\" class=\"data row15 col7\" >0.0333</td>\n",
       "            </tr>\n",
       "            <tr>\n",
       "                        <th id=\"T_f8aee_level0_row16\" class=\"row_heading level0 row16\" >par</th>\n",
       "                        <td id=\"T_f8aee_row16_col0\" class=\"data row16 col0\" >Passive Aggressive Regressor</td>\n",
       "                        <td id=\"T_f8aee_row16_col1\" class=\"data row16 col1\" >256418.5901</td>\n",
       "                        <td id=\"T_f8aee_row16_col2\" class=\"data row16 col2\" >124338383697.8162</td>\n",
       "                        <td id=\"T_f8aee_row16_col3\" class=\"data row16 col3\" >351665.1154</td>\n",
       "                        <td id=\"T_f8aee_row16_col4\" class=\"data row16 col4\" >0.4120</td>\n",
       "                        <td id=\"T_f8aee_row16_col5\" class=\"data row16 col5\" >0.2614</td>\n",
       "                        <td id=\"T_f8aee_row16_col6\" class=\"data row16 col6\" >0.1810</td>\n",
       "                        <td id=\"T_f8aee_row16_col7\" class=\"data row16 col7\" >1.8733</td>\n",
       "            </tr>\n",
       "    </tbody></table>"
      ],
      "text/plain": [
       "<pandas.io.formats.style.Styler at 0x1e221c63f10>"
      ]
     },
     "metadata": {},
     "output_type": "display_data"
    },
    {
     "name": "stdout",
     "output_type": "stream",
     "text": [
      "[LGBMRegressor(boosting_type='gbdt', class_weight=None, colsample_bytree=1.0,\n",
      "              importance_type='split', learning_rate=0.1, max_depth=-1,\n",
      "              min_child_samples=20, min_child_weight=0.001, min_split_gain=0.0,\n",
      "              n_estimators=100, n_jobs=-1, num_leaves=31, objective=None,\n",
      "              random_state=0, reg_alpha=0.0, reg_lambda=0.0, silent=True,\n",
      "              subsample=1.0, subsample_for_bin=200000, subsample_freq=0), ExtraTreesRegressor(bootstrap=False, ccp_alpha=0.0, criterion='mse',\n",
      "                    max_depth=None, max_features='auto', max_leaf_nodes=None,\n",
      "                    max_samples=None, min_impurity_decrease=0.0,\n",
      "                    min_impurity_split=None, min_samples_leaf=1,\n",
      "                    min_samples_split=2, min_weight_fraction_leaf=0.0,\n",
      "                    n_estimators=100, n_jobs=-1, oob_score=False,\n",
      "                    random_state=0, verbose=0, warm_start=False), RandomForestRegressor(bootstrap=True, ccp_alpha=0.0, criterion='mse',\n",
      "                      max_depth=None, max_features='auto', max_leaf_nodes=None,\n",
      "                      max_samples=None, min_impurity_decrease=0.0,\n",
      "                      min_impurity_split=None, min_samples_leaf=1,\n",
      "                      min_samples_split=2, min_weight_fraction_leaf=0.0,\n",
      "                      n_estimators=100, n_jobs=-1, oob_score=False,\n",
      "                      random_state=0, verbose=0, warm_start=False), GradientBoostingRegressor(alpha=0.9, ccp_alpha=0.0, criterion='friedman_mse',\n",
      "                          init=None, learning_rate=0.1, loss='ls', max_depth=3,\n",
      "                          max_features=None, max_leaf_nodes=None,\n",
      "                          min_impurity_decrease=0.0, min_impurity_split=None,\n",
      "                          min_samples_leaf=1, min_samples_split=2,\n",
      "                          min_weight_fraction_leaf=0.0, n_estimators=100,\n",
      "                          n_iter_no_change=None, presort='deprecated',\n",
      "                          random_state=0, subsample=1.0, tol=0.0001,\n",
      "                          validation_fraction=0.1, verbose=0, warm_start=False), KNeighborsRegressor(algorithm='auto', leaf_size=30, metric='minkowski',\n",
      "                    metric_params=None, n_jobs=-1, n_neighbors=5, p=2,\n",
      "                    weights='uniform')]\n"
     ]
    }
   ],
   "source": [
    "best_5_d = compare_models(sort = 'RMSLE', n_select = 5)\n",
    "print(best_5_d)"
   ]
  },
  {
   "cell_type": "markdown",
   "id": "7312c3e1",
   "metadata": {},
   "source": [
    "#### (2)  모델 생성 및 튜닝 (단일 모델 3개 / 배깅 모델 3개 / 부스팅 3개 / 블렌딩 3개)\n",
    "- RMSLE을 기준으로 상위 모델 선정 \n",
    "- 단 다른 5개의 성능 지표 비교해서 결정"
   ]
  },
  {
   "cell_type": "code",
   "execution_count": 9,
   "id": "3e86edb5",
   "metadata": {},
   "outputs": [],
   "source": [
    "tuned_models = []"
   ]
  },
  {
   "cell_type": "code",
   "execution_count": null,
   "id": "d16a929d",
   "metadata": {},
   "outputs": [
    {
     "data": {
      "text/html": [
       "<style  type=\"text/css\" >\n",
       "#T_51dd3_row3_col0,#T_51dd3_row3_col1,#T_51dd3_row3_col2,#T_51dd3_row3_col3,#T_51dd3_row3_col4,#T_51dd3_row3_col5{\n",
       "            background:  yellow;\n",
       "        }</style><table id=\"T_51dd3_\" ><thead>    <tr>        <th class=\"blank level0\" ></th>        <th class=\"col_heading level0 col0\" >MAE</th>        <th class=\"col_heading level0 col1\" >MSE</th>        <th class=\"col_heading level0 col2\" >RMSE</th>        <th class=\"col_heading level0 col3\" >R2</th>        <th class=\"col_heading level0 col4\" >RMSLE</th>        <th class=\"col_heading level0 col5\" >MAPE</th>    </tr></thead><tbody>\n",
       "                <tr>\n",
       "                        <th id=\"T_51dd3_level0_row0\" class=\"row_heading level0 row0\" >0</th>\n",
       "                        <td id=\"T_51dd3_row0_col0\" class=\"data row0 col0\" >147097.0617</td>\n",
       "                        <td id=\"T_51dd3_row0_col1\" class=\"data row0 col1\" >40544935871.3700</td>\n",
       "                        <td id=\"T_51dd3_row0_col2\" class=\"data row0 col2\" >201357.7311</td>\n",
       "                        <td id=\"T_51dd3_row0_col3\" class=\"data row0 col3\" >0.8051</td>\n",
       "                        <td id=\"T_51dd3_row0_col4\" class=\"data row0 col4\" >0.1367</td>\n",
       "                        <td id=\"T_51dd3_row0_col5\" class=\"data row0 col5\" >0.0997</td>\n",
       "            </tr>\n",
       "            <tr>\n",
       "                        <th id=\"T_51dd3_level0_row1\" class=\"row_heading level0 row1\" >1</th>\n",
       "                        <td id=\"T_51dd3_row1_col0\" class=\"data row1 col0\" >136238.9665</td>\n",
       "                        <td id=\"T_51dd3_row1_col1\" class=\"data row1 col1\" >36099591280.1123</td>\n",
       "                        <td id=\"T_51dd3_row1_col2\" class=\"data row1 col2\" >189998.9244</td>\n",
       "                        <td id=\"T_51dd3_row1_col3\" class=\"data row1 col3\" >0.8311</td>\n",
       "                        <td id=\"T_51dd3_row1_col4\" class=\"data row1 col4\" >0.1275</td>\n",
       "                        <td id=\"T_51dd3_row1_col5\" class=\"data row1 col5\" >0.0915</td>\n",
       "            </tr>\n",
       "            <tr>\n",
       "                        <th id=\"T_51dd3_level0_row2\" class=\"row_heading level0 row2\" >2</th>\n",
       "                        <td id=\"T_51dd3_row2_col0\" class=\"data row2 col0\" >135459.2128</td>\n",
       "                        <td id=\"T_51dd3_row2_col1\" class=\"data row2 col1\" >35510492458.6842</td>\n",
       "                        <td id=\"T_51dd3_row2_col2\" class=\"data row2 col2\" >188442.2789</td>\n",
       "                        <td id=\"T_51dd3_row2_col3\" class=\"data row2 col3\" >0.8340</td>\n",
       "                        <td id=\"T_51dd3_row2_col4\" class=\"data row2 col4\" >0.1287</td>\n",
       "                        <td id=\"T_51dd3_row2_col5\" class=\"data row2 col5\" >0.0913</td>\n",
       "            </tr>\n",
       "            <tr>\n",
       "                        <th id=\"T_51dd3_level0_row3\" class=\"row_heading level0 row3\" >Mean</th>\n",
       "                        <td id=\"T_51dd3_row3_col0\" class=\"data row3 col0\" >139598.4136</td>\n",
       "                        <td id=\"T_51dd3_row3_col1\" class=\"data row3 col1\" >37385006536.7222</td>\n",
       "                        <td id=\"T_51dd3_row3_col2\" class=\"data row3 col2\" >193266.3115</td>\n",
       "                        <td id=\"T_51dd3_row3_col3\" class=\"data row3 col3\" >0.8234</td>\n",
       "                        <td id=\"T_51dd3_row3_col4\" class=\"data row3 col4\" >0.1310</td>\n",
       "                        <td id=\"T_51dd3_row3_col5\" class=\"data row3 col5\" >0.0942</td>\n",
       "            </tr>\n",
       "            <tr>\n",
       "                        <th id=\"T_51dd3_level0_row4\" class=\"row_heading level0 row4\" >SD</th>\n",
       "                        <td id=\"T_51dd3_row4_col0\" class=\"data row4 col0\" >5311.8920</td>\n",
       "                        <td id=\"T_51dd3_row4_col1\" class=\"data row4 col1\" >2247313122.4239</td>\n",
       "                        <td id=\"T_51dd3_row4_col2\" class=\"data row4 col2\" >5756.6825</td>\n",
       "                        <td id=\"T_51dd3_row4_col3\" class=\"data row4 col3\" >0.0130</td>\n",
       "                        <td id=\"T_51dd3_row4_col4\" class=\"data row4 col4\" >0.0041</td>\n",
       "                        <td id=\"T_51dd3_row4_col5\" class=\"data row4 col5\" >0.0039</td>\n",
       "            </tr>\n",
       "    </tbody></table>"
      ],
      "text/plain": [
       "<pandas.io.formats.style.Styler at 0x299a8e38730>"
      ]
     },
     "metadata": {},
     "output_type": "display_data"
    },
    {
     "data": {
      "application/vnd.jupyter.widget-view+json": {
       "model_id": "b7a5f473b3a34d76852cf5c82784c8e8",
       "version_major": 2,
       "version_minor": 0
      },
      "text/plain": [
       "IntProgress(value=0, description='Processing: ', max=7)"
      ]
     },
     "metadata": {},
     "output_type": "display_data"
    },
    {
     "data": {
      "text/html": [
       "<div>\n",
       "<style scoped>\n",
       "    .dataframe tbody tr th:only-of-type {\n",
       "        vertical-align: middle;\n",
       "    }\n",
       "\n",
       "    .dataframe tbody tr th {\n",
       "        vertical-align: top;\n",
       "    }\n",
       "\n",
       "    .dataframe thead th {\n",
       "        text-align: right;\n",
       "    }\n",
       "</style>\n",
       "<table border=\"1\" class=\"dataframe\">\n",
       "  <thead>\n",
       "    <tr style=\"text-align: right;\">\n",
       "      <th></th>\n",
       "      <th></th>\n",
       "      <th></th>\n",
       "    </tr>\n",
       "    <tr>\n",
       "      <th></th>\n",
       "      <th></th>\n",
       "      <th></th>\n",
       "    </tr>\n",
       "  </thead>\n",
       "  <tbody>\n",
       "    <tr>\n",
       "      <th>Initiated</th>\n",
       "      <td>. . . . . . . . . . . . . . . . . .</td>\n",
       "      <td>17:31:46</td>\n",
       "    </tr>\n",
       "    <tr>\n",
       "      <th>Status</th>\n",
       "      <td>. . . . . . . . . . . . . . . . . .</td>\n",
       "      <td>Searching Hyperparameters</td>\n",
       "    </tr>\n",
       "    <tr>\n",
       "      <th>Estimator</th>\n",
       "      <td>. . . . . . . . . . . . . . . . . .</td>\n",
       "      <td>Extra Trees Regressor</td>\n",
       "    </tr>\n",
       "  </tbody>\n",
       "</table>\n",
       "</div>"
      ],
      "text/plain": [
       "                                                                         \n",
       "                                                                         \n",
       "Initiated  . . . . . . . . . . . . . . . . . .                   17:31:46\n",
       "Status     . . . . . . . . . . . . . . . . . .  Searching Hyperparameters\n",
       "Estimator  . . . . . . . . . . . . . . . . . .      Extra Trees Regressor"
      ]
     },
     "metadata": {},
     "output_type": "display_data"
    },
    {
     "data": {
      "text/html": [
       "<div>\n",
       "<style scoped>\n",
       "    .dataframe tbody tr th:only-of-type {\n",
       "        vertical-align: middle;\n",
       "    }\n",
       "\n",
       "    .dataframe tbody tr th {\n",
       "        vertical-align: top;\n",
       "    }\n",
       "\n",
       "    .dataframe thead th {\n",
       "        text-align: right;\n",
       "    }\n",
       "</style>\n",
       "<table border=\"1\" class=\"dataframe\">\n",
       "  <thead>\n",
       "    <tr style=\"text-align: right;\">\n",
       "      <th></th>\n",
       "      <th>MAE</th>\n",
       "      <th>MSE</th>\n",
       "      <th>RMSE</th>\n",
       "      <th>R2</th>\n",
       "      <th>RMSLE</th>\n",
       "      <th>MAPE</th>\n",
       "    </tr>\n",
       "  </thead>\n",
       "  <tbody>\n",
       "  </tbody>\n",
       "</table>\n",
       "</div>"
      ],
      "text/plain": [
       "Empty DataFrame\n",
       "Columns: [MAE, MSE, RMSE, R2, RMSLE, MAPE]\n",
       "Index: []"
      ]
     },
     "metadata": {},
     "output_type": "display_data"
    },
    {
     "name": "stdout",
     "output_type": "stream",
     "text": [
      "Fitting 3 folds for each of 100 candidates, totalling 300 fits\n"
     ]
    },
    {
     "name": "stderr",
     "output_type": "stream",
     "text": [
      "[Parallel(n_jobs=-1)]: Using backend LokyBackend with 8 concurrent workers.\n",
      "[Parallel(n_jobs=-1)]: Done  34 tasks      | elapsed: 14.5min\n",
      "[Parallel(n_jobs=-1)]: Done 184 tasks      | elapsed: 76.2min\n"
     ]
    }
   ],
   "source": [
    "### 상위 모델 1번 : Extra Tree Regressor\n",
    "model_01 = create_model(\"et\")\n",
    "\n",
    "model_01 = tune_model(model_01, fold= 3, n_iter = 100, optimize = 'RMSLE', verbose = True, choose_better = True)\n",
    "tuned_models.append(model_01)"
   ]
  },
  {
   "cell_type": "code",
   "execution_count": null,
   "id": "052bc919",
   "metadata": {},
   "outputs": [],
   "source": [
    "### 상위 모델 2번 : random forest\n",
    "model_02 = create_model(\"gbr\")\n",
    "\n",
    "model_02 = tune_model(model_02, fold= 3, n_iter = 100, optimize = 'RMSLE', verbose = True, choose_better = True)\n",
    "tuned_models.append(model_02)"
   ]
  },
  {
   "cell_type": "code",
   "execution_count": null,
   "id": "585afbe7",
   "metadata": {},
   "outputs": [],
   "source": [
    "#  Light Gradient Boosting Machine 튜닝 (상위 모델 3번)\n",
    "model_03 = create_model('lightgbm')\n",
    "\n",
    "model_03 = tune_model(model_03, fold= 3, n_iter = 100, optimize = 'RMSLE', verbose = True, choose_better = True)\n",
    "tuned_models.append(model_03)"
   ]
  },
  {
   "cell_type": "markdown",
   "id": "d2c61da7",
   "metadata": {},
   "source": [
    "배깅"
   ]
  },
  {
   "cell_type": "code",
   "execution_count": null,
   "id": "6a7bc8de",
   "metadata": {},
   "outputs": [],
   "source": [
    "prediction_models = []\n",
    "\n",
    "bag_01_15 = ensemble_model(model_01 , n_estimators = 100, fold=3, optimize = 'RMSLE')\n",
    "prediction_models.append(bag_01_15)\n",
    "\n",
    "bag_02_15 = ensemble_model(model_02, n_estimators = 100, fold=3, optimize = 'RMSLE')\n",
    "prediction_models.append(bag_02_15 )\n",
    "\n",
    "bag_03_15 = ensemble_model(model_03, n_estimators = 100, fold=3, optimize = 'RMSLE')\n",
    "prediction_models.append(bag_03_15)"
   ]
  },
  {
   "cell_type": "markdown",
   "id": "6c50e382",
   "metadata": {},
   "source": [
    "부스팅"
   ]
  },
  {
   "cell_type": "code",
   "execution_count": null,
   "id": "c55f5c42",
   "metadata": {},
   "outputs": [],
   "source": [
    "boo_01 = ensemble_model(model_01, method = 'Boosting', fold=3, optimize='RMSLE')\n",
    "prediction_models.append(boo_01)"
   ]
  },
  {
   "cell_type": "code",
   "execution_count": null,
   "id": "06ea9477",
   "metadata": {},
   "outputs": [],
   "source": [
    "boo_02 = ensemble_model(model_02, method = 'Boosting', fold=3, optimize='RMSLE')\n",
    "prediction_models.append(boo_02)"
   ]
  },
  {
   "cell_type": "code",
   "execution_count": null,
   "id": "8305b0f7",
   "metadata": {},
   "outputs": [],
   "source": [
    "boo_03 = ensemble_model(model_03, method = 'Boosting', fold=3, optimize='RMSLE')\n",
    "prediction_models.append(boo_03)"
   ]
  },
  {
   "cell_type": "markdown",
   "id": "94ec1bc3",
   "metadata": {},
   "source": [
    "블렌딩"
   ]
  },
  {
   "cell_type": "code",
   "execution_count": null,
   "id": "b30d24db",
   "metadata": {},
   "outputs": [],
   "source": [
    "blend_3_soft = blend_models(estimator_list=[model_01, model_02, model_03], fold=3, optimize='RMSLE')\n",
    "prediction_models.append(blend_3_soft)"
   ]
  },
  {
   "cell_type": "markdown",
   "id": "6faf0ae2",
   "metadata": {},
   "source": [
    "#### 생성된 모델에 대한 Train 데이터에 대한 성과 확인"
   ]
  },
  {
   "cell_type": "code",
   "execution_count": null,
   "id": "47c39936",
   "metadata": {},
   "outputs": [],
   "source": [
    "for model in tuned_models:\n",
    "    print(model.__class__.__name__)\n",
    "    display(predict_model(model))"
   ]
  },
  {
   "cell_type": "code",
   "execution_count": null,
   "id": "3750c347",
   "metadata": {},
   "outputs": [],
   "source": [
    "for model in prediction_models:\n",
    "    print(model.__class__.__name__)\n",
    "    display(predict_model(model))"
   ]
  },
  {
   "cell_type": "code",
   "execution_count": null,
   "id": "106c1c4c",
   "metadata": {},
   "outputs": [],
   "source": [
    "import winsound as sd\n",
    "def beepsound():\n",
    "    fr = 2000    # range : 37 ~ 32767\n",
    "    du = 1000     # 1000 ms ==1second\n",
    "    sd.Beep(fr, du) # winsound.Beep(frequency, duration)\n",
    "beepsound()"
   ]
  },
  {
   "cell_type": "markdown",
   "id": "f6f6107d",
   "metadata": {},
   "source": [
    "#### 최종 모델 결정 및 성능 평가(test) \n",
    "- 상위 모델 3개(일반적으로 단일 모델 1개 / 앙상블 모델 2개해서 적절하게 선택)\n",
    "- 선택된 최종 모델 3개에 대한 Test 성능 평가\n",
    "- 이후 3개의 모델에 대한 앙상블(평균)에 대해서 test 성능 평가 후 모델 결정"
   ]
  },
  {
   "cell_type": "code",
   "execution_count": null,
   "id": "2c01717d",
   "metadata": {},
   "outputs": [],
   "source": [
    "final_01 = finalize_model(model_03) # 성능 상위모델 1번: 단일모델 gbr\n",
    "final_02 = finalize_model(boo_02) # 성능 상위모델 2번: 부스팅 gbr\n",
    "final_03  = finalize_model(boo_03) # 성능 상위모델 3번: 부스팅 lgbm"
   ]
  },
  {
   "cell_type": "code",
   "execution_count": null,
   "id": "d6e41059",
   "metadata": {},
   "outputs": [],
   "source": [
    "from sklearn.metrics import r2_score\n",
    "value_list = [] # test를 통해 상위 3개의 모델에 대한 mse / r2값 확인 \n",
    "for model in [final_01, final_02, final_03]:\n",
    "    prediction_i = predict_model(model, data = x_test)\n",
    "    y_pred_i = prediction_i['Label']\n",
    "    \n",
    "    value_list.append(y_pred_i)\n",
    "    \n",
    "    y = y_test\n",
    "    rmsle_score = rmsle(y, y_pred_i)\n",
    "    r2score = r2_score(y, y_pred_i)\n",
    "    print(\"rmsle 값: {} // r2_score: {}\".format(rmsle_score, r2score))\n"
   ]
  },
  {
   "cell_type": "code",
   "execution_count": null,
   "id": "bd97bcf3",
   "metadata": {},
   "outputs": [],
   "source": [
    "# 피쳐 중요도 확인\n",
    "plot_model(, 'feature_all' )\n",
    "\n",
    "# 피쳐 중요도 확인\n",
    "plot_model(,\"residuals\" )\n",
    "\n",
    "# q-q-plot\n",
    "plot_model(,\"residuals_interactive\")"
   ]
  },
  {
   "cell_type": "code",
   "execution_count": null,
   "id": "fdbd04f4",
   "metadata": {},
   "outputs": [],
   "source": []
  }
 ],
 "metadata": {
  "kernelspec": {
   "display_name": "Python 3",
   "language": "python",
   "name": "python3"
  },
  "language_info": {
   "codemirror_mode": {
    "name": "ipython",
    "version": 3
   },
   "file_extension": ".py",
   "mimetype": "text/x-python",
   "name": "python",
   "nbconvert_exporter": "python",
   "pygments_lexer": "ipython3",
   "version": "3.8.8"
  }
 },
 "nbformat": 4,
 "nbformat_minor": 5
}
