{
 "cells": [
  {
   "cell_type": "markdown",
   "id": "1dfc5241",
   "metadata": {},
   "source": [
    "## 코로나 확진자 수 구하기"
   ]
  },
  {
   "cell_type": "code",
   "execution_count": 1,
   "id": "00970746",
   "metadata": {},
   "outputs": [],
   "source": [
    "import requests\n",
    "from bs4 import BeautifulSoup\n",
    "import glob, os\n",
    "import pandas as pd\n",
    "import warnings\n",
    "warnings.filterwarnings(\"ignore\")\n",
    "import urllib\n",
    "from urllib.parse import urlencode, quote_plus\n",
    "import requests\n",
    "from bs4 import BeautifulSoup\n",
    "import json\n",
    "import json\n",
    "from pandas import json_normalize"
   ]
  },
  {
   "cell_type": "code",
   "execution_count": 2,
   "id": "b5e002e0",
   "metadata": {},
   "outputs": [],
   "source": [
    "ServiceKey = \"/Vg1J8MmKzuTqcg1RFWfc3U7B6OLQGu28VZvd9EkkL7l0+IYsdB5Oe0eTm85cUMsNyjZVrFo7GC8fKNxLqKRDA==\"\n",
    "#ServiceKey = '%2FVg1J8MmKzuTqcg1RFWfc3U7B6OLQGu28VZvd9EkkL7l0%2BIYsdB5Oe0eTm85cUMsNyjZVrFo7GC8fKNxLqKRDA%3D%3D'\n",
    "open_url = 'http://openapi.data.go.kr/openapi/service/rest/Covid19/getCovid19SidoInfStateJson'\n"
   ]
  },
  {
   "cell_type": "code",
   "execution_count": 3,
   "id": "6744a216",
   "metadata": {},
   "outputs": [],
   "source": [
    "queryParams = '?' + urlencode({ quote_plus('ServiceKey') : ServiceKey,\n",
    "                               quote_plus('pageNo') : '1',\n",
    "                               quote_plus('numOfRows') : '10',\n",
    "                               quote_plus('startCreateDt') : '20200110',\n",
    "                               quote_plus('endCreateDt') : '20210831' })\n",
    "\n",
    "open_url_get = open_url + queryParams"
   ]
  },
  {
   "cell_type": "code",
   "execution_count": 4,
   "id": "d09b6a0f",
   "metadata": {},
   "outputs": [],
   "source": [
    "res = requests.get(open_url_get)\n",
    "datas = BeautifulSoup(res.content,\"html.parser\").find_all(\"item\")\n",
    "#info = json.loads(res.content)\n",
    "#json_normalize(info['data'][\"list\"])"
   ]
  },
  {
   "cell_type": "code",
   "execution_count": null,
   "id": "456b13dd",
   "metadata": {},
   "outputs": [],
   "source": []
  },
  {
   "cell_type": "code",
   "execution_count": 5,
   "id": "26b31127",
   "metadata": {},
   "outputs": [],
   "source": [
    "일자 = [] ; 사망자수 = [] ; 시도명 = [] ; 확진자수 = [] ; 지역발생수 = [] ; 발생률_10만명당 = []"
   ]
  },
  {
   "cell_type": "code",
   "execution_count": 6,
   "id": "eeca360e",
   "metadata": {},
   "outputs": [],
   "source": [
    "for data in datas:\n",
    "    일자.append(data.find(\"createdt\").get_text())\n",
    "    사망자수.append(data.find(\"deathcnt\").get_text())\n",
    "    시도명.append(data.find(\"gubun\").get_text())\n",
    "    확진자수.append(data.find(\"incdec\").get_text()) \n",
    "    #지역발생수.append(data.find(\"localocccnt\").get_text()) -> 지역 발생은 2020 4 9 까지 밖에 없음\n",
    "    발생률_10만명당.append(data.find(\"qurrate\").get_text())"
   ]
  },
  {
   "cell_type": "code",
   "execution_count": 7,
   "id": "76198206",
   "metadata": {},
   "outputs": [],
   "source": [
    "df = pd.DataFrame(columns = [\"일자\",\"사망자수\",\"시도명\",\"확진자수\",\"10만명당 발생률\"])\n",
    "\n",
    "df[\"일자\"] = 일자\n",
    "df[\"사망자수\"] = 사망자수\n",
    "df[\"시도명\"] = 시도명\n",
    "df[\"확진자수\"] = 확진자수\n",
    "df[\"10만명당 발생률\"] = 발생률_10만명당"
   ]
  },
  {
   "cell_type": "code",
   "execution_count": 8,
   "id": "d7b9130f",
   "metadata": {},
   "outputs": [],
   "source": [
    "jeju = df[df[\"시도명\"] == \"제주\"].reset_index(drop=True)\n",
    "jeju[\"일자\"] = jeju[\"일자\"].apply(lambda x : x[:10])\n",
    "jeju.loc[485,\"10만명당 발생률\"] = 0\n",
    "# 3월 2일 확진자 0로 만들어주기"
   ]
  },
  {
   "cell_type": "code",
   "execution_count": null,
   "id": "7691bcc2",
   "metadata": {},
   "outputs": [],
   "source": []
  },
  {
   "cell_type": "markdown",
   "id": "956a3ba9",
   "metadata": {},
   "source": [
    "3월 2일 이전에는 확진자가 없으니 전부다 0으로 만들어주기"
   ]
  },
  {
   "cell_type": "code",
   "execution_count": 11,
   "id": "df920f2b",
   "metadata": {},
   "outputs": [
    {
     "data": {
      "text/html": [
       "<div>\n",
       "<style scoped>\n",
       "    .dataframe tbody tr th:only-of-type {\n",
       "        vertical-align: middle;\n",
       "    }\n",
       "\n",
       "    .dataframe tbody tr th {\n",
       "        vertical-align: top;\n",
       "    }\n",
       "\n",
       "    .dataframe thead th {\n",
       "        text-align: right;\n",
       "    }\n",
       "</style>\n",
       "<table border=\"1\" class=\"dataframe\">\n",
       "  <thead>\n",
       "    <tr style=\"text-align: right;\">\n",
       "      <th></th>\n",
       "      <th>일자</th>\n",
       "      <th>사망자수</th>\n",
       "      <th>시도명</th>\n",
       "      <th>확진자수</th>\n",
       "      <th>10만명당 발생률</th>\n",
       "    </tr>\n",
       "  </thead>\n",
       "  <tbody>\n",
       "    <tr>\n",
       "      <th>546</th>\n",
       "      <td>2020-03-04</td>\n",
       "      <td>0</td>\n",
       "      <td>제주</td>\n",
       "      <td>0</td>\n",
       "      <td>0.4</td>\n",
       "    </tr>\n",
       "    <tr>\n",
       "      <th>547</th>\n",
       "      <td>2020-03-02</td>\n",
       "      <td>0</td>\n",
       "      <td>제주</td>\n",
       "      <td>0</td>\n",
       "      <td>NULL</td>\n",
       "    </tr>\n",
       "  </tbody>\n",
       "</table>\n",
       "</div>"
      ],
      "text/plain": [
       "             일자 사망자수 시도명 확진자수 10만명당 발생률\n",
       "546  2020-03-04    0  제주    0       0.4\n",
       "547  2020-03-02    0  제주    0      NULL"
      ]
     },
     "execution_count": 11,
     "metadata": {},
     "output_type": "execute_result"
    }
   ],
   "source": [
    "jeju.tail(2)"
   ]
  },
  {
   "cell_type": "code",
   "execution_count": 12,
   "id": "ca5e847b",
   "metadata": {},
   "outputs": [],
   "source": [
    "date = pd.date_range(\"2018-01-01\",\"2020-03-01\").astype(str)\n",
    "jeju_3월2일이전 = pd.DataFrame(columns=[\"날짜\",\"사망자수\",\"시도명\",\"확진자수\",\"10만명당 발생률\"])\n",
    "jeju_3월2일이전.columns = [\"일자\",\"사망자수\",\"시도명\",\"확진자수\",\"10만명당 발생률\"]\n",
    "jeju_3월2일이전[\"일자\"] = date\n",
    "jeju_3월2일이전[\"시도명\"] = \"제주\"\n",
    "jeju_3월2일이전[\"사망자수\"] = 0\n",
    "jeju_3월2일이전[\"확진자수\"] = 0\n",
    "jeju_3월2일이전[\"10만명당 발생률\"] = 0"
   ]
  },
  {
   "cell_type": "code",
   "execution_count": 13,
   "id": "f6f662d4",
   "metadata": {},
   "outputs": [
    {
     "data": {
      "text/html": [
       "<div>\n",
       "<style scoped>\n",
       "    .dataframe tbody tr th:only-of-type {\n",
       "        vertical-align: middle;\n",
       "    }\n",
       "\n",
       "    .dataframe tbody tr th {\n",
       "        vertical-align: top;\n",
       "    }\n",
       "\n",
       "    .dataframe thead th {\n",
       "        text-align: right;\n",
       "    }\n",
       "</style>\n",
       "<table border=\"1\" class=\"dataframe\">\n",
       "  <thead>\n",
       "    <tr style=\"text-align: right;\">\n",
       "      <th></th>\n",
       "      <th>일자</th>\n",
       "      <th>사망자수</th>\n",
       "      <th>시도명</th>\n",
       "      <th>확진자수</th>\n",
       "      <th>10만명당 발생률</th>\n",
       "    </tr>\n",
       "  </thead>\n",
       "  <tbody>\n",
       "    <tr>\n",
       "      <th>0</th>\n",
       "      <td>2018-01-01</td>\n",
       "      <td>0</td>\n",
       "      <td>제주</td>\n",
       "      <td>0</td>\n",
       "      <td>0</td>\n",
       "    </tr>\n",
       "    <tr>\n",
       "      <th>1</th>\n",
       "      <td>2018-01-02</td>\n",
       "      <td>0</td>\n",
       "      <td>제주</td>\n",
       "      <td>0</td>\n",
       "      <td>0</td>\n",
       "    </tr>\n",
       "  </tbody>\n",
       "</table>\n",
       "</div>"
      ],
      "text/plain": [
       "           일자  사망자수 시도명  확진자수  10만명당 발생률\n",
       "0  2018-01-01     0  제주     0          0\n",
       "1  2018-01-02     0  제주     0          0"
      ]
     },
     "execution_count": 13,
     "metadata": {},
     "output_type": "execute_result"
    }
   ],
   "source": [
    "jeju_3월2일이전.head(2)"
   ]
  },
  {
   "cell_type": "code",
   "execution_count": 14,
   "id": "f539cbda",
   "metadata": {},
   "outputs": [],
   "source": [
    "jeju_확진자수 = pd.concat([jeju,jeju_3월2일이전],axis=0,\n",
    "                      ignore_index=True).sort_values(\"일자\").drop(\"시도명\",axis=1).reset_index(drop=True)"
   ]
  },
  {
   "cell_type": "code",
   "execution_count": 15,
   "id": "5350c35a",
   "metadata": {},
   "outputs": [],
   "source": [
    "jeju_확진자수[\"일자\"] = pd.to_datetime(jeju_확진자수[\"일자\"],format=\"%Y-%m-%d\")\n",
    "jeju_확진자수[\"년\"] = jeju_확진자수[\"일자\"].apply(lambda x : x.year)\n",
    "jeju_확진자수[\"월\"] = jeju_확진자수[\"일자\"].apply(lambda x : x.month)\n",
    "jeju_확진자수[\"일\"] = jeju_확진자수[\"일자\"].apply(lambda x : x.day)"
   ]
  },
  {
   "cell_type": "code",
   "execution_count": 18,
   "id": "ca5adf7b",
   "metadata": {},
   "outputs": [],
   "source": [
    "jeju_확진자수.to_csv(\"제주도 일별확진자수 전처리완료.csv\",index=False,encoding=\"utf-8-sig\")"
   ]
  },
  {
   "cell_type": "markdown",
   "id": "b796ece1",
   "metadata": {},
   "source": [
    "## 제주 예상 승객"
   ]
  },
  {
   "cell_type": "code",
   "execution_count": 9,
   "id": "e4d022fa",
   "metadata": {},
   "outputs": [],
   "source": [
    "open_url = \"http://openapi.airport.co.kr/service/rest/dailyExpectPassenger/dailyExpectPassenger\"\n",
    "ServiceKey = \"/Vg1J8MmKzuTqcg1RFWfc3U7B6OLQGu28VZvd9EkkL7l0+IYsdB5Oe0eTm85cUMsNyjZVrFo7GC8fKNxLqKRDA==\""
   ]
  },
  {
   "cell_type": "code",
   "execution_count": 10,
   "id": "ffed6c9b",
   "metadata": {},
   "outputs": [],
   "source": [
    "def get_예상승객(date):\n",
    "    queryParams = '?' + urlencode({ quote_plus('ServiceKey') : ServiceKey,\n",
    "                                   quote_plus('schDate') : date,\n",
    "                                   quote_plus('schAirport') : 'CJU',\n",
    "                                   quote_plus('serviceKey') : ServiceKey })\n",
    "    \n",
    "    open_url_get = open_url + queryParams\n",
    "    res = requests.get(open_url_get)\n",
    "    datas = BeautifulSoup(res.content,\"html.parser\").find_all(\"item\")\n",
    "    \n",
    "    시간대 = [] ; 예상승객수 = [] ; 단체승객수 = []\n",
    "\n",
    "    for data in datas:\n",
    "        시간대.append(data.find(\"hh\").get_text())\n",
    "        예상승객수.append(data.find(\"pct\").get_text())\n",
    "        단체승객수.append(data.find(\"pcg\").get_text())\n",
    "    \n",
    "    res_df = pd.DataFrame(columns=[\"시간대\",\"예상승객수\",\"단체승객수\"])\n",
    "    res_df[\"시간대\"] = 시간대 ; res_df[\"예상승객수\"] = 예상승객수; res_df[\"단체승객수\"] = 단체승객수\n",
    "    \n",
    "    return res_df"
   ]
  },
  {
   "cell_type": "code",
   "execution_count": 11,
   "id": "149e0b47",
   "metadata": {},
   "outputs": [],
   "source": [
    "date = pd.date_range(\"2018-01-01\",\"2021-08-31\")\n",
    "date_str = []\n",
    "for i in date.strftime(\"%Y-%m-%d\"):\n",
    "    date_str.append(i.replace(\"-\",\"\"))"
   ]
  },
  {
   "cell_type": "markdown",
   "id": "e822d8d5",
   "metadata": {},
   "source": [
    "2018년부터 2021년까지 날짜 하나하나 씩 넣어주면서 get_예상승객 함수 돌리기\n",
    "- date_str : \"20180101\" ~ \"20210801\" 날짜데이터 문자열 형식으로"
   ]
  },
  {
   "cell_type": "code",
   "execution_count": 12,
   "id": "8fa403fe",
   "metadata": {},
   "outputs": [],
   "source": [
    "result_lst = []\n",
    "\n",
    "for date in date_str:\n",
    "    result_lst.append(get_예상승객(date))"
   ]
  },
  {
   "cell_type": "markdown",
   "id": "038c9410",
   "metadata": {},
   "source": [
    "각 날짜별 데이터프레임에 날짜 넣어주기 ex) \"20180101\""
   ]
  },
  {
   "cell_type": "code",
   "execution_count": 13,
   "id": "e6507510",
   "metadata": {},
   "outputs": [],
   "source": [
    "for i in range(len(result_lst)):\n",
    "    result_lst[i][\"날짜\"] = date_str[i]"
   ]
  },
  {
   "cell_type": "code",
   "execution_count": 14,
   "id": "42e6000f",
   "metadata": {},
   "outputs": [],
   "source": [
    "제주공항_예상승객수 = pd.concat(result_lst,axis=0)"
   ]
  },
  {
   "cell_type": "code",
   "execution_count": 16,
   "id": "a2377087",
   "metadata": {},
   "outputs": [
    {
     "data": {
      "text/html": [
       "<div>\n",
       "<style scoped>\n",
       "    .dataframe tbody tr th:only-of-type {\n",
       "        vertical-align: middle;\n",
       "    }\n",
       "\n",
       "    .dataframe tbody tr th {\n",
       "        vertical-align: top;\n",
       "    }\n",
       "\n",
       "    .dataframe thead th {\n",
       "        text-align: right;\n",
       "    }\n",
       "</style>\n",
       "<table border=\"1\" class=\"dataframe\">\n",
       "  <thead>\n",
       "    <tr style=\"text-align: right;\">\n",
       "      <th></th>\n",
       "      <th>시간대</th>\n",
       "      <th>예상승객수</th>\n",
       "      <th>단체승객수</th>\n",
       "      <th>날짜</th>\n",
       "    </tr>\n",
       "  </thead>\n",
       "  <tbody>\n",
       "    <tr>\n",
       "      <th>8</th>\n",
       "      <td>10</td>\n",
       "      <td>1111</td>\n",
       "      <td>0</td>\n",
       "      <td>20210831</td>\n",
       "    </tr>\n",
       "    <tr>\n",
       "      <th>9</th>\n",
       "      <td>11</td>\n",
       "      <td>1662</td>\n",
       "      <td>0</td>\n",
       "      <td>20210831</td>\n",
       "    </tr>\n",
       "  </tbody>\n",
       "</table>\n",
       "</div>"
      ],
      "text/plain": [
       "  시간대 예상승객수 단체승객수        날짜\n",
       "8  10  1111     0  20210831\n",
       "9  11  1662     0  20210831"
      ]
     },
     "execution_count": 16,
     "metadata": {},
     "output_type": "execute_result"
    }
   ],
   "source": [
    "제주공항_예상승객수.tail(2)"
   ]
  },
  {
   "cell_type": "code",
   "execution_count": 32,
   "id": "ad99b8e0",
   "metadata": {},
   "outputs": [],
   "source": [
    "#제주공항_예상승객수.to_csv(\"제주공항_예상승객수.csv\",index=False,encoding=\"utf-8-sig\")"
   ]
  },
  {
   "cell_type": "code",
   "execution_count": 33,
   "id": "485eab02",
   "metadata": {},
   "outputs": [],
   "source": [
    "#제주공항_예상승객수 = pd.read_csv(\"제주공항_예상승객수.csv\").sort_values([\"일자\",\"시간대\"])\n"
   ]
  },
  {
   "cell_type": "markdown",
   "id": "e9e280dd",
   "metadata": {},
   "source": [
    "날짜 데이터 생성해주기"
   ]
  },
  {
   "cell_type": "code",
   "execution_count": 34,
   "id": "0c097e0c",
   "metadata": {},
   "outputs": [],
   "source": [
    "제주공항_예상승객수.columns = [\"시간대\",\"예상승객수\",\"단체승객수\",\"일자\"]\n",
    "제주공항_예상승객수[\"일자\"] = pd.to_datetime(제주공항_예상승객수[\"일자\"],format=\"%Y-%m-%d\")\n",
    "제주공항_예상승객수[\"년\"] = 제주공항_예상승객수[\"일자\"].apply(lambda x : x.year)\n",
    "제주공항_예상승객수[\"월\"] = 제주공항_예상승객수[\"일자\"].apply(lambda x : x.month)\n",
    "제주공항_예상승객수[\"일\"] = 제주공항_예상승객수[\"일자\"].apply(lambda x : x.day)\n",
    "\n",
    "제주공항_예상승객수[\"예상승객수\"] = 제주공항_예상승객수[\"예상승객수\"].astype(int)"
   ]
  },
  {
   "cell_type": "markdown",
   "id": "72dd8ba1",
   "metadata": {},
   "source": [
    "### 일별로 데이터 정리"
   ]
  },
  {
   "cell_type": "code",
   "execution_count": 35,
   "id": "48d91525",
   "metadata": {},
   "outputs": [],
   "source": [
    "제주공항_예상승객수_일별 = 제주공항_예상승객수.groupby([\"일자\",\"년\",\n",
    "                                    \"월\",\"일\"]).agg({\"예상승객수\":[\"sum\",\"std\"]}).reset_index()"
   ]
  },
  {
   "cell_type": "code",
   "execution_count": 36,
   "id": "2e741650",
   "metadata": {},
   "outputs": [
    {
     "data": {
      "text/html": [
       "<div>\n",
       "<style scoped>\n",
       "    .dataframe tbody tr th:only-of-type {\n",
       "        vertical-align: middle;\n",
       "    }\n",
       "\n",
       "    .dataframe tbody tr th {\n",
       "        vertical-align: top;\n",
       "    }\n",
       "\n",
       "    .dataframe thead tr th {\n",
       "        text-align: left;\n",
       "    }\n",
       "</style>\n",
       "<table border=\"1\" class=\"dataframe\">\n",
       "  <thead>\n",
       "    <tr>\n",
       "      <th></th>\n",
       "      <th>일자</th>\n",
       "      <th>년</th>\n",
       "      <th>월</th>\n",
       "      <th>일</th>\n",
       "      <th colspan=\"2\" halign=\"left\">예상승객수</th>\n",
       "    </tr>\n",
       "    <tr>\n",
       "      <th></th>\n",
       "      <th></th>\n",
       "      <th></th>\n",
       "      <th></th>\n",
       "      <th></th>\n",
       "      <th>sum</th>\n",
       "      <th>std</th>\n",
       "    </tr>\n",
       "  </thead>\n",
       "  <tbody>\n",
       "    <tr>\n",
       "      <th>0</th>\n",
       "      <td>2018-01-01</td>\n",
       "      <td>2018</td>\n",
       "      <td>1</td>\n",
       "      <td>1</td>\n",
       "      <td>16217</td>\n",
       "      <td>1134.862698</td>\n",
       "    </tr>\n",
       "    <tr>\n",
       "      <th>1</th>\n",
       "      <td>2018-01-02</td>\n",
       "      <td>2018</td>\n",
       "      <td>1</td>\n",
       "      <td>2</td>\n",
       "      <td>16143</td>\n",
       "      <td>1039.262351</td>\n",
       "    </tr>\n",
       "    <tr>\n",
       "      <th>2</th>\n",
       "      <td>2018-01-03</td>\n",
       "      <td>2018</td>\n",
       "      <td>1</td>\n",
       "      <td>3</td>\n",
       "      <td>12486</td>\n",
       "      <td>1004.534408</td>\n",
       "    </tr>\n",
       "  </tbody>\n",
       "</table>\n",
       "</div>"
      ],
      "text/plain": [
       "          일자     년  월  일  예상승객수             \n",
       "                            sum          std\n",
       "0 2018-01-01  2018  1  1  16217  1134.862698\n",
       "1 2018-01-02  2018  1  2  16143  1039.262351\n",
       "2 2018-01-03  2018  1  3  12486  1004.534408"
      ]
     },
     "execution_count": 36,
     "metadata": {},
     "output_type": "execute_result"
    }
   ],
   "source": [
    "제주공항_예상승객수_일별.head(3)"
   ]
  },
  {
   "cell_type": "markdown",
   "id": "c31a0618",
   "metadata": {},
   "source": [
    "### 월별로 데이터 정리"
   ]
  },
  {
   "cell_type": "code",
   "execution_count": 37,
   "id": "f098b44e",
   "metadata": {},
   "outputs": [],
   "source": [
    "제주공항_예상승객수_월별 = 제주공항_예상승객수.groupby([\"년\",\"월\"]).agg({\"예상승객수\":[\"sum\",\"std\"]}).reset_index()"
   ]
  },
  {
   "cell_type": "code",
   "execution_count": 38,
   "id": "b1f07fa6",
   "metadata": {},
   "outputs": [
    {
     "data": {
      "text/html": [
       "<div>\n",
       "<style scoped>\n",
       "    .dataframe tbody tr th:only-of-type {\n",
       "        vertical-align: middle;\n",
       "    }\n",
       "\n",
       "    .dataframe tbody tr th {\n",
       "        vertical-align: top;\n",
       "    }\n",
       "\n",
       "    .dataframe thead tr th {\n",
       "        text-align: left;\n",
       "    }\n",
       "</style>\n",
       "<table border=\"1\" class=\"dataframe\">\n",
       "  <thead>\n",
       "    <tr>\n",
       "      <th></th>\n",
       "      <th>년</th>\n",
       "      <th>월</th>\n",
       "      <th colspan=\"2\" halign=\"left\">예상승객수</th>\n",
       "    </tr>\n",
       "    <tr>\n",
       "      <th></th>\n",
       "      <th></th>\n",
       "      <th></th>\n",
       "      <th>sum</th>\n",
       "      <th>std</th>\n",
       "    </tr>\n",
       "  </thead>\n",
       "  <tbody>\n",
       "    <tr>\n",
       "      <th>0</th>\n",
       "      <td>2018</td>\n",
       "      <td>1</td>\n",
       "      <td>394747</td>\n",
       "      <td>873.709080</td>\n",
       "    </tr>\n",
       "    <tr>\n",
       "      <th>1</th>\n",
       "      <td>2018</td>\n",
       "      <td>2</td>\n",
       "      <td>326065</td>\n",
       "      <td>821.357614</td>\n",
       "    </tr>\n",
       "    <tr>\n",
       "      <th>2</th>\n",
       "      <td>2018</td>\n",
       "      <td>3</td>\n",
       "      <td>339005</td>\n",
       "      <td>816.612698</td>\n",
       "    </tr>\n",
       "  </tbody>\n",
       "</table>\n",
       "</div>"
      ],
      "text/plain": [
       "      년  월   예상승객수            \n",
       "               sum         std\n",
       "0  2018  1  394747  873.709080\n",
       "1  2018  2  326065  821.357614\n",
       "2  2018  3  339005  816.612698"
      ]
     },
     "execution_count": 38,
     "metadata": {},
     "output_type": "execute_result"
    }
   ],
   "source": [
    "제주공항_예상승객수_월별.head(3)"
   ]
  },
  {
   "cell_type": "markdown",
   "id": "fd02c22b",
   "metadata": {},
   "source": [
    "### 월별데이터와 일별 데이터 결합\n",
    "- 제주공항_예상승객수_월별\n",
    "- 제주공항_예상승객수_일별\n",
    "- 제주공항_예상승객수_일별_월별"
   ]
  },
  {
   "cell_type": "code",
   "execution_count": 39,
   "id": "b84c8354",
   "metadata": {},
   "outputs": [],
   "source": [
    "제주공항_예상승객수_일별_월별 = pd.merge(제주공항_예상승객수_일별,제주공항_예상승객수_월별,\n",
    "                           on = [\"년\",\"월\"],how = \"inner\")\n",
    "제주공항_예상승객수_일별_월별.columns = [\"일자\",\"년\",\"월\",\"일\",\"일별예상승객총합\",\n",
    "                           \"일별예상승객편차\",\"월별예상승객총합\",\"월별예상승객편차\"]"
   ]
  },
  {
   "cell_type": "code",
   "execution_count": 40,
   "id": "4e8a780c",
   "metadata": {},
   "outputs": [],
   "source": [
    "제주공항_예상승객수_일별_월별[\"일별예상승객비율\"] = ( 제주공항_예상승객수_일별_월별[\"일별예상승객총합\"] /\n",
    "                                제주공항_예상승객수_일별_월별[\"월별예상승객총합\"] )"
   ]
  },
  {
   "cell_type": "code",
   "execution_count": 41,
   "id": "cc74546a",
   "metadata": {},
   "outputs": [],
   "source": [
    "제주공항_예상승객수_일별_월별.to_csv(\"제주공항_예상승객수 전처리완료.csv\",index=False,encoding=\"utf-8-sig\")"
   ]
  },
  {
   "cell_type": "code",
   "execution_count": null,
   "id": "99a92603",
   "metadata": {},
   "outputs": [],
   "source": []
  },
  {
   "cell_type": "code",
   "execution_count": null,
   "id": "c1d936bf",
   "metadata": {},
   "outputs": [],
   "source": []
  }
 ],
 "metadata": {
  "kernelspec": {
   "display_name": "Python 3",
   "language": "python",
   "name": "python3"
  },
  "language_info": {
   "codemirror_mode": {
    "name": "ipython",
    "version": 3
   },
   "file_extension": ".py",
   "mimetype": "text/x-python",
   "name": "python",
   "nbconvert_exporter": "python",
   "pygments_lexer": "ipython3",
   "version": "3.8.8"
  }
 },
 "nbformat": 4,
 "nbformat_minor": 5
}
