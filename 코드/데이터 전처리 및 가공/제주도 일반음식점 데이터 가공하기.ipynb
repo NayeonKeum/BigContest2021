{
 "cells": [
  {
   "cell_type": "markdown",
   "id": "7f52adce",
   "metadata": {},
   "source": [
    "## 제주시 일반음식점 현황\n",
    "- x,y 좌표 모두 EPSG:2097 좌표계"
   ]
  },
  {
   "cell_type": "code",
   "execution_count": 1,
   "id": "85609c98",
   "metadata": {},
   "outputs": [],
   "source": [
    "import warnings\n",
    "warnings.filterwarnings(\"ignore\")\n",
    "import pandas as pd"
   ]
  },
  {
   "cell_type": "code",
   "execution_count": 2,
   "id": "eb9a4c55",
   "metadata": {},
   "outputs": [],
   "source": [
    "\n",
    "일반음식점 =  pd.read_csv(\"행정안전부 일반음식점.csv\",low_memory=False,encoding=\"cp949\")"
   ]
  },
  {
   "cell_type": "code",
   "execution_count": 4,
   "id": "a2fee56b",
   "metadata": {},
   "outputs": [
    {
     "data": {
      "text/plain": [
       "Index(['번호', '개방서비스명', '개방서비스id', '개방자치단체코드', '관리번호', '인허가일자', '인허가취소일자',\n",
       "       '영업상태구분코드', '영업상태명', '상세영업상태코드', '상세영업상태명', '폐업일자', '휴업시작일자', '휴업종료일자',\n",
       "       '재개업일자', '소재지전화', '소재지면적', '소재지우편번호', '소재지전체주소', '도로명전체주소', '도로명우편번호',\n",
       "       '사업장명', '최종수정시점', '데이터갱신구분', '데이터갱신일자', '업태구분명', '좌표정보(x)', '좌표정보(y)',\n",
       "       '위생업태명', '남성종사자수', '여성종사자수', '영업장주변구분명', '등급구분명', '급수시설구분명', '총종업원수',\n",
       "       '본사종업원수', '공장사무직종업원수', '공장판매직종업원수', '공장생산직종업원수', '건물소유구분명', '보증액',\n",
       "       '월세액', '다중이용업소여부', '시설총규모', '전통업소지정번호', '전통업소주된음식', '홈페이지',\n",
       "       'Unnamed: 47'],\n",
       "      dtype='object')"
      ]
     },
     "execution_count": 4,
     "metadata": {},
     "output_type": "execute_result"
    }
   ],
   "source": [
    "일반음식점.columns"
   ]
  },
  {
   "cell_type": "code",
   "execution_count": 5,
   "id": "64943b50",
   "metadata": {},
   "outputs": [],
   "source": [
    "일반음식점_2 = 일반음식점.drop([\"번호\",\"개방서비스명\",\"개방서비스id\",\"관리번호\",\"보증액\",\"건물소유구분명\",\n",
    "                      '본사종업원수', '공장사무직종업원수', '공장판매직종업원수', '공장생산직종업원수',\n",
    "                      '최종수정시점', '데이터갱신구분', '데이터갱신일자','재개업일자', '소재지전화',\n",
    "                       \"인허가일자\",\"홈페이지\",\"월세액\",\"전통업소주된음식\",'Unnamed: 47','인허가일자', '인허가취소일자',\n",
    "                      \"영업상태구분코드\",'폐업일자', '휴업시작일자', '휴업종료일자','소재지우편번호',\n",
    "                      \"전통업소지정번호\",\"다중이용업소여부\"],axis=1)"
   ]
  },
  {
   "cell_type": "code",
   "execution_count": 7,
   "id": "b98c7e23",
   "metadata": {},
   "outputs": [],
   "source": [
    "일반음식점_2[\"시도\"] = 일반음식점_2[\"개방자치단체코드\"].apply(lambda x : str(x)[:2])"
   ]
  },
  {
   "cell_type": "code",
   "execution_count": 8,
   "id": "4f0356bf",
   "metadata": {},
   "outputs": [],
   "source": [
    "제주_일반음식점 = 일반음식점_2[일반음식점_2[\"시도\"] == \"65\"]\n",
    "제주_일반음식점 = 제주_일반음식점[제주_일반음식점[\"영업상태명\"] == \"영업/정상\"].reset_index(drop=True)"
   ]
  },
  {
   "cell_type": "code",
   "execution_count": 9,
   "id": "8d84ab7b",
   "metadata": {},
   "outputs": [],
   "source": [
    "제주_일반음식점.to_csv(\"제주도 일반음식점 현황.csv\",encoding=\"utf-8-sig\",index=False)"
   ]
  },
  {
   "cell_type": "code",
   "execution_count": 18,
   "id": "05980799",
   "metadata": {},
   "outputs": [],
   "source": [
    "제주_일반음식점_re = pd.read_csv(\"제주도 일반음식점 현황.csv\")"
   ]
  },
  {
   "cell_type": "code",
   "execution_count": 19,
   "id": "28e98b3e",
   "metadata": {},
   "outputs": [],
   "source": [
    "cnt = 0\n",
    "while cnt < len(제주_일반음식점_re):\n",
    "    if str(제주_일반음식점_re.loc[cnt,\"소재지전체주소\"]) == \"nan\":\n",
    "        제주_일반음식점_re.loc[cnt,\"주소\"] = 제주_일반음식점_re.loc[cnt,\"도로명전체주소\"]\n",
    "    else:\n",
    "        제주_일반음식점_re.loc[cnt,\"주소\"] = 제주_일반음식점_re.loc[cnt,\"소재지전체주소\"]\n",
    "    cnt+=1"
   ]
  },
  {
   "cell_type": "code",
   "execution_count": 20,
   "id": "d52a21b4",
   "metadata": {},
   "outputs": [],
   "source": [
    "제주_일반음식점_re.drop([\"소재지전체주소\",\"도로명전체주소\",\n",
    "                  \"업태구분명\",\"도로명우편번호\",\"소재지면적\"],axis=1,inplace=True)"
   ]
  },
  {
   "cell_type": "code",
   "execution_count": 28,
   "id": "7c644d17",
   "metadata": {},
   "outputs": [],
   "source": [
    "제주_일반음식점_re[\"법정동\"] = 제주_일반음식점_re[\"주소\"].apply(lambda x : x.split(\" \")[2])\n",
    "제주_일반음식점_re[\"시도\"] = 제주_일반음식점_re[\"주소\"].apply(lambda x : x.split(\" \")[1])\n",
    "#제주_일반음식점_re[\"법정동\"] = 제주_일반음식점_re[\"법정동\"].apply(lambda x : \" \".join(x))"
   ]
  },
  {
   "cell_type": "code",
   "execution_count": 29,
   "id": "c4ae64ff",
   "metadata": {},
   "outputs": [],
   "source": [
    "제주시_일반음식점_re = 제주_일반음식점_re[제주_일반음식점_re[\"시도\"] == \"제주시\"]\n",
    "서귀포시_일반음식점_re = 제주_일반음식점_re[제주_일반음식점_re[\"시도\"] == \"서귀포시\"]"
   ]
  },
  {
   "cell_type": "code",
   "execution_count": null,
   "id": "cb64bd13",
   "metadata": {},
   "outputs": [],
   "source": []
  },
  {
   "cell_type": "markdown",
   "id": "72925a08",
   "metadata": {},
   "source": [
    "좌표계 변환하기\n",
    "- 너무 오래걸림 ㅡㅡ"
   ]
  },
  {
   "cell_type": "code",
   "execution_count": 31,
   "id": "22f09983",
   "metadata": {},
   "outputs": [],
   "source": [
    "from pyproj import Proj, transform\n",
    "def get_좌표계변환(data,위도_col,경도_col):\n",
    "    # 중부원점(Bessel): 서울 등 중부지역 EPSG:2097\n",
    "    proj_1 = Proj(init='epsg:2097')\n",
    "    # WGS84 경위도: GPS가 사용하는 좌표계 EPSG:4326\n",
    "    proj_2 = Proj(init='epsg:4326')\n",
    "    위경도 = data[[경도_col,위도_col]]\n",
    "    위도 = [] ; 경도 = []\n",
    "    \n",
    "    DataFrame = 위경도.copy()\n",
    "    for idx, row in DataFrame.iterrows():\n",
    "        x, y = row[경도_col], row[위도_col]\n",
    "        x_, y_ = transform(proj_1, proj_2, x, y)\n",
    "        경도.append(x_)\n",
    "        위도.append(y_)\n",
    "    data[\"위도\"] = 위도  ; data[\"경도\"] = 경도\n",
    "    return data\n"
   ]
  },
  {
   "cell_type": "code",
   "execution_count": 32,
   "id": "426d5259",
   "metadata": {},
   "outputs": [],
   "source": [
    "서귀포시_일반음식점_위경도 = get_좌표계변환(서귀포시_일반음식점_re,\"좌표정보(y)\",\"좌표정보(x)\")"
   ]
  },
  {
   "cell_type": "code",
   "execution_count": 34,
   "id": "6ea8c229",
   "metadata": {},
   "outputs": [],
   "source": [
    "#서귀포시_일반음식점_위경도.to_csv(\"서귀포시 일반음식점 현황.csv\",index=False,encoding=\"utf-8-sig\")"
   ]
  },
  {
   "cell_type": "code",
   "execution_count": 35,
   "id": "77528c11",
   "metadata": {},
   "outputs": [],
   "source": [
    "제주시_일반음식점_위경도 = get_좌표계변환(제주시_일반음식점_re,\"좌표정보(y)\",\"좌표정보(x)\")"
   ]
  },
  {
   "cell_type": "code",
   "execution_count": 37,
   "id": "062914a4",
   "metadata": {},
   "outputs": [],
   "source": [
    "제주_일반음식점_위경도 = pd.concat([서귀포시_일반음식점_위경도,제주시_일반음식점_위경도],ignore_index=True,axis=0)\n",
    "제주_일반음식점_위경도.head(3)"
   ]
  },
  {
   "cell_type": "code",
   "execution_count": 40,
   "id": "3b727c4c",
   "metadata": {},
   "outputs": [],
   "source": [
    "제주_일반음식점_위경도.to_csv(\"제주도 일반음식점 현황 위경도.csv\",encoding=\"utf-8-sig\",index=False)"
   ]
  },
  {
   "cell_type": "code",
   "execution_count": null,
   "id": "3ca74f7b",
   "metadata": {},
   "outputs": [],
   "source": []
  },
  {
   "cell_type": "code",
   "execution_count": null,
   "id": "4dbc395b",
   "metadata": {},
   "outputs": [],
   "source": []
  },
  {
   "cell_type": "code",
   "execution_count": 15,
   "id": "e124aa6f",
   "metadata": {},
   "outputs": [],
   "source": [
    "DataFrame = 위경도.copy()\n",
    "for idx, row in DataFrame.iterrows():\n",
    "    x, y = row['좌표정보(x)'], row['좌표정보(y)']\n",
    "    x_, y_ = transform(proj_1, proj_2, x, y)\n",
    "    경도.append(x_)\n",
    "    위도.append(y_)"
   ]
  },
  {
   "cell_type": "code",
   "execution_count": null,
   "id": "f1a13f24",
   "metadata": {},
   "outputs": [],
   "source": [
    "DataFrame = 위경도.copy()\n",
    "cnt = 0\n",
    "while cnt < len(DataFrame):\n",
    "    x,y = DataFrame.iloc[cnt,0], DataFrame.iloc[cnt,1]\n",
    "    x_,y_ = transform(proj_1, proj_2, x, y)\n",
    "    경도.append(x_)\n",
    "    위도.append(y_)\n",
    "    cnt+=1"
   ]
  },
  {
   "cell_type": "code",
   "execution_count": 25,
   "id": "b1910032",
   "metadata": {},
   "outputs": [
    {
     "data": {
      "text/plain": [
       "51"
      ]
     },
     "execution_count": 25,
     "metadata": {},
     "output_type": "execute_result"
    }
   ],
   "source": [
    "len(경도)"
   ]
  }
 ],
 "metadata": {
  "kernelspec": {
   "display_name": "Python 3",
   "language": "python",
   "name": "python3"
  },
  "language_info": {
   "codemirror_mode": {
    "name": "ipython",
    "version": 3
   },
   "file_extension": ".py",
   "mimetype": "text/x-python",
   "name": "python",
   "nbconvert_exporter": "python",
   "pygments_lexer": "ipython3",
   "version": "3.8.8"
  }
 },
 "nbformat": 4,
 "nbformat_minor": 5
}
