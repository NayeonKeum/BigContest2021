{
 "cells": [
  {
   "cell_type": "code",
   "execution_count": 2,
   "id": "5062ae7e",
   "metadata": {},
   "outputs": [],
   "source": [
    "import pandas as pd\n",
    "import numpy as np\n",
    "import seaborn as sns\n",
    "import matplotlib.pyplot as plt\n",
    "import matplotlib\n",
    "import glob\n",
    "import os\n",
    "import seaborn as sns\n",
    "from matplotlib import font_manager, rc\n",
    "font_name = font_manager.FontProperties(fname=\"c:/Windows/Fonts/malgun.ttf\").get_name()\n",
    "rc('font', family=font_name)\n",
    "import warnings\n",
    "warnings.filterwarnings(\"ignore\")"
   ]
  },
  {
   "cell_type": "markdown",
   "id": "e1fdddbe",
   "metadata": {},
   "source": [
    "## 18 ~ 20년도 미세먼지 데이터 가공하기"
   ]
  },
  {
   "cell_type": "markdown",
   "id": "8c722c72",
   "metadata": {},
   "source": [
    "get_jeju 함수\n",
    "- 제주도 데이터만 가져오기\n",
    "- 에어코리아 사이트에 ※ 거주지역의 대표 대기질은 \"도시대기\" 측정자료를 참고하시기 바랍니다.\n",
    "- 라는 문구가 있음 \"도시대기\"만 보자"
   ]
  },
  {
   "cell_type": "code",
   "execution_count": 2,
   "id": "a828ce08",
   "metadata": {},
   "outputs": [],
   "source": [
    "def get_jeju(df):\n",
    "    data = df.copy()\n",
    "    data[\"시도\"] = data[\"지역\"].apply(lambda x : x.split(\" \")[0])\n",
    "    return data[data[\"시도\"] == \"제주\"].reset_index(drop=True).drop(\"시도\",axis=1)"
   ]
  },
  {
   "cell_type": "code",
   "execution_count": 3,
   "id": "1fd5d290",
   "metadata": {},
   "outputs": [],
   "source": [
    "input_file = r'C:\\Users\\김유빈\\빅콘\\사용한 데이터\\2018-2020 공기데이터' \n",
    "\n",
    "\n",
    "airdata_all = []\n",
    "airdata_file_list = glob.glob(os.path.join(input_file,\"*\"))\n",
    "for file in airdata_file_list:\n",
    "    data = pd.read_csv(file)\n",
    "    airdata_all.append(get_jeju(data))\n",
    "airdata_df = pd.concat(airdata_all,axis=0).reset_index(drop=True)"
   ]
  },
  {
   "cell_type": "code",
   "execution_count": 57,
   "id": "8a308e00",
   "metadata": {},
   "outputs": [
    {
     "data": {
      "text/plain": [
       "측정소코드   망       측정소명\n",
       "339111  도시대기    이도동     21960\n",
       "339112  도시대기    연동      21960\n",
       "339121  도시대기    동홍동     21960\n",
       "339122  도시대기    성산읍     21960\n",
       "339312  국가배경농도  고산리     21960\n",
       "339131  도시대기    대정읍     18661\n",
       "339211  도로변대기   노형로     10248\n",
       "339123  도시대기    남원읍      9000\n",
       "339113  도시대기    조천읍       744\n",
       "339114  도시대기    한림읍       744\n",
       "dtype: int64"
      ]
     },
     "execution_count": 57,
     "metadata": {},
     "output_type": "execute_result"
    }
   ],
   "source": [
    "airdata_df[[\"측정소코드\",\"망\",\"측정소명\"]].value_counts()"
   ]
  },
  {
   "cell_type": "markdown",
   "id": "e11ea9cc",
   "metadata": {},
   "source": [
    "망 column 채워주기"
   ]
  },
  {
   "cell_type": "code",
   "execution_count": 5,
   "id": "a0d0db37",
   "metadata": {},
   "outputs": [],
   "source": [
    "def code(value):\n",
    "    if int(value) == 33912:\n",
    "        return \"국가배경농도\"\n",
    "    elif int(value) == 18661:\n",
    "        return \"도로변대기\"\n",
    "    else:\n",
    "        return \"도시대기\"\n",
    "\n",
    "airdata_df[\"망\"] = airdata_df[\"측정소코드\"].apply(lambda x : code(x))"
   ]
  },
  {
   "cell_type": "markdown",
   "id": "3f6655db",
   "metadata": {},
   "source": [
    "일시별로 groupby 해주기"
   ]
  },
  {
   "cell_type": "code",
   "execution_count": 6,
   "id": "43c6b7de",
   "metadata": {},
   "outputs": [],
   "source": [
    "airdata_df[\"측정일시\"] = airdata_df[\"측정일시\"].astype(str).apply(lambda x : x[:-2])"
   ]
  },
  {
   "cell_type": "code",
   "execution_count": 7,
   "id": "f109d416",
   "metadata": {},
   "outputs": [],
   "source": [
    "column = [\"SO2\",\"CO\",\"O3\",\"NO2\",\"PM10\",\"PM25\"]\n",
    "aggregation = {i:\"mean\" for i in column}\n",
    "\n",
    "airdata = airdata_df.groupby([\"측정일시\",\"측정소코드\",\"지역\",\"주소\",\"망\"]).agg(aggregation).reset_index()"
   ]
  },
  {
   "cell_type": "code",
   "execution_count": 8,
   "id": "52a9b575",
   "metadata": {},
   "outputs": [
    {
     "data": {
      "text/html": [
       "<div>\n",
       "<style scoped>\n",
       "    .dataframe tbody tr th:only-of-type {\n",
       "        vertical-align: middle;\n",
       "    }\n",
       "\n",
       "    .dataframe tbody tr th {\n",
       "        vertical-align: top;\n",
       "    }\n",
       "\n",
       "    .dataframe thead th {\n",
       "        text-align: right;\n",
       "    }\n",
       "</style>\n",
       "<table border=\"1\" class=\"dataframe\">\n",
       "  <thead>\n",
       "    <tr style=\"text-align: right;\">\n",
       "      <th></th>\n",
       "      <th>측정일시</th>\n",
       "      <th>측정소코드</th>\n",
       "      <th>지역</th>\n",
       "      <th>주소</th>\n",
       "      <th>망</th>\n",
       "      <th>SO2</th>\n",
       "      <th>CO</th>\n",
       "      <th>O3</th>\n",
       "      <th>NO2</th>\n",
       "      <th>PM10</th>\n",
       "      <th>PM25</th>\n",
       "    </tr>\n",
       "  </thead>\n",
       "  <tbody>\n",
       "    <tr>\n",
       "      <th>0</th>\n",
       "      <td>20180101</td>\n",
       "      <td>339111</td>\n",
       "      <td>제주 제주</td>\n",
       "      <td>제주 제주시 이도2동 1176-1(제주시청)</td>\n",
       "      <td>도시대기</td>\n",
       "      <td>0.002958</td>\n",
       "      <td>0.345833</td>\n",
       "      <td>0.028792</td>\n",
       "      <td>0.014000</td>\n",
       "      <td>50.791667</td>\n",
       "      <td>19.541667</td>\n",
       "    </tr>\n",
       "    <tr>\n",
       "      <th>1</th>\n",
       "      <td>20180101</td>\n",
       "      <td>339112</td>\n",
       "      <td>제주 제주</td>\n",
       "      <td>제주 제주시 연동 322-1 번지 제주특별자치도청 제2청사</td>\n",
       "      <td>도시대기</td>\n",
       "      <td>0.003000</td>\n",
       "      <td>0.254167</td>\n",
       "      <td>0.031292</td>\n",
       "      <td>0.013750</td>\n",
       "      <td>49.541667</td>\n",
       "      <td>27.333333</td>\n",
       "    </tr>\n",
       "    <tr>\n",
       "      <th>2</th>\n",
       "      <td>20180101</td>\n",
       "      <td>339121</td>\n",
       "      <td>제주 서귀포</td>\n",
       "      <td>제주 서귀포시 동홍동 453-1(서귀포소방서)</td>\n",
       "      <td>도시대기</td>\n",
       "      <td>0.000913</td>\n",
       "      <td>0.304348</td>\n",
       "      <td>0.028435</td>\n",
       "      <td>0.008739</td>\n",
       "      <td>49.130435</td>\n",
       "      <td>21.227273</td>\n",
       "    </tr>\n",
       "    <tr>\n",
       "      <th>3</th>\n",
       "      <td>20180101</td>\n",
       "      <td>339122</td>\n",
       "      <td>제주 서귀포</td>\n",
       "      <td>제주 서귀포시 성산읍 일주동로 4120번길 7</td>\n",
       "      <td>도시대기</td>\n",
       "      <td>0.001000</td>\n",
       "      <td>0.320833</td>\n",
       "      <td>0.036542</td>\n",
       "      <td>0.002625</td>\n",
       "      <td>44.583333</td>\n",
       "      <td>18.916667</td>\n",
       "    </tr>\n",
       "    <tr>\n",
       "      <th>4</th>\n",
       "      <td>20180101</td>\n",
       "      <td>339312</td>\n",
       "      <td>제주 제주</td>\n",
       "      <td>제주 제주시 한경면 고산리</td>\n",
       "      <td>도시대기</td>\n",
       "      <td>NaN</td>\n",
       "      <td>0.316667</td>\n",
       "      <td>0.035917</td>\n",
       "      <td>0.000158</td>\n",
       "      <td>79.428571</td>\n",
       "      <td>NaN</td>\n",
       "    </tr>\n",
       "    <tr>\n",
       "      <th>...</th>\n",
       "      <td>...</td>\n",
       "      <td>...</td>\n",
       "      <td>...</td>\n",
       "      <td>...</td>\n",
       "      <td>...</td>\n",
       "      <td>...</td>\n",
       "      <td>...</td>\n",
       "      <td>...</td>\n",
       "      <td>...</td>\n",
       "      <td>...</td>\n",
       "      <td>...</td>\n",
       "    </tr>\n",
       "    <tr>\n",
       "      <th>7117</th>\n",
       "      <td>20201231</td>\n",
       "      <td>339122</td>\n",
       "      <td>제주 서귀포시</td>\n",
       "      <td>제주 서귀포시 성산읍 일주동로 4120번길 7</td>\n",
       "      <td>도시대기</td>\n",
       "      <td>0.000958</td>\n",
       "      <td>0.258333</td>\n",
       "      <td>0.035542</td>\n",
       "      <td>0.003333</td>\n",
       "      <td>5.250000</td>\n",
       "      <td>5.217391</td>\n",
       "    </tr>\n",
       "    <tr>\n",
       "      <th>7118</th>\n",
       "      <td>20201231</td>\n",
       "      <td>339123</td>\n",
       "      <td>제주 서귀포시</td>\n",
       "      <td>제주특별자치도 서귀포시 남원읍 남한로 67</td>\n",
       "      <td>도시대기</td>\n",
       "      <td>0.001042</td>\n",
       "      <td>0.266667</td>\n",
       "      <td>0.034042</td>\n",
       "      <td>0.003042</td>\n",
       "      <td>11.541667</td>\n",
       "      <td>NaN</td>\n",
       "    </tr>\n",
       "    <tr>\n",
       "      <th>7119</th>\n",
       "      <td>20201231</td>\n",
       "      <td>339131</td>\n",
       "      <td>제주 서귀포시</td>\n",
       "      <td>제주특별자치도 서귀포시 대정읍 동일하모로149번길 21-8</td>\n",
       "      <td>도시대기</td>\n",
       "      <td>0.001000</td>\n",
       "      <td>0.466667</td>\n",
       "      <td>0.033750</td>\n",
       "      <td>0.003917</td>\n",
       "      <td>12.043478</td>\n",
       "      <td>9.583333</td>\n",
       "    </tr>\n",
       "    <tr>\n",
       "      <th>7120</th>\n",
       "      <td>20201231</td>\n",
       "      <td>339211</td>\n",
       "      <td>제주 제주시</td>\n",
       "      <td>제주특별자치도 제주시 1100로 3348</td>\n",
       "      <td>도시대기</td>\n",
       "      <td>0.001000</td>\n",
       "      <td>0.179167</td>\n",
       "      <td>0.030583</td>\n",
       "      <td>0.008875</td>\n",
       "      <td>13.500000</td>\n",
       "      <td>3.250000</td>\n",
       "    </tr>\n",
       "    <tr>\n",
       "      <th>7121</th>\n",
       "      <td>20201231</td>\n",
       "      <td>339312</td>\n",
       "      <td>제주 제주시</td>\n",
       "      <td>제주 제주시 한경면 고산리</td>\n",
       "      <td>도시대기</td>\n",
       "      <td>0.000405</td>\n",
       "      <td>0.155000</td>\n",
       "      <td>0.033833</td>\n",
       "      <td>0.002043</td>\n",
       "      <td>23.666667</td>\n",
       "      <td>5.541667</td>\n",
       "    </tr>\n",
       "  </tbody>\n",
       "</table>\n",
       "<p>7122 rows × 11 columns</p>\n",
       "</div>"
      ],
      "text/plain": [
       "          측정일시   측정소코드       지역                                주소     망  \\\n",
       "0     20180101  339111    제주 제주          제주 제주시 이도2동 1176-1(제주시청)  도시대기   \n",
       "1     20180101  339112    제주 제주  제주 제주시 연동 322-1 번지 제주특별자치도청 제2청사  도시대기   \n",
       "2     20180101  339121   제주 서귀포         제주 서귀포시 동홍동 453-1(서귀포소방서)  도시대기   \n",
       "3     20180101  339122   제주 서귀포         제주 서귀포시 성산읍 일주동로 4120번길 7  도시대기   \n",
       "4     20180101  339312    제주 제주                    제주 제주시 한경면 고산리  도시대기   \n",
       "...        ...     ...      ...                               ...   ...   \n",
       "7117  20201231  339122  제주 서귀포시         제주 서귀포시 성산읍 일주동로 4120번길 7  도시대기   \n",
       "7118  20201231  339123  제주 서귀포시           제주특별자치도 서귀포시 남원읍 남한로 67  도시대기   \n",
       "7119  20201231  339131  제주 서귀포시  제주특별자치도 서귀포시 대정읍 동일하모로149번길 21-8  도시대기   \n",
       "7120  20201231  339211   제주 제주시            제주특별자치도 제주시 1100로 3348  도시대기   \n",
       "7121  20201231  339312   제주 제주시                    제주 제주시 한경면 고산리  도시대기   \n",
       "\n",
       "           SO2        CO        O3       NO2       PM10       PM25  \n",
       "0     0.002958  0.345833  0.028792  0.014000  50.791667  19.541667  \n",
       "1     0.003000  0.254167  0.031292  0.013750  49.541667  27.333333  \n",
       "2     0.000913  0.304348  0.028435  0.008739  49.130435  21.227273  \n",
       "3     0.001000  0.320833  0.036542  0.002625  44.583333  18.916667  \n",
       "4          NaN  0.316667  0.035917  0.000158  79.428571        NaN  \n",
       "...        ...       ...       ...       ...        ...        ...  \n",
       "7117  0.000958  0.258333  0.035542  0.003333   5.250000   5.217391  \n",
       "7118  0.001042  0.266667  0.034042  0.003042  11.541667        NaN  \n",
       "7119  0.001000  0.466667  0.033750  0.003917  12.043478   9.583333  \n",
       "7120  0.001000  0.179167  0.030583  0.008875  13.500000   3.250000  \n",
       "7121  0.000405  0.155000  0.033833  0.002043  23.666667   5.541667  \n",
       "\n",
       "[7122 rows x 11 columns]"
      ]
     },
     "execution_count": 8,
     "metadata": {},
     "output_type": "execute_result"
    }
   ],
   "source": [
    "#airdata.to_csv(\"2018~2020 미세먼지 데이터.csv\",encoding=\"utf-8-sig\")\n",
    "airdata"
   ]
  },
  {
   "cell_type": "markdown",
   "id": "03e5504e",
   "metadata": {},
   "source": [
    "### 공공데이터 포털 API 이용하기\n",
    "- 인코딩키 : %2FVg1J8MmKzuTqcg1RFWfc3U7B6OLQGu28VZvd9EkkL7l0%2BIYsdB5Oe0eTm85cUMsNyjZVrFo7GC8fKNxLqKRDA%3D%3D\n",
    "- 디코딩키 : /Vg1J8MmKzuTqcg1RFWfc3U7B6OLQGu28VZvd9EkkL7l0+IYsdB5Oe0eTm85cUMsNyjZVrFo7GC8fKNxLqKRDA=="
   ]
  },
  {
   "cell_type": "markdown",
   "id": "ba3de628",
   "metadata": {},
   "source": [
    "측정일\tmsurDt\t20\t필수\t2020-10-01\t평균자료 조회일\n",
    "측정소명\tmsrstnName\t10\t필수\t종로\t시군구\n",
    "아황산가스 평균농도\tso2Value\t10\t필수\t0.004\t아황산가스 평균농도(단위:ppm)\n",
    "일산화탄소 평균농도\tcoValue\t10\t필수\t0.4\t일산화탄소 평균농도(단위:ppm)\n",
    "오존 평균농도\to3Value\t10\t필수\t0.005\t오존 평균농도(단위:ppm)\n",
    "이산화질소 평균농도\tno2Value\t10\t필수\t0.027\t이산화질소 평균농도(단위:ppm)\n",
    "미세먼지 평균농도\tpm10Value\t10\t필수\t22\t미세먼지 평균농도(단위:ug/m3)\n",
    "초미세먼지 평균농도\tpm25Value\t10\t필수\t22\t초미세먼지 평균농도(단위:ug/m3)"
   ]
  },
  {
   "cell_type": "markdown",
   "id": "ec3c791a",
   "metadata": {},
   "source": [
    "339111  도시대기    이도동     21960\n",
    "339112  도시대기    연동      21960\n",
    "339121  도시대기    동홍동     21960\n",
    "339122  도시대기    성산읍     21960\n",
    "339312  국가배경농도  고산리     21960\n",
    "339131  도시대기    대정읍     18661\n",
    "339211  도로변대기   노형로     10248\n",
    "339123  도시대기    남원읍      9000\n",
    "339113  도시대기    조천읍       744\n",
    "339114  도시대기    한림읍       744"
   ]
  },
  {
   "cell_type": "code",
   "execution_count": 268,
   "id": "9a498852",
   "metadata": {},
   "outputs": [],
   "source": [
    "import urllib\n",
    "from urllib.parse import urlencode, quote_plus\n",
    "import requests\n",
    "from bs4 import BeautifulSoup\n",
    "import json\n",
    "from pandas import json_normalize"
   ]
  },
  {
   "cell_type": "code",
   "execution_count": 271,
   "id": "17152d60",
   "metadata": {},
   "outputs": [],
   "source": [
    "ServiceKey = \"/Vg1J8MmKzuTqcg1RFWfc3U7B6OLQGu28VZvd9EkkL7l0+IYsdB5Oe0eTm85cUMsNyjZVrFo7GC8fKNxLqKRDA==\"\n",
    "open_url = 'http://apis.data.go.kr/B552584/ArpltnStatsSvc/getMsrstnAcctoRDyrg'\n",
    "\n",
    "def get_미세먼지(측정소명):\n",
    "    queryParams = '?' + urlencode({quote_plus('serviceKey') : ServiceKey,\n",
    "                                   quote_plus('returnType') : 'json',\n",
    "                                   quote_plus('numOfRows') : '10',\n",
    "                                   quote_plus('pageNo') : '1',\n",
    "                                   #quote_plus('inqBginDt') : 시작날짜,\n",
    "                                   #quote_plus('inqEndDt') : 종료날짜,                                  \n",
    "                                   quote_plus('inqBginDt') : '20210423',\n",
    "                                   quote_plus('inqEndDt') : '20210425',\n",
    "                                   quote_plus('msrstnName') : 측정소명 })\n",
    "    open_url_get = open_url + queryParams\n",
    "    res = requests.get(open_url_get)\n",
    "    info = json.loads(res.content)\n",
    "    res_df = json_normalize(info[\"response\"][\"body\"][\"items\"])\n",
    "    return res_df"
   ]
  },
  {
   "cell_type": "code",
   "execution_count": 272,
   "id": "59032101",
   "metadata": {},
   "outputs": [
    {
     "data": {
      "text/html": [
       "<div>\n",
       "<style scoped>\n",
       "    .dataframe tbody tr th:only-of-type {\n",
       "        vertical-align: middle;\n",
       "    }\n",
       "\n",
       "    .dataframe tbody tr th {\n",
       "        vertical-align: top;\n",
       "    }\n",
       "\n",
       "    .dataframe thead th {\n",
       "        text-align: right;\n",
       "    }\n",
       "</style>\n",
       "<table border=\"1\" class=\"dataframe\">\n",
       "  <thead>\n",
       "    <tr style=\"text-align: right;\">\n",
       "      <th></th>\n",
       "      <th>msurDt</th>\n",
       "      <th>so2Value</th>\n",
       "      <th>coValue</th>\n",
       "      <th>msrstnName</th>\n",
       "      <th>pm10Value</th>\n",
       "      <th>no2Value</th>\n",
       "      <th>o3Value</th>\n",
       "      <th>pm25Value</th>\n",
       "    </tr>\n",
       "  </thead>\n",
       "  <tbody>\n",
       "    <tr>\n",
       "      <th>0</th>\n",
       "      <td>2021-04-23</td>\n",
       "      <td>.0028</td>\n",
       "      <td>.4</td>\n",
       "      <td>대연동</td>\n",
       "      <td>31</td>\n",
       "      <td>.01</td>\n",
       "      <td>.05</td>\n",
       "      <td>11</td>\n",
       "    </tr>\n",
       "    <tr>\n",
       "      <th>1</th>\n",
       "      <td>2021-04-23</td>\n",
       "      <td>.003</td>\n",
       "      <td>.2</td>\n",
       "      <td>연동</td>\n",
       "      <td>49</td>\n",
       "      <td>.0072</td>\n",
       "      <td>.056</td>\n",
       "      <td>16</td>\n",
       "    </tr>\n",
       "    <tr>\n",
       "      <th>2</th>\n",
       "      <td>2021-04-25</td>\n",
       "      <td>.0025</td>\n",
       "      <td>.4</td>\n",
       "      <td>대연동</td>\n",
       "      <td>27</td>\n",
       "      <td>.0102</td>\n",
       "      <td>.043</td>\n",
       "      <td>11</td>\n",
       "    </tr>\n",
       "    <tr>\n",
       "      <th>3</th>\n",
       "      <td>2021-04-25</td>\n",
       "      <td>.0022</td>\n",
       "      <td>.2</td>\n",
       "      <td>연동</td>\n",
       "      <td>38</td>\n",
       "      <td>.0102</td>\n",
       "      <td>.049</td>\n",
       "      <td>15</td>\n",
       "    </tr>\n",
       "  </tbody>\n",
       "</table>\n",
       "</div>"
      ],
      "text/plain": [
       "       msurDt so2Value coValue msrstnName pm10Value no2Value o3Value pm25Value\n",
       "0  2021-04-23    .0028      .4        대연동        31      .01     .05        11\n",
       "1  2021-04-23     .003      .2         연동        49    .0072    .056        16\n",
       "2  2021-04-25    .0025      .4        대연동        27    .0102    .043        11\n",
       "3  2021-04-25    .0022      .2         연동        38    .0102    .049        15"
      ]
     },
     "execution_count": 272,
     "metadata": {},
     "output_type": "execute_result"
    }
   ],
   "source": []
  },
  {
   "cell_type": "code",
   "execution_count": 127,
   "id": "7c38774b",
   "metadata": {},
   "outputs": [],
   "source": [
    "이도동 = get_미세먼지(\"20210101\",\"20210831\",\"이도동\")\n",
    "연동 = get_미세먼지(\"20210101\",\"20210831\",\"연동\")\n",
    "연동 = 연동[연동[\"msrstnName\"] == \"연동\"].reset_index(drop=True)\n",
    "# 대연동이 함께 검색되어서 연동만 파싱했음\n",
    "동홍동 = get_미세먼지(\"20210101\",\"20210831\",\"동홍동\")\n",
    "성산읍 = get_미세먼지(\"20210101\",\"20210831\",\"성산읍\")\n",
    "고산리 = get_미세먼지(\"20210101\",\"20210831\",\"고산리\")\n",
    "대정읍 = get_미세먼지(\"20210101\",\"20210831\",\"대정읍\")\n",
    "노형로 = get_미세먼지(\"20210101\",\"20210831\",\"노형로\")\n",
    "남원읍 = get_미세먼지(\"20210101\",\"20210831\",\"남원읍\")\n",
    "조천읍 = get_미세먼지(\"20210101\",\"20210831\",\"조천읍\")\n",
    "한림읍 = get_미세먼지(\"20210101\",\"20210831\",\"한림읍\")"
   ]
  },
  {
   "cell_type": "code",
   "execution_count": 157,
   "id": "4ab66732",
   "metadata": {},
   "outputs": [],
   "source": [
    "import pandas as pd\n",
    "result_lst = [이도동,연동,동홍동,성산읍,고산리,대정읍,노형로,남원읍,조천읍,한림읍]\n",
    "result_df = pd.concat(result_lst,axis=0)\n",
    "result_df.columns = [\"측정일시\",\"SO2\",\"CO\",\"측정소명\",\"PM10\",\"NO2\",\"O3\",\"PM25\"]"
   ]
  },
  {
   "cell_type": "code",
   "execution_count": null,
   "id": "7609cf2c",
   "metadata": {},
   "outputs": [],
   "source": []
  },
  {
   "cell_type": "code",
   "execution_count": 159,
   "id": "3b667959",
   "metadata": {},
   "outputs": [],
   "source": [
    "result_df.to_csv(\"2021년 미세먼지 데이터.csv\",encoding=\"utf-8-sig\",index=False)"
   ]
  },
  {
   "cell_type": "markdown",
   "id": "178d3229",
   "metadata": {},
   "source": [
    "### 18 ~ 21년 데이터 합치기\n",
    "- 18~20년도와 21년도 데이터 기준이 다르다\n",
    "- 일자 / 측정소명 / 주소 / 대기오염데이터 순으로 나열하자\n",
    "- 도시대기 데이터만 이용하기"
   ]
  },
  {
   "cell_type": "code",
   "execution_count": 116,
   "id": "1d268c88",
   "metadata": {},
   "outputs": [
    {
     "data": {
      "text/plain": [
       "연동     180\n",
       "성산읍    180\n",
       "대정읍    180\n",
       "한림읍    180\n",
       "조천읍    180\n",
       "동홍동    180\n",
       "남원읍    180\n",
       "노형로    180\n",
       "이도동    180\n",
       "고산리    179\n",
       "Name: 측정소명, dtype: int64"
      ]
     },
     "execution_count": 116,
     "metadata": {},
     "output_type": "execute_result"
    }
   ],
   "source": []
  },
  {
   "cell_type": "code",
   "execution_count": 366,
   "id": "a83a3082",
   "metadata": {},
   "outputs": [],
   "source": [
    "미세먼지_21 = pd.read_csv(\"2021년 미세먼지 데이터.csv\")\n",
    "미세먼지_1820 = pd.read_csv(\"2018~2020 미세먼지 데이터.csv\")\n",
    "\n",
    "# 도로변대기인 노형로,고산리 제외하기\n",
    "#미세먼지_21 = 미세먼지_21[(미세먼지_21[\"측정소명\"] != \"노형로\") & (미세먼지_21[\"측정소명\"] != \"고산리\")]"
   ]
  },
  {
   "cell_type": "markdown",
   "id": "20c23d5a",
   "metadata": {},
   "source": [
    "339111  도시대기    이도동     제주 제주시 이도2동 1176-1(제주시청)\n",
    "339112  도시대기    연동      제주 제주시 연동 322-1 번지 제주특별자치도청 제2청사\n",
    "339121  도시대기    동홍동    제주 서귀포시 동홍동 453-1(서귀포소방서)\n",
    "339122  도시대기    성산읍     제주 서귀포시 성산읍 일주동로 4120번길 7\n",
    "339312  국가배경농도  고산리   \n",
    "339131  도시대기    대정읍   제주 서귀포시 대정읍 동일하모로149번길 21-8\n",
    "339211  도로변대기   노형로     10248\n",
    "339123  도시대기    남원읍    제주특별자치도 서귀포시 남원읍 남한로 67\n",
    "339113  도시대기    조천읍    제주특별자치도 제주시 조천읍 조천18길 11-1 \n",
    "339114  도시대기    한림읍     제주특별자치도 제주시 한림읍 한림중앙로 71-9 "
   ]
  },
  {
   "cell_type": "code",
   "execution_count": 367,
   "id": "af83a48b",
   "metadata": {},
   "outputs": [
    {
     "data": {
      "text/html": [
       "<div>\n",
       "<style scoped>\n",
       "    .dataframe tbody tr th:only-of-type {\n",
       "        vertical-align: middle;\n",
       "    }\n",
       "\n",
       "    .dataframe tbody tr th {\n",
       "        vertical-align: top;\n",
       "    }\n",
       "\n",
       "    .dataframe thead th {\n",
       "        text-align: right;\n",
       "    }\n",
       "</style>\n",
       "<table border=\"1\" class=\"dataframe\">\n",
       "  <thead>\n",
       "    <tr style=\"text-align: right;\">\n",
       "      <th></th>\n",
       "      <th>측정일시</th>\n",
       "      <th>측정소코드</th>\n",
       "      <th>지역</th>\n",
       "      <th>주소</th>\n",
       "      <th>망</th>\n",
       "      <th>SO2</th>\n",
       "      <th>CO</th>\n",
       "      <th>O3</th>\n",
       "      <th>NO2</th>\n",
       "      <th>PM10</th>\n",
       "      <th>PM25</th>\n",
       "    </tr>\n",
       "  </thead>\n",
       "  <tbody>\n",
       "    <tr>\n",
       "      <th>0</th>\n",
       "      <td>20180101</td>\n",
       "      <td>339111</td>\n",
       "      <td>제주 제주</td>\n",
       "      <td>제주 제주시 이도2동 1176-1(제주시청)</td>\n",
       "      <td>도시대기</td>\n",
       "      <td>0.002958</td>\n",
       "      <td>0.345833</td>\n",
       "      <td>0.028792</td>\n",
       "      <td>0.014000</td>\n",
       "      <td>50.791667</td>\n",
       "      <td>19.541667</td>\n",
       "    </tr>\n",
       "    <tr>\n",
       "      <th>1</th>\n",
       "      <td>20180101</td>\n",
       "      <td>339112</td>\n",
       "      <td>제주 제주</td>\n",
       "      <td>제주 제주시 연동 322-1 번지 제주특별자치도청 제2청사</td>\n",
       "      <td>도시대기</td>\n",
       "      <td>0.003000</td>\n",
       "      <td>0.254167</td>\n",
       "      <td>0.031292</td>\n",
       "      <td>0.013750</td>\n",
       "      <td>49.541667</td>\n",
       "      <td>27.333333</td>\n",
       "    </tr>\n",
       "    <tr>\n",
       "      <th>2</th>\n",
       "      <td>20180101</td>\n",
       "      <td>339121</td>\n",
       "      <td>제주 서귀포</td>\n",
       "      <td>제주 서귀포시 동홍동 453-1(서귀포소방서)</td>\n",
       "      <td>도시대기</td>\n",
       "      <td>0.000913</td>\n",
       "      <td>0.304348</td>\n",
       "      <td>0.028435</td>\n",
       "      <td>0.008739</td>\n",
       "      <td>49.130435</td>\n",
       "      <td>21.227273</td>\n",
       "    </tr>\n",
       "  </tbody>\n",
       "</table>\n",
       "</div>"
      ],
      "text/plain": [
       "       측정일시   측정소코드      지역                                주소     망       SO2  \\\n",
       "0  20180101  339111   제주 제주          제주 제주시 이도2동 1176-1(제주시청)  도시대기  0.002958   \n",
       "1  20180101  339112   제주 제주  제주 제주시 연동 322-1 번지 제주특별자치도청 제2청사  도시대기  0.003000   \n",
       "2  20180101  339121  제주 서귀포         제주 서귀포시 동홍동 453-1(서귀포소방서)  도시대기  0.000913   \n",
       "\n",
       "         CO        O3       NO2       PM10       PM25  \n",
       "0  0.345833  0.028792  0.014000  50.791667  19.541667  \n",
       "1  0.254167  0.031292  0.013750  49.541667  27.333333  \n",
       "2  0.304348  0.028435  0.008739  49.130435  21.227273  "
      ]
     },
     "execution_count": 367,
     "metadata": {},
     "output_type": "execute_result"
    }
   ],
   "source": [
    "미세먼지_1820.head(3)"
   ]
  },
  {
   "cell_type": "markdown",
   "id": "f49efe63",
   "metadata": {},
   "source": [
    "- get_주소 함수 : 측정소명을 입력하면 주소 반환\n",
    "- get_측정소명 함수 : 측정소코드를 입력하면 측정소명 반환"
   ]
  },
  {
   "cell_type": "code",
   "execution_count": 368,
   "id": "0d1fb9ac",
   "metadata": {},
   "outputs": [],
   "source": [
    "def get_주소(측정소명):\n",
    "    if 측정소명 == \"이도동\":\n",
    "        return \"제주 제주시 이도2동 1176-1(제주시청)\"\n",
    "    elif 측정소명 == \"연동\":\n",
    "        return \"제주 제주시 연동 322-1 번지 제주특별자치도청 제2청사\"\n",
    "    elif 측정소명 == \"동홍동\":\n",
    "        return \"제주 서귀포시 동홍동 453-1(서귀포소방서)\"\n",
    "    elif 측정소명 == \"성산읍\":\n",
    "        return \"제주 서귀포시 성산읍 일주동로 4120번길 7\"\n",
    "    elif 측정소명 == \"대정읍\":\n",
    "        return \"제주 서귀포시 대정읍 동일하모로149번길 21-8\"\n",
    "    elif 측정소명 == \"남원읍\":\n",
    "        return \"제주특별자치도 서귀포시 남원읍 남한로 67\"\n",
    "    elif 측정소명 == \"조천읍\":\n",
    "        return \"제주특별자치도 제주시 조천읍 조천18길 11-1\"\n",
    "    elif 측정소명 == \"한림읍\":\n",
    "        return \"제주특별자치도 제주시 한림읍 한림중앙로 71-9\"\n",
    "    \n",
    "def get_측정소명(측정소코드):\n",
    "    value = 측정소코드\n",
    "    if int(value) == 339111:\n",
    "        return \"이도동\"\n",
    "    elif int(value) == 339112:\n",
    "        return \"연동\"\n",
    "    elif int(value) == 339121:\n",
    "        return \"동홍동\"   \n",
    "    elif int(value) == 339122:\n",
    "        return \"성산읍\"   \n",
    "    elif int(value) == 339131:\n",
    "        return \"대정읍\"   \n",
    "    elif int(value) == 339123:\n",
    "        return \"남원읍\"   \n",
    "    elif int(value) == 339113:\n",
    "        return \"조천읍\"\n",
    "    elif int(value) == 339114:\n",
    "        return \"한림읍\""
   ]
  },
  {
   "cell_type": "markdown",
   "id": "3ef41dff",
   "metadata": {},
   "source": [
    "18~20년도 미세먼지 데이터와 21년도 미세먼지 데이터 열 맞춰주기\n",
    "- 1820의 도시대기가 아닌 것들 제외해주기\n",
    "- 21의 도시대기가 아닌 것들 제외해주기"
   ]
  },
  {
   "cell_type": "code",
   "execution_count": 369,
   "id": "d0e87a52",
   "metadata": {},
   "outputs": [],
   "source": [
    "미세먼지_1820[\"측정소명\"] = 미세먼지_1820[\"측정소코드\"].apply(lambda x : get_측정소명(x))\n",
    "미세먼지_1820.drop([\"측정소코드\",\"지역\",\"망\"],axis=1,inplace=True)\n",
    "미세먼지_1820[\"측정일시\"] = pd.to_datetime(미세먼지_1820[\"측정일시\"],format=\"%Y%m%d\")\n",
    "\n",
    "미세먼지_1820 = 미세먼지_1820[미세먼지_1820[\"측정소명\"].notnull()]\n",
    "# 도시대기 아닌 것 제외하기"
   ]
  },
  {
   "cell_type": "code",
   "execution_count": 370,
   "id": "e438b073",
   "metadata": {},
   "outputs": [],
   "source": [
    "미세먼지_21[\"주소\"] = 미세먼지_21[\"측정소명\"].apply(lambda x : get_주소(x))\n",
    "미세먼지_21[\"측정일시\"] = pd.to_datetime(미세먼지_21[\"측정일시\"],format=\"%Y-%m-%d\")\n",
    "\n",
    "미세먼지_21 = 미세먼지_21[미세먼지_21[\"주소\"].notnull()]\n",
    "# 도시대기 아닌 것 제외하기"
   ]
  },
  {
   "cell_type": "code",
   "execution_count": 371,
   "id": "4aeee9c3",
   "metadata": {},
   "outputs": [],
   "source": [
    "미세먼지_1820 = 미세먼지_1820[['측정일시','측정소명','주소','SO2', 'CO', 'PM10', 'NO2', 'O3', 'PM25',]]\n",
    "미세먼지_21 = 미세먼지_21[['측정일시','측정소명','주소','SO2', 'CO', 'PM10', 'NO2', 'O3', 'PM25',]]"
   ]
  },
  {
   "cell_type": "markdown",
   "id": "e859d5c7",
   "metadata": {},
   "source": [
    "미세먼지 : 18~21년도 미세먼지 데이터 합친 것"
   ]
  },
  {
   "cell_type": "code",
   "execution_count": 372,
   "id": "4c426d49",
   "metadata": {},
   "outputs": [],
   "source": [
    "미세먼지 = pd.concat([미세먼지_1820,미세먼지_21],axis=0,ignore_index=True)"
   ]
  },
  {
   "cell_type": "markdown",
   "id": "bd3c33e0",
   "metadata": {},
   "source": [
    "### 결측치 처리하기\n",
    "- 결측치 어떻게 처리할지 고민하기\n",
    "- 전날과 다음날의 평균으로 먼저 결측치 채워주기\n",
    "- 연도별로 관측소가 달라진다"
   ]
  },
  {
   "cell_type": "code",
   "execution_count": 373,
   "id": "7e144046",
   "metadata": {},
   "outputs": [],
   "source": [
    "미세먼지 = 미세먼지.rename(columns={\"측정일시\":\"일자\"})\n",
    "\n",
    "미세먼지[\"일자\"] = pd.to_datetime(미세먼지[\"일자\"],format=\"%Y-%m-%d\")\n",
    "미세먼지[\"년\"] = 미세먼지[\"일자\"].apply(lambda x : x.year)\n",
    "미세먼지[\"월\"] = 미세먼지[\"일자\"].apply(lambda x : x.month)\n",
    "미세먼지[\"일\"] = 미세먼지[\"일자\"].apply(lambda x : x.day)"
   ]
  },
  {
   "cell_type": "code",
   "execution_count": 374,
   "id": "2b52fda5",
   "metadata": {},
   "outputs": [],
   "source": [
    "def get_미세먼지_결측치(data):\n",
    "    측정소명 = ['동홍동', '이도동', '성산읍', '연동', '대정읍', '남원읍', '한림읍', '조천읍']\n",
    "    측정목록 = [\"SO2\",\"CO\",\"PM10\",\"NO2\",\"O3\",\"PM25\"]\n",
    "    결과리스트 = []\n",
    "    \n",
    "    for 측정소 in 측정소명:\n",
    "        df = data[data[\"측정소명\"] == 측정소].reset_index(drop=True)\n",
    "        for 항목 in 측정목록:\n",
    "            for idx,row in df[df[항목].isnull()].iterrows():\n",
    "                if df.loc[idx+1,항목] != np.nan:\n",
    "                    if df.loc[idx-1,항목] != np.nan:\n",
    "                        df.loc[idx,항목] = ( df.loc[idx+1,항목]+df.loc[idx-1,항목] ) / 2\n",
    "        결과리스트.append(df)\n",
    "    return pd.concat(결과리스트,axis=0,ignore_index = True)"
   ]
  },
  {
   "cell_type": "markdown",
   "id": "c4231b3b",
   "metadata": {},
   "source": [
    "### 연도마다 측정소가 다름\n",
    "- 특정년도 특정 측정소에 데이터 개수가 365개가 아닌 경우가 있음\n",
    "- 2018년도에는 연동 / 이도동 / 성산읍 / 동홍동 ( 대정읍 빼주기 )\n",
    "- 2019년도에는 연동 / 이도동 / 성산읍 / 동홍동 / 대정읍 ( 남원읍 빼주기 )\n",
    "- 2020년도에는 연동 / 이도동 / 성산읍 / 동홍동 / 대정읍 / 남원읍 ( 조천읍,한림읍 빼주기 )\n",
    "- 2021년도에는 연동 / 이도동 / 성산읍 / 동홍동 / 대정읍 / 남원읍 / 조천읍 만 365개씩 존재"
   ]
  },
  {
   "cell_type": "code",
   "execution_count": 375,
   "id": "de38917e",
   "metadata": {},
   "outputs": [
    {
     "data": {
      "text/plain": [
       "대정읍    242\n",
       "성산읍    242\n",
       "이도동    242\n",
       "동홍동    242\n",
       "연동     242\n",
       "남원읍    242\n",
       "한림읍    242\n",
       "조천읍    242\n",
       "Name: 측정소명, dtype: int64"
      ]
     },
     "execution_count": 375,
     "metadata": {},
     "output_type": "execute_result"
    }
   ],
   "source": [
    "미세먼지[미세먼지[\"년\"] == 2018][\"측정소명\"].value_counts()\n",
    "미세먼지[미세먼지[\"년\"] == 2019][\"측정소명\"].value_counts()\n",
    "미세먼지[미세먼지[\"년\"] == 2020][\"측정소명\"].value_counts()\n",
    "미세먼지[미세먼지[\"년\"] == 2021][\"측정소명\"].value_counts()"
   ]
  },
  {
   "cell_type": "code",
   "execution_count": 381,
   "id": "9c30ed92",
   "metadata": {},
   "outputs": [],
   "source": [
    "미세먼지_18 = 미세먼지[(미세먼지[\"년\"] == 2018) & (미세먼지[\"측정소명\"] != \"대정읍\")]\n",
    "미세먼지_19 = 미세먼지[(미세먼지[\"년\"] == 2019) & (미세먼지[\"측정소명\"] != \"남원읍\")]\n",
    "미세먼지_20 =  미세먼지[(미세먼지[\"년\"] == 2020)]\n",
    "미세먼지_20 = 미세먼지_20[(미세먼지_20[\"측정소명\"] != \"조천읍\") & (미세먼지_20[\"측정소명\"] != \"한림읍\")]\n",
    "미세먼지_21 = 미세먼지[미세먼지[\"년\"] == 2021]"
   ]
  },
  {
   "cell_type": "code",
   "execution_count": 382,
   "id": "7004f52f",
   "metadata": {},
   "outputs": [],
   "source": [
    "미세먼지_측정소제거 = pd.concat([미세먼지_18,미세먼지_19,미세먼지_20,미세먼지_21],axis=0,ignore_index=True)"
   ]
  },
  {
   "cell_type": "markdown",
   "id": "b4b13aaa",
   "metadata": {},
   "source": [
    "미세먼지_결측치 : 전날 다음날 평균으로 결측치 채우기"
   ]
  },
  {
   "cell_type": "code",
   "execution_count": 383,
   "id": "5b2afebe",
   "metadata": {},
   "outputs": [],
   "source": [
    "미세먼지_결측치대체 = get_미세먼지_결측치(미세먼지_측정소제거)"
   ]
  },
  {
   "cell_type": "code",
   "execution_count": 255,
   "id": "5c14cadc",
   "metadata": {},
   "outputs": [
    {
     "data": {
      "text/html": [
       "<div>\n",
       "<style scoped>\n",
       "    .dataframe tbody tr th:only-of-type {\n",
       "        vertical-align: middle;\n",
       "    }\n",
       "\n",
       "    .dataframe tbody tr th {\n",
       "        vertical-align: top;\n",
       "    }\n",
       "\n",
       "    .dataframe thead th {\n",
       "        text-align: right;\n",
       "    }\n",
       "</style>\n",
       "<table border=\"1\" class=\"dataframe\">\n",
       "  <thead>\n",
       "    <tr style=\"text-align: right;\">\n",
       "      <th></th>\n",
       "      <th>일자</th>\n",
       "      <th>측정소명</th>\n",
       "      <th>주소</th>\n",
       "      <th>SO2</th>\n",
       "      <th>CO</th>\n",
       "      <th>PM10</th>\n",
       "      <th>NO2</th>\n",
       "      <th>O3</th>\n",
       "      <th>PM25</th>\n",
       "      <th>년</th>\n",
       "      <th>월</th>\n",
       "      <th>일</th>\n",
       "    </tr>\n",
       "  </thead>\n",
       "  <tbody>\n",
       "    <tr>\n",
       "      <th>0</th>\n",
       "      <td>2018-01-01</td>\n",
       "      <td>동홍동</td>\n",
       "      <td>제주 서귀포시 동홍동 453-1(서귀포소방서)</td>\n",
       "      <td>0.000913</td>\n",
       "      <td>0.304348</td>\n",
       "      <td>49.130435</td>\n",
       "      <td>0.008739</td>\n",
       "      <td>0.028435</td>\n",
       "      <td>21.227273</td>\n",
       "      <td>2018</td>\n",
       "      <td>1</td>\n",
       "      <td>1</td>\n",
       "    </tr>\n",
       "    <tr>\n",
       "      <th>1</th>\n",
       "      <td>2018-01-02</td>\n",
       "      <td>동홍동</td>\n",
       "      <td>제주 서귀포시 동홍동 453-1(서귀포소방서)</td>\n",
       "      <td>0.001250</td>\n",
       "      <td>0.329167</td>\n",
       "      <td>46.166667</td>\n",
       "      <td>0.013708</td>\n",
       "      <td>0.025542</td>\n",
       "      <td>23.083333</td>\n",
       "      <td>2018</td>\n",
       "      <td>1</td>\n",
       "      <td>2</td>\n",
       "    </tr>\n",
       "    <tr>\n",
       "      <th>2</th>\n",
       "      <td>2018-01-03</td>\n",
       "      <td>동홍동</td>\n",
       "      <td>제주 서귀포시 동홍동 453-1(서귀포소방서)</td>\n",
       "      <td>0.000917</td>\n",
       "      <td>0.316667</td>\n",
       "      <td>52.916667</td>\n",
       "      <td>0.012083</td>\n",
       "      <td>0.028708</td>\n",
       "      <td>25.041667</td>\n",
       "      <td>2018</td>\n",
       "      <td>1</td>\n",
       "      <td>3</td>\n",
       "    </tr>\n",
       "    <tr>\n",
       "      <th>3</th>\n",
       "      <td>2018-01-04</td>\n",
       "      <td>동홍동</td>\n",
       "      <td>제주 서귀포시 동홍동 453-1(서귀포소방서)</td>\n",
       "      <td>0.000875</td>\n",
       "      <td>0.233333</td>\n",
       "      <td>24.000000</td>\n",
       "      <td>0.007458</td>\n",
       "      <td>0.030333</td>\n",
       "      <td>11.263158</td>\n",
       "      <td>2018</td>\n",
       "      <td>1</td>\n",
       "      <td>4</td>\n",
       "    </tr>\n",
       "    <tr>\n",
       "      <th>4</th>\n",
       "      <td>2018-01-05</td>\n",
       "      <td>동홍동</td>\n",
       "      <td>제주 서귀포시 동홍동 453-1(서귀포소방서)</td>\n",
       "      <td>0.000750</td>\n",
       "      <td>0.250000</td>\n",
       "      <td>19.157895</td>\n",
       "      <td>0.010208</td>\n",
       "      <td>0.023583</td>\n",
       "      <td>11.916667</td>\n",
       "      <td>2018</td>\n",
       "      <td>1</td>\n",
       "      <td>5</td>\n",
       "    </tr>\n",
       "    <tr>\n",
       "      <th>...</th>\n",
       "      <td>...</td>\n",
       "      <td>...</td>\n",
       "      <td>...</td>\n",
       "      <td>...</td>\n",
       "      <td>...</td>\n",
       "      <td>...</td>\n",
       "      <td>...</td>\n",
       "      <td>...</td>\n",
       "      <td>...</td>\n",
       "      <td>...</td>\n",
       "      <td>...</td>\n",
       "      <td>...</td>\n",
       "    </tr>\n",
       "    <tr>\n",
       "      <th>7412</th>\n",
       "      <td>2021-08-27</td>\n",
       "      <td>조천읍</td>\n",
       "      <td>제주특별자치도 제주시 조천읍 조천18길 11-1</td>\n",
       "      <td>0.003000</td>\n",
       "      <td>0.200000</td>\n",
       "      <td>9.000000</td>\n",
       "      <td>0.005800</td>\n",
       "      <td>0.014000</td>\n",
       "      <td>5.000000</td>\n",
       "      <td>2021</td>\n",
       "      <td>8</td>\n",
       "      <td>27</td>\n",
       "    </tr>\n",
       "    <tr>\n",
       "      <th>7413</th>\n",
       "      <td>2021-08-28</td>\n",
       "      <td>조천읍</td>\n",
       "      <td>제주특별자치도 제주시 조천읍 조천18길 11-1</td>\n",
       "      <td>0.003000</td>\n",
       "      <td>0.200000</td>\n",
       "      <td>7.000000</td>\n",
       "      <td>0.006200</td>\n",
       "      <td>0.017000</td>\n",
       "      <td>2.000000</td>\n",
       "      <td>2021</td>\n",
       "      <td>8</td>\n",
       "      <td>28</td>\n",
       "    </tr>\n",
       "    <tr>\n",
       "      <th>7414</th>\n",
       "      <td>2021-08-29</td>\n",
       "      <td>조천읍</td>\n",
       "      <td>제주특별자치도 제주시 조천읍 조천18길 11-1</td>\n",
       "      <td>0.003100</td>\n",
       "      <td>0.200000</td>\n",
       "      <td>6.000000</td>\n",
       "      <td>0.005700</td>\n",
       "      <td>0.017000</td>\n",
       "      <td>3.000000</td>\n",
       "      <td>2021</td>\n",
       "      <td>8</td>\n",
       "      <td>29</td>\n",
       "    </tr>\n",
       "    <tr>\n",
       "      <th>7415</th>\n",
       "      <td>2021-08-30</td>\n",
       "      <td>조천읍</td>\n",
       "      <td>제주특별자치도 제주시 조천읍 조천18길 11-1</td>\n",
       "      <td>0.003000</td>\n",
       "      <td>0.200000</td>\n",
       "      <td>7.000000</td>\n",
       "      <td>0.006900</td>\n",
       "      <td>0.020000</td>\n",
       "      <td>4.000000</td>\n",
       "      <td>2021</td>\n",
       "      <td>8</td>\n",
       "      <td>30</td>\n",
       "    </tr>\n",
       "    <tr>\n",
       "      <th>7416</th>\n",
       "      <td>2021-08-31</td>\n",
       "      <td>조천읍</td>\n",
       "      <td>제주특별자치도 제주시 조천읍 조천18길 11-1</td>\n",
       "      <td>0.003100</td>\n",
       "      <td>0.200000</td>\n",
       "      <td>7.000000</td>\n",
       "      <td>0.006300</td>\n",
       "      <td>0.018000</td>\n",
       "      <td>2.000000</td>\n",
       "      <td>2021</td>\n",
       "      <td>8</td>\n",
       "      <td>31</td>\n",
       "    </tr>\n",
       "  </tbody>\n",
       "</table>\n",
       "<p>7417 rows × 12 columns</p>\n",
       "</div>"
      ],
      "text/plain": [
       "             일자 측정소명                          주소       SO2        CO  \\\n",
       "0    2018-01-01  동홍동   제주 서귀포시 동홍동 453-1(서귀포소방서)  0.000913  0.304348   \n",
       "1    2018-01-02  동홍동   제주 서귀포시 동홍동 453-1(서귀포소방서)  0.001250  0.329167   \n",
       "2    2018-01-03  동홍동   제주 서귀포시 동홍동 453-1(서귀포소방서)  0.000917  0.316667   \n",
       "3    2018-01-04  동홍동   제주 서귀포시 동홍동 453-1(서귀포소방서)  0.000875  0.233333   \n",
       "4    2018-01-05  동홍동   제주 서귀포시 동홍동 453-1(서귀포소방서)  0.000750  0.250000   \n",
       "...         ...  ...                         ...       ...       ...   \n",
       "7412 2021-08-27  조천읍  제주특별자치도 제주시 조천읍 조천18길 11-1  0.003000  0.200000   \n",
       "7413 2021-08-28  조천읍  제주특별자치도 제주시 조천읍 조천18길 11-1  0.003000  0.200000   \n",
       "7414 2021-08-29  조천읍  제주특별자치도 제주시 조천읍 조천18길 11-1  0.003100  0.200000   \n",
       "7415 2021-08-30  조천읍  제주특별자치도 제주시 조천읍 조천18길 11-1  0.003000  0.200000   \n",
       "7416 2021-08-31  조천읍  제주특별자치도 제주시 조천읍 조천18길 11-1  0.003100  0.200000   \n",
       "\n",
       "           PM10       NO2        O3       PM25     년  월   일  \n",
       "0     49.130435  0.008739  0.028435  21.227273  2018  1   1  \n",
       "1     46.166667  0.013708  0.025542  23.083333  2018  1   2  \n",
       "2     52.916667  0.012083  0.028708  25.041667  2018  1   3  \n",
       "3     24.000000  0.007458  0.030333  11.263158  2018  1   4  \n",
       "4     19.157895  0.010208  0.023583  11.916667  2018  1   5  \n",
       "...         ...       ...       ...        ...   ... ..  ..  \n",
       "7412   9.000000  0.005800  0.014000   5.000000  2021  8  27  \n",
       "7413   7.000000  0.006200  0.017000   2.000000  2021  8  28  \n",
       "7414   6.000000  0.005700  0.017000   3.000000  2021  8  29  \n",
       "7415   7.000000  0.006900  0.020000   4.000000  2021  8  30  \n",
       "7416   7.000000  0.006300  0.018000   2.000000  2021  8  31  \n",
       "\n",
       "[7417 rows x 12 columns]"
      ]
     },
     "execution_count": 255,
     "metadata": {},
     "output_type": "execute_result"
    }
   ],
   "source": [
    "미세먼지_결측치.sort_values([\"년\",\"월\"])"
   ]
  },
  {
   "cell_type": "code",
   "execution_count": 178,
   "id": "3f4018ba",
   "metadata": {},
   "outputs": [],
   "source": [
    "미세먼지_결측치대체.to_csv(\"2018~2021 미세먼지 데이터 전처리완료.csv\",index=False,encoding=\"utf-8-sig\")"
   ]
  },
  {
   "cell_type": "markdown",
   "id": "9aa0d92d",
   "metadata": {},
   "source": [
    "## 선형 회귀 모델을 통한 결측치 대체"
   ]
  },
  {
   "cell_type": "markdown",
   "id": "79d5280c",
   "metadata": {},
   "source": [
    "전처리 방법으로 더 가공해보기\n",
    "- 미세먼지_결측치대체 : 앞뒤 평균으로 결측치 조금이라도 대체한 것\n",
    "- 미세먼지_결측치제거 : 결측치가 하나라도 있는 행 다 뺀 것\n",
    "- SO2 : 다른 열 말고 SO2만 결측치 있는 행 + 결측치가 없는 행"
   ]
  },
  {
   "cell_type": "code",
   "execution_count": 390,
   "id": "149d7120",
   "metadata": {},
   "outputs": [],
   "source": [
    "미세먼지_결측치대체 = pd.read_csv(\"2018~2021 미세먼지 데이터 전처리완료.csv\")"
   ]
  },
  {
   "cell_type": "code",
   "execution_count": 391,
   "id": "b87833f4",
   "metadata": {},
   "outputs": [],
   "source": [
    "from sklearn import linear_model\n",
    "from datetime import datetime, timedelta\n",
    "목록 = [\"SO2\",\"CO\",\"PM10\",\"NO2\",\"O3\",\"PM25\"]"
   ]
  },
  {
   "cell_type": "markdown",
   "id": "efdac3c1",
   "metadata": {},
   "source": [
    "# 결측치가 1개인 것들\n",
    "- 해당 항목 제외하고 선형 회귀로 예측하기"
   ]
  },
  {
   "cell_type": "markdown",
   "id": "af8b9629",
   "metadata": {},
   "source": [
    "SO2 예측하기 위한 모델 생성하기"
   ]
  },
  {
   "cell_type": "code",
   "execution_count": 392,
   "id": "c33ab0c9",
   "metadata": {},
   "outputs": [],
   "source": [
    "미세먼지_결측치제거 = 미세먼지_결측치대체.dropna(axis=0,how=\"any\")\n",
    "\n",
    "SO2 = 미세먼지_결측치대체[((미세먼지_결측치대체[\"PM10\"].notnull()) & (미세먼지_결측치대체[\"NO2\"].notnull()) & \n",
    "           (미세먼지_결측치대체[\"O3\"].notnull()) & (미세먼지_결측치대체[\"PM25\"].notnull()) &\n",
    "                     (미세먼지_결측치대체[\"CO\"].notnull()))]\n",
    "# SO2 : SO2만 null인 데이터\n",
    "\n",
    "X = 미세먼지_결측치제거[[\"CO\",\"PM10\",\"NO2\",\"O3\",\"PM25\"]]\n",
    "y = 미세먼지_결측치제거[\"SO2\"]"
   ]
  },
  {
   "cell_type": "code",
   "execution_count": 393,
   "id": "306fe8fd",
   "metadata": {},
   "outputs": [],
   "source": [
    "reg = linear_model.LinearRegression()\n",
    "reg.fit(X,y)\n",
    "y_pred = reg.predict(SO2[[\"CO\",\"PM10\",\"NO2\",\"O3\",\"PM25\"]])\n",
    "\n",
    "SO2_pred = pd.DataFrame(SO2[['일자','측정소명','SO2']].fillna(pd.Series(y_pred.flatten())))\n",
    "SO2['SO2'].fillna(pd.Series(y_pred.flatten()), inplace=True)"
   ]
  },
  {
   "cell_type": "markdown",
   "id": "e028a359",
   "metadata": {},
   "source": [
    "CO 예측하기 위한 모델 생성하기"
   ]
  },
  {
   "cell_type": "code",
   "execution_count": 394,
   "id": "6eb330c7",
   "metadata": {},
   "outputs": [],
   "source": [
    "CO = 미세먼지_결측치대체[((미세먼지_결측치대체[\"PM10\"].notnull()) & (미세먼지_결측치대체[\"NO2\"].notnull()) & \n",
    "           (미세먼지_결측치대체[\"O3\"].notnull()) & (미세먼지_결측치대체[\"PM25\"].notnull()) &\n",
    "                     (미세먼지_결측치대체[\"SO2\"].notnull()))]\n",
    "\n",
    "X = 미세먼지_결측치제거[[\"SO2\",\"PM10\",\"NO2\",\"O3\",\"PM25\"]]\n",
    "y = 미세먼지_결측치제거[\"CO\"]"
   ]
  },
  {
   "cell_type": "code",
   "execution_count": 395,
   "id": "7faae434",
   "metadata": {},
   "outputs": [],
   "source": [
    "reg = linear_model.LinearRegression() ; reg.fit(X,y)\n",
    "y_pred = reg.predict(CO[[\"SO2\",\"PM10\",\"NO2\",\"O3\",\"PM25\"]])\n",
    "\n",
    "CO_pred = pd.DataFrame(CO[['일자','측정소명','CO']].fillna(pd.Series(y_pred.flatten())))\n",
    "CO['CO'].fillna(pd.Series(y_pred.flatten()), inplace=True)"
   ]
  },
  {
   "cell_type": "markdown",
   "id": "6f8c3fcd",
   "metadata": {},
   "source": [
    "PM10 예측하기 위한 모델 생성하기"
   ]
  },
  {
   "cell_type": "code",
   "execution_count": 396,
   "id": "7dc85527",
   "metadata": {},
   "outputs": [],
   "source": [
    "PM10 = 미세먼지_결측치대체[((미세먼지_결측치대체[\"CO\"].notnull()) & (미세먼지_결측치대체[\"NO2\"].notnull()) & \n",
    "           (미세먼지_결측치대체[\"O3\"].notnull()) & (미세먼지_결측치대체[\"PM25\"].notnull()) &\n",
    "                     (미세먼지_결측치대체[\"SO2\"].notnull()))]\n",
    "\n",
    "X = 미세먼지_결측치제거[[\"SO2\",\"CO\",\"NO2\",\"O3\",\"PM25\"]] ; y = 미세먼지_결측치제거[\"PM10\"]\n",
    "reg = linear_model.LinearRegression() ; reg.fit(X,y)\n",
    "y_pred = reg.predict(PM10[[\"SO2\",\"CO\",\"NO2\",\"O3\",\"PM25\"]])\n",
    "\n",
    "PM10_pred = pd.DataFrame(PM10[['일자','측정소명','PM10']].fillna(pd.Series(y_pred.flatten())))\n",
    "PM10['PM10'].fillna(pd.Series(y_pred.flatten()), inplace=True)"
   ]
  },
  {
   "cell_type": "markdown",
   "id": "909d5194",
   "metadata": {},
   "source": [
    "NO2 예측하기 위한 모델 생성하기"
   ]
  },
  {
   "cell_type": "code",
   "execution_count": 397,
   "id": "6179f049",
   "metadata": {},
   "outputs": [],
   "source": [
    "NO2 = 미세먼지_결측치대체[((미세먼지_결측치대체[\"CO\"].notnull()) & (미세먼지_결측치대체[\"PM10\"].notnull()) & \n",
    "           (미세먼지_결측치대체[\"O3\"].notnull()) & (미세먼지_결측치대체[\"PM25\"].notnull()) &\n",
    "                     (미세먼지_결측치대체[\"SO2\"].notnull()))]\n",
    "\n",
    "X = 미세먼지_결측치제거[[\"SO2\",\"CO\",\"PM10\",\"O3\",\"PM25\"]] ; y = 미세먼지_결측치제거[\"NO2\"]\n",
    "reg = linear_model.LinearRegression() ; reg.fit(X,y)\n",
    "y_pred = reg.predict(NO2[[\"SO2\",\"CO\",\"PM10\",\"O3\",\"PM25\"]])\n",
    "\n",
    "NO2_pred = pd.DataFrame(NO2[['일자','측정소명','NO2']].fillna(pd.Series(y_pred.flatten())))\n",
    "NO2['NO2'].fillna(pd.Series(y_pred.flatten()), inplace=True)"
   ]
  },
  {
   "cell_type": "markdown",
   "id": "3dd5d2b6",
   "metadata": {},
   "source": [
    "O3 예측하기 위한 모델 생성하기"
   ]
  },
  {
   "cell_type": "code",
   "execution_count": 398,
   "id": "38377e96",
   "metadata": {},
   "outputs": [],
   "source": [
    "O3 = 미세먼지_결측치대체[((미세먼지_결측치대체[\"CO\"].notnull()) & (미세먼지_결측치대체[\"PM10\"].notnull()) & \n",
    "           (미세먼지_결측치대체[\"NO2\"].notnull()) & (미세먼지_결측치대체[\"PM25\"].notnull()) &\n",
    "                     (미세먼지_결측치대체[\"SO2\"].notnull()))]\n",
    "\n",
    "X = 미세먼지_결측치제거[[\"SO2\",\"CO\",\"PM10\",\"NO2\",\"PM25\"]] ; y = 미세먼지_결측치제거[\"NO2\"]\n",
    "reg = linear_model.LinearRegression() ; reg.fit(X,y)\n",
    "y_pred = reg.predict(O3[[\"SO2\",\"CO\",\"PM10\",\"NO2\",\"PM25\"]])\n",
    "\n",
    "#O3_pred = pd.DataFrame(O3[['일자','측정소명','O3']].fillna(pd.Series(y_pred.flatten())))\n",
    "# O3_pred 는 O3에서 결측치를 채웠음\n",
    "O3['O3'].fillna(pd.Series(y_pred.flatten()), inplace=True)"
   ]
  },
  {
   "cell_type": "markdown",
   "id": "e6f5c968",
   "metadata": {},
   "source": [
    "PM25 예측하기 위한 모델 생성하기"
   ]
  },
  {
   "cell_type": "code",
   "execution_count": 399,
   "id": "74bf4ef1",
   "metadata": {},
   "outputs": [],
   "source": [
    "PM25 = 미세먼지_결측치대체[((미세먼지_결측치대체[\"CO\"].notnull()) & (미세먼지_결측치대체[\"NO2\"].notnull()) & \n",
    "           (미세먼지_결측치대체[\"O3\"].notnull()) & (미세먼지_결측치대체[\"PM10\"].notnull()) &\n",
    "                     (미세먼지_결측치대체[\"SO2\"].notnull()))]\n",
    "\n",
    "X = 미세먼지_결측치제거[[\"SO2\",\"CO\",\"NO2\",\"O3\",\"PM10\"]] ; y = 미세먼지_결측치제거[\"PM25\"]\n",
    "reg = linear_model.LinearRegression() ; reg.fit(X,y)\n",
    "y_pred = reg.predict(PM25[[\"SO2\",\"CO\",\"NO2\",\"O3\",\"PM10\"]])\n",
    "\n",
    "#PM25_pred = pd.DataFrame(PM25[['일자','측정소명','PM25']].fillna(pd.Series(y_pred.flatten())))\n",
    "PM25['PM25'].fillna(pd.Series(y_pred.flatten()), inplace=True)"
   ]
  },
  {
   "cell_type": "markdown",
   "id": "6b6e9a4a",
   "metadata": {},
   "source": [
    "예측한 값들 채워주기\n",
    "- 미세먼지_결측치대체 dataframe에 할당해주기 : 하나만 결측인 것들은 해결했음\n",
    "- NO2, SO2 는 모든 값들이 없고\n",
    "- 나머지 항목들은 부분부분 없는 것 / 모두 없는 것 둘다 존재\n",
    "- 모두 결측인 것들은 전년도 다음년도 평균으로 예측하면 될 것 같고\n",
    "- 부분 결측인 것들도 예측하면 될 듯"
   ]
  },
  {
   "cell_type": "code",
   "execution_count": 400,
   "id": "371694e6",
   "metadata": {},
   "outputs": [],
   "source": [
    "미세먼지_결측치대체.loc[SO2.index,\"SO2\"] = 미세먼지_결측치대체.loc[SO2.index,\n",
    "                                                   \"SO2\"].fillna(SO2[\"SO2\"])\n",
    "미세먼지_결측치대체.loc[CO.index,\"CO\"] = 미세먼지_결측치대체.loc[CO.index,\n",
    "                                                   \"CO\"].fillna(CO[\"CO\"])\n",
    "미세먼지_결측치대체.loc[PM10.index,\"PM10\"] = 미세먼지_결측치대체.loc[PM10.index,\n",
    "                                                   \"PM10\"].fillna(PM10[\"PM10\"])\n",
    "미세먼지_결측치대체.loc[NO2.index,\"NO2\"] = 미세먼지_결측치대체.loc[NO2.index,\n",
    "                                                   \"NO2\"].fillna(NO2[\"NO2\"])\n",
    "미세먼지_결측치대체.loc[O3.index,\"O3\"] = 미세먼지_결측치대체.loc[O3.index,\n",
    "                                                   \"O3\"].fillna(O3[\"O3\"])\n",
    "미세먼지_결측치대체.loc[PM25.index,\"PM25\"] = 미세먼지_결측치대체.loc[PM25.index,\n",
    "                                                   \"PM25\"].fillna(PM25[\"PM25\"])"
   ]
  },
  {
   "cell_type": "markdown",
   "id": "70df2070",
   "metadata": {},
   "source": [
    "## 결측치가 2개 이상인 것들\n",
    "- PM10과 PM25가 동시에 결측인 것\n",
    "- O3와 PM25가 동시에 결측인 것\n",
    "- O3와 CO가 동시에 결측인 것"
   ]
  },
  {
   "cell_type": "markdown",
   "id": "94c98dd0",
   "metadata": {},
   "source": [
    "PM10과 PM25가 동시에 결측인 것\n",
    "- PM10,PM25를 제외한 것들로 차례차례 예측하기"
   ]
  },
  {
   "cell_type": "code",
   "execution_count": 401,
   "id": "679bf8f6",
   "metadata": {},
   "outputs": [],
   "source": [
    "PM10_PM25 = 미세먼지_결측치대체[((미세먼지_결측치대체[\"CO\"].notnull()) & (미세먼지_결측치대체[\"NO2\"].notnull()) & \n",
    "           (미세먼지_결측치대체[\"O3\"].notnull()) & (미세먼지_결측치대체[\"SO2\"].notnull()))]\n",
    "\n",
    "X = 미세먼지_결측치제거[[\"SO2\",\"CO\",\"NO2\",\"O3\"]]\n",
    "y_1 = 미세먼지_결측치제거[\"PM10\"] ; y_2 = 미세먼지_결측치제거[\"PM25\"]\n",
    "reg_1 = linear_model.LinearRegression() ; reg_1.fit(X,y_1)\n",
    "reg_2 = linear_model.LinearRegression() ; reg_2.fit(X,y_2)\n",
    "\n",
    "y_pred_1 = reg_1.predict(PM10_PM25[[\"SO2\",\"CO\",\"NO2\",\"O3\"]])\n",
    "y_pred_2 = reg_2.predict(PM10_PM25[[\"SO2\",\"CO\",\"NO2\",\"O3\"]])\n",
    "\n",
    "PM10_PM25['PM10'].fillna(pd.Series(y_pred_1.flatten()), inplace=True)\n",
    "PM10_PM25['PM25'].fillna(pd.Series(y_pred_2.flatten()), inplace=True)"
   ]
  },
  {
   "cell_type": "code",
   "execution_count": 402,
   "id": "a0ff9ff3",
   "metadata": {},
   "outputs": [],
   "source": [
    "미세먼지_결측치대체.loc[PM10_PM25.index,\"PM10\"] = 미세먼지_결측치대체.loc[PM10_PM25.index,\n",
    "                                                   \"PM10\"].fillna(PM10_PM25[\"PM10\"])\n",
    "미세먼지_결측치대체.loc[PM10_PM25.index,\"PM25\"] = 미세먼지_결측치대체.loc[PM10_PM25.index,\n",
    "                                                   \"PM25\"].fillna(PM10_PM25[\"PM25\"])"
   ]
  },
  {
   "cell_type": "markdown",
   "id": "60b173e5",
   "metadata": {},
   "source": [
    "O3과 PM25가 동시에 결측인 것\n",
    "- O3,PM25를 제외한 것들로 차례차례 예측하기"
   ]
  },
  {
   "cell_type": "code",
   "execution_count": 403,
   "id": "78411dc7",
   "metadata": {},
   "outputs": [],
   "source": [
    "O3_PM25 = 미세먼지_결측치대체[((미세먼지_결측치대체[\"CO\"].notnull()) & (미세먼지_결측치대체[\"NO2\"].notnull()) & \n",
    "           (미세먼지_결측치대체[\"PM10\"].notnull()) & (미세먼지_결측치대체[\"SO2\"].notnull()))]\n",
    "\n",
    "X = 미세먼지_결측치제거[[\"SO2\",\"CO\",\"NO2\",\"PM10\"]]\n",
    "y_1 = 미세먼지_결측치제거[\"O3\"] ; y_2 = 미세먼지_결측치제거[\"PM25\"]\n",
    "reg_1 = linear_model.LinearRegression() ; reg_1.fit(X,y_1)\n",
    "reg_2 = linear_model.LinearRegression() ; reg_2.fit(X,y_2)\n",
    "\n",
    "y_pred_1 = reg_1.predict(PM10_PM25[[\"SO2\",\"CO\",\"NO2\",\"PM10\"]])\n",
    "y_pred_2 = reg_2.predict(PM10_PM25[[\"SO2\",\"CO\",\"NO2\",\"PM10\"]])\n",
    "\n",
    "O3_PM25['O3'].fillna(pd.Series(y_pred_1.flatten()), inplace=True)\n",
    "O3_PM25['PM25'].fillna(pd.Series(y_pred_2.flatten()), inplace=True)"
   ]
  },
  {
   "cell_type": "code",
   "execution_count": 404,
   "id": "584c44c3",
   "metadata": {},
   "outputs": [],
   "source": [
    "미세먼지_결측치대체.loc[O3_PM25.index,\"O3\"] = 미세먼지_결측치대체.loc[O3_PM25.index,\n",
    "                                                   \"O3\"].fillna(O3_PM25[\"O3\"])\n",
    "미세먼지_결측치대체.loc[O3_PM25.index,\"PM25\"] = 미세먼지_결측치대체.loc[O3_PM25.index,\n",
    "                                                   \"PM25\"].fillna(O3_PM25[\"PM25\"])"
   ]
  },
  {
   "cell_type": "markdown",
   "id": "18711a69",
   "metadata": {},
   "source": [
    "O3과 CO가 동시에 결측인 것\n",
    "- O3,CO를 제외한 것들로 차례차례 예측하기"
   ]
  },
  {
   "cell_type": "code",
   "execution_count": 405,
   "id": "9a6a7ca3",
   "metadata": {},
   "outputs": [],
   "source": [
    "O3_CO = 미세먼지_결측치대체[((미세먼지_결측치대체[\"PM25\"].notnull()) & (미세먼지_결측치대체[\"NO2\"].notnull()) & \n",
    "           (미세먼지_결측치대체[\"PM10\"].notnull()) & (미세먼지_결측치대체[\"SO2\"].notnull()))]\n",
    "\n",
    "X = 미세먼지_결측치제거[[\"SO2\",\"PM25\",\"NO2\",\"PM10\"]]\n",
    "y_1 = 미세먼지_결측치제거[\"O3\"] ; y_2 = 미세먼지_결측치제거[\"CO\"]\n",
    "reg_1 = linear_model.LinearRegression() ; reg_1.fit(X,y_1)\n",
    "reg_2 = linear_model.LinearRegression() ; reg_2.fit(X,y_2)\n",
    "\n",
    "y_pred_1 = reg_1.predict(PM10_PM25[[\"SO2\",\"PM25\",\"NO2\",\"PM10\"]])\n",
    "y_pred_2 = reg_2.predict(PM10_PM25[[\"SO2\",\"PM25\",\"NO2\",\"PM10\"]])\n",
    "\n",
    "O3_CO['O3'].fillna(pd.Series(y_pred_1.flatten()), inplace=True)\n",
    "O3_CO['CO'].fillna(pd.Series(y_pred_2.flatten()), inplace=True)"
   ]
  },
  {
   "cell_type": "code",
   "execution_count": 406,
   "id": "ff727983",
   "metadata": {},
   "outputs": [],
   "source": [
    "미세먼지_결측치대체.loc[O3_CO.index,\"O3\"] = 미세먼지_결측치대체.loc[O3_CO.index,\n",
    "                                                   \"O3\"].fillna(O3_CO[\"O3\"])\n",
    "미세먼지_결측치대체.loc[O3_CO.index,\"CO\"] = 미세먼지_결측치대체.loc[O3_CO.index,\n",
    "                                                   \"CO\"].fillna(O3_CO[\"CO\"])"
   ]
  },
  {
   "cell_type": "markdown",
   "id": "6c9da383",
   "metadata": {},
   "source": [
    "# 모든 항목이 결측치인 경우\n",
    "- 전년도 작년도 평균으로 결측치 대체\n",
    "- 총 21개의 칼럼 (결측치가 10%이하면 괜찮음) 0.28%라 괜찮을듯?\n",
    "\n",
    "#### 전년도 후년도 평균으로도 채울 수 없는 결측치\n",
    "- 5600,5601,5602,5626,5627 대정읍\n",
    "- 후년도 해당일자, 전날, 다음날의 평균으로 대체하자(전년도 데이터가 없음)\n",
    "- 2019-09-06의 경우 2020-09-05 ~ 2020-09-07의 평균"
   ]
  },
  {
   "cell_type": "markdown",
   "id": "1f17479f",
   "metadata": {},
   "source": [
    "- 4월 24일 데이터 생성해서 concat 해주기"
   ]
  },
  {
   "cell_type": "code",
   "execution_count": 407,
   "id": "6cf02127",
   "metadata": {},
   "outputs": [
    {
     "data": {
      "text/html": [
       "<div>\n",
       "<style scoped>\n",
       "    .dataframe tbody tr th:only-of-type {\n",
       "        vertical-align: middle;\n",
       "    }\n",
       "\n",
       "    .dataframe tbody tr th {\n",
       "        vertical-align: top;\n",
       "    }\n",
       "\n",
       "    .dataframe thead th {\n",
       "        text-align: right;\n",
       "    }\n",
       "</style>\n",
       "<table border=\"1\" class=\"dataframe\">\n",
       "  <thead>\n",
       "    <tr style=\"text-align: right;\">\n",
       "      <th></th>\n",
       "      <th>일자</th>\n",
       "      <th>측정소명</th>\n",
       "      <th>주소</th>\n",
       "      <th>SO2</th>\n",
       "      <th>CO</th>\n",
       "      <th>PM10</th>\n",
       "      <th>NO2</th>\n",
       "      <th>O3</th>\n",
       "      <th>PM25</th>\n",
       "      <th>년</th>\n",
       "      <th>월</th>\n",
       "      <th>일</th>\n",
       "    </tr>\n",
       "  </thead>\n",
       "  <tbody>\n",
       "    <tr>\n",
       "      <th>0</th>\n",
       "      <td>2021-04-24</td>\n",
       "      <td>동홍동</td>\n",
       "      <td>NaN</td>\n",
       "      <td>NaN</td>\n",
       "      <td>NaN</td>\n",
       "      <td>NaN</td>\n",
       "      <td>NaN</td>\n",
       "      <td>NaN</td>\n",
       "      <td>NaN</td>\n",
       "      <td>2021</td>\n",
       "      <td>4</td>\n",
       "      <td>24</td>\n",
       "    </tr>\n",
       "    <tr>\n",
       "      <th>1</th>\n",
       "      <td>2021-04-24</td>\n",
       "      <td>이도동</td>\n",
       "      <td>NaN</td>\n",
       "      <td>NaN</td>\n",
       "      <td>NaN</td>\n",
       "      <td>NaN</td>\n",
       "      <td>NaN</td>\n",
       "      <td>NaN</td>\n",
       "      <td>NaN</td>\n",
       "      <td>2021</td>\n",
       "      <td>4</td>\n",
       "      <td>24</td>\n",
       "    </tr>\n",
       "    <tr>\n",
       "      <th>2</th>\n",
       "      <td>2021-04-24</td>\n",
       "      <td>성산읍</td>\n",
       "      <td>NaN</td>\n",
       "      <td>NaN</td>\n",
       "      <td>NaN</td>\n",
       "      <td>NaN</td>\n",
       "      <td>NaN</td>\n",
       "      <td>NaN</td>\n",
       "      <td>NaN</td>\n",
       "      <td>2021</td>\n",
       "      <td>4</td>\n",
       "      <td>24</td>\n",
       "    </tr>\n",
       "  </tbody>\n",
       "</table>\n",
       "</div>"
      ],
      "text/plain": [
       "           일자 측정소명   주소  SO2   CO PM10  NO2   O3 PM25     년  월   일\n",
       "0  2021-04-24  동홍동  NaN  NaN  NaN  NaN  NaN  NaN  NaN  2021  4  24\n",
       "1  2021-04-24  이도동  NaN  NaN  NaN  NaN  NaN  NaN  NaN  2021  4  24\n",
       "2  2021-04-24  성산읍  NaN  NaN  NaN  NaN  NaN  NaN  NaN  2021  4  24"
      ]
     },
     "execution_count": 407,
     "metadata": {},
     "output_type": "execute_result"
    }
   ],
   "source": [
    "new = pd.DataFrame(columns = [\"일자\",\"측정소명\",\"주소\",\"SO2\",\"CO\",\"PM10\",\"NO2\",\"O3\",\n",
    "                             \"PM25\",\"년\",\"월\",\"일\"])\n",
    "\n",
    "new[\"측정소명\"] = [\"동홍동\",\"이도동\",\"성산읍\",\"연동\",\"대정읍\",\"남원읍\",\"조천읍\"]\n",
    "new[\"년\"] = 2021 ; new[\"월\"] = 4 ; new[\"일\"] = 24\n",
    "new[\"일자\"] = \"2021-04-24\"\n",
    "new.head(3)"
   ]
  },
  {
   "cell_type": "code",
   "execution_count": 408,
   "id": "9f14f69e",
   "metadata": {},
   "outputs": [],
   "source": [
    "null_idx = [613,  614,  615,  639,  640, 1951, 1952, 1953, 3289, 3290, 3291,\n",
    "            3315, 3316, 4627, 4628, 4629, 5600, 5601, 5602, 5626, 5627]\n",
    "# 모든 항목이 결측치인 행의 index"
   ]
  },
  {
   "cell_type": "code",
   "execution_count": 409,
   "id": "d277e117",
   "metadata": {},
   "outputs": [],
   "source": [
    "null_df = pd.concat([미세먼지_결측치대체,new],axis=0,ignore_index=True).drop(\"주소\",axis=1)\n",
    "# 4월 24일 결측치 포함한 new\n",
    "null_df[\"일자\"] = pd.to_datetime(null_df[\"일자\"],format=\"%Y-%m-%d\")"
   ]
  },
  {
   "cell_type": "code",
   "execution_count": 410,
   "id": "29083031",
   "metadata": {},
   "outputs": [],
   "source": [
    "for idx,row in null_df.iloc[null_idx,:].iterrows():\n",
    "    전년도 = row[\"일자\"] - timedelta(days=365)\n",
    "    후년도 = row[\"일자\"] + timedelta(days=365)\n",
    "    측정소명 = row[\"측정소명\"] ; 일자 = row[\"일자\"]\n",
    "    \n",
    "    전년도_idx = null_df.index[(null_df[\"측정소명\"] == 측정소명) & (null_df[\"일자\"] == 전년도)]\n",
    "    후년도_idx = null_df.index[(null_df[\"측정소명\"] == 측정소명) & (null_df[\"일자\"] == 후년도)]\n",
    "    \n",
    "    if (len(전년도_idx) > 0) & (len(후년도_idx) > 0):\n",
    "        평균값 = null_df.loc[[전년도_idx[0],후년도_idx[0]],[\"SO2\",\"CO\",\"PM10\",\"NO2\",\"O3\",\"PM25\"]].mean(axis=0)\n",
    "        null_df.loc[idx,[\"SO2\",\"CO\",\"PM10\",\"NO2\",\"O3\",\"PM25\"]] = 평균값\n",
    "        \n",
    "    elif (len(전년도_idx) == 0) & (len(후년도_idx) > 0):# 후년도만 있는 경우\n",
    "        평균값 = null_df.loc[[후년도_idx[0]-1,후년도_idx[0],후년도_idx[0]+1],[\"SO2\",\"CO\",\"PM10\",\"NO2\",\n",
    "                                                                  \"O3\",\"PM25\"]].mean(axis=0)\n",
    "        null_df.loc[idx,[\"SO2\",\"CO\",\"PM10\",\"NO2\",\"O3\",\"PM25\"]] = 평균값"
   ]
  },
  {
   "cell_type": "markdown",
   "id": "26ef090c",
   "metadata": {},
   "source": [
    "2018년에는 연동 이도동 성산읍 동홍동 관측소만 존재했음 이 4개만 가지고 행정동에 매핑해주기\n",
    "- 4월 24일꺼 매꿔야함 : index 7417 ~ 7423\n",
    "- 4월 24일 동홍동의 경우 (4월23일 동홍동 + 4월25일 동홍동)/2\n"
   ]
  },
  {
   "cell_type": "code",
   "execution_count": 453,
   "id": "698d48f5",
   "metadata": {},
   "outputs": [],
   "source": [
    "for idx,row in null_df.iloc[7417:,:].iterrows():\n",
    "    항목 = [\"SO2\",\"CO\",\"PM10\",\"NO2\",\"O3\",\"PM25\"]\n",
    "    \n",
    "    전날 = null_df.index[(null_df[\"일자\"] == (row[\"일자\"] - timedelta(1))) & (null_df[\"측정소명\"] == row[\"측정소명\"])]\n",
    "    다음날 = null_df.index[(null_df[\"일자\"] == (row[\"일자\"] + timedelta(1))) & (null_df[\"측정소명\"] == row[\"측정소명\"])]\n",
    "    \n",
    "    for k in 항목:\n",
    "        null_df.loc[idx,k] = (null_df.loc[전날[0],k] + null_df.loc[다음날[0],k])"
   ]
  },
  {
   "cell_type": "code",
   "execution_count": 470,
   "id": "e9ceeedc",
   "metadata": {},
   "outputs": [],
   "source": [
    "null_df = null_df.sort_values([\"일자\",\"측정소명\"]).reset_index(drop=True)"
   ]
  },
  {
   "cell_type": "code",
   "execution_count": 459,
   "id": "d5102b2d",
   "metadata": {},
   "outputs": [],
   "source": [
    "null_df.to_csv(\"2018~2021 미세먼지 데이터 결측치처리완료.csv\",index=False,encoding=\"utf-8-sig\")"
   ]
  },
  {
   "cell_type": "markdown",
   "id": "a9ef853e",
   "metadata": {},
   "source": [
    "## 관측소의 데이터 행정동 매핑\n",
    "- 지금까지 관측소별로 일별 데이터를 전처리했다\n",
    "- 행정동에 매핑하자\n",
    "- 365 * 43 = 15695개\n",
    "- 243 * 43 = 10449개"
   ]
  },
  {
   "cell_type": "code",
   "execution_count": 483,
   "id": "e096491e",
   "metadata": {},
   "outputs": [],
   "source": [
    "행정동별_관측소 = pd.read_csv(\"미세먼지 관측소 행정동매핑.csv\")"
   ]
  },
  {
   "cell_type": "code",
   "execution_count": 484,
   "id": "29c0e4a4",
   "metadata": {},
   "outputs": [],
   "source": [
    "def get_미세먼지_행정동매핑(미세먼지,행정동,연도):\n",
    "    data = 미세먼지[미세먼지[\"년\"] == 연도]\n",
    "    # 선택한 연도의 미세먼지 데이터\n",
    "    data2 = 행정동[[\"행정동명\",\"관측소\"+\"_\"+str(연도)]]\n",
    "    # 선택한 연도의 행정동 매핑\n",
    "    data2.columns = [\"행정동명\",\"측정소명\"]\n",
    "    # 연결하기 위해 col 이름 수정\n",
    "    \n",
    "    result = pd.merge(data2,data,on=\"측정소명\",how=\"left\")\n",
    "    return result"
   ]
  },
  {
   "cell_type": "code",
   "execution_count": 485,
   "id": "164ea687",
   "metadata": {},
   "outputs": [],
   "source": [
    "result_lst = []\n",
    "for 연도 in [2018,2019,2020,2021]:\n",
    "    result_lst.append((get_미세먼지_행정동매핑(null_df,행정동별_관측소,연도)))\n",
    "    \n",
    "result_df = pd.concat(result_lst,axis=0,ignore_index=True)\n",
    "#test = get_미세먼지_행정동매핑(null_df,행정동별_관측소,2021)"
   ]
  },
  {
   "cell_type": "code",
   "execution_count": 487,
   "id": "1d9d53ef",
   "metadata": {
    "scrolled": true
   },
   "outputs": [],
   "source": [
    "result_df.to_csv(\"2018~2021 미세먼지 데이터 결측치처리완료 행정동매핑완료.csv\",index=False,encoding=\"utf-8-sig\")"
   ]
  },
  {
   "cell_type": "code",
   "execution_count": null,
   "id": "7bb562de",
   "metadata": {},
   "outputs": [],
   "source": []
  },
  {
   "cell_type": "code",
   "execution_count": 464,
   "id": "786fcaee",
   "metadata": {},
   "outputs": [
    {
     "data": {
      "text/html": [
       "<div>\n",
       "<style scoped>\n",
       "    .dataframe tbody tr th:only-of-type {\n",
       "        vertical-align: middle;\n",
       "    }\n",
       "\n",
       "    .dataframe tbody tr th {\n",
       "        vertical-align: top;\n",
       "    }\n",
       "\n",
       "    .dataframe thead th {\n",
       "        text-align: right;\n",
       "    }\n",
       "</style>\n",
       "<table border=\"1\" class=\"dataframe\">\n",
       "  <thead>\n",
       "    <tr style=\"text-align: right;\">\n",
       "      <th></th>\n",
       "      <th>행정동명</th>\n",
       "      <th>측정소명</th>\n",
       "      <th>일자</th>\n",
       "      <th>SO2</th>\n",
       "      <th>CO</th>\n",
       "      <th>PM10</th>\n",
       "      <th>NO2</th>\n",
       "      <th>O3</th>\n",
       "      <th>PM25</th>\n",
       "      <th>년</th>\n",
       "      <th>월</th>\n",
       "      <th>일</th>\n",
       "    </tr>\n",
       "  </thead>\n",
       "  <tbody>\n",
       "    <tr>\n",
       "      <th>0</th>\n",
       "      <td>한림읍</td>\n",
       "      <td>대정읍</td>\n",
       "      <td>2021-01-01</td>\n",
       "      <td>0.0010</td>\n",
       "      <td>0.5</td>\n",
       "      <td>21.0</td>\n",
       "      <td>0.0049</td>\n",
       "      <td>0.035</td>\n",
       "      <td>14.0</td>\n",
       "      <td>2021</td>\n",
       "      <td>1</td>\n",
       "      <td>1</td>\n",
       "    </tr>\n",
       "    <tr>\n",
       "      <th>1</th>\n",
       "      <td>한림읍</td>\n",
       "      <td>대정읍</td>\n",
       "      <td>2021-01-02</td>\n",
       "      <td>0.0010</td>\n",
       "      <td>0.6</td>\n",
       "      <td>26.0</td>\n",
       "      <td>0.0048</td>\n",
       "      <td>0.040</td>\n",
       "      <td>17.0</td>\n",
       "      <td>2021</td>\n",
       "      <td>1</td>\n",
       "      <td>2</td>\n",
       "    </tr>\n",
       "    <tr>\n",
       "      <th>2</th>\n",
       "      <td>한림읍</td>\n",
       "      <td>대정읍</td>\n",
       "      <td>2021-01-03</td>\n",
       "      <td>0.0020</td>\n",
       "      <td>0.7</td>\n",
       "      <td>45.0</td>\n",
       "      <td>0.0053</td>\n",
       "      <td>0.039</td>\n",
       "      <td>23.0</td>\n",
       "      <td>2021</td>\n",
       "      <td>1</td>\n",
       "      <td>3</td>\n",
       "    </tr>\n",
       "    <tr>\n",
       "      <th>3</th>\n",
       "      <td>한림읍</td>\n",
       "      <td>대정읍</td>\n",
       "      <td>2021-01-04</td>\n",
       "      <td>0.0019</td>\n",
       "      <td>0.7</td>\n",
       "      <td>42.0</td>\n",
       "      <td>0.0083</td>\n",
       "      <td>0.038</td>\n",
       "      <td>25.0</td>\n",
       "      <td>2021</td>\n",
       "      <td>1</td>\n",
       "      <td>4</td>\n",
       "    </tr>\n",
       "    <tr>\n",
       "      <th>4</th>\n",
       "      <td>한림읍</td>\n",
       "      <td>대정읍</td>\n",
       "      <td>2021-01-05</td>\n",
       "      <td>0.0013</td>\n",
       "      <td>0.6</td>\n",
       "      <td>32.0</td>\n",
       "      <td>0.0062</td>\n",
       "      <td>0.038</td>\n",
       "      <td>22.0</td>\n",
       "      <td>2021</td>\n",
       "      <td>1</td>\n",
       "      <td>5</td>\n",
       "    </tr>\n",
       "    <tr>\n",
       "      <th>...</th>\n",
       "      <td>...</td>\n",
       "      <td>...</td>\n",
       "      <td>...</td>\n",
       "      <td>...</td>\n",
       "      <td>...</td>\n",
       "      <td>...</td>\n",
       "      <td>...</td>\n",
       "      <td>...</td>\n",
       "      <td>...</td>\n",
       "      <td>...</td>\n",
       "      <td>...</td>\n",
       "      <td>...</td>\n",
       "    </tr>\n",
       "    <tr>\n",
       "      <th>10444</th>\n",
       "      <td>예래동</td>\n",
       "      <td>대정읍</td>\n",
       "      <td>2021-08-27</td>\n",
       "      <td>0.0010</td>\n",
       "      <td>0.1</td>\n",
       "      <td>24.0</td>\n",
       "      <td>0.0035</td>\n",
       "      <td>0.022</td>\n",
       "      <td>7.0</td>\n",
       "      <td>2021</td>\n",
       "      <td>8</td>\n",
       "      <td>27</td>\n",
       "    </tr>\n",
       "    <tr>\n",
       "      <th>10445</th>\n",
       "      <td>예래동</td>\n",
       "      <td>대정읍</td>\n",
       "      <td>2021-08-28</td>\n",
       "      <td>0.0010</td>\n",
       "      <td>0.1</td>\n",
       "      <td>25.0</td>\n",
       "      <td>0.0034</td>\n",
       "      <td>0.024</td>\n",
       "      <td>7.0</td>\n",
       "      <td>2021</td>\n",
       "      <td>8</td>\n",
       "      <td>28</td>\n",
       "    </tr>\n",
       "    <tr>\n",
       "      <th>10446</th>\n",
       "      <td>예래동</td>\n",
       "      <td>대정읍</td>\n",
       "      <td>2021-08-29</td>\n",
       "      <td>0.0010</td>\n",
       "      <td>0.1</td>\n",
       "      <td>22.0</td>\n",
       "      <td>0.0034</td>\n",
       "      <td>0.025</td>\n",
       "      <td>6.0</td>\n",
       "      <td>2021</td>\n",
       "      <td>8</td>\n",
       "      <td>29</td>\n",
       "    </tr>\n",
       "    <tr>\n",
       "      <th>10447</th>\n",
       "      <td>예래동</td>\n",
       "      <td>대정읍</td>\n",
       "      <td>2021-08-30</td>\n",
       "      <td>0.0010</td>\n",
       "      <td>0.1</td>\n",
       "      <td>18.0</td>\n",
       "      <td>0.0041</td>\n",
       "      <td>0.023</td>\n",
       "      <td>6.0</td>\n",
       "      <td>2021</td>\n",
       "      <td>8</td>\n",
       "      <td>30</td>\n",
       "    </tr>\n",
       "    <tr>\n",
       "      <th>10448</th>\n",
       "      <td>예래동</td>\n",
       "      <td>대정읍</td>\n",
       "      <td>2021-08-31</td>\n",
       "      <td>0.0010</td>\n",
       "      <td>0.1</td>\n",
       "      <td>17.0</td>\n",
       "      <td>0.0040</td>\n",
       "      <td>0.026</td>\n",
       "      <td>7.0</td>\n",
       "      <td>2021</td>\n",
       "      <td>8</td>\n",
       "      <td>31</td>\n",
       "    </tr>\n",
       "  </tbody>\n",
       "</table>\n",
       "<p>10449 rows × 12 columns</p>\n",
       "</div>"
      ],
      "text/plain": [
       "      행정동명 측정소명         일자     SO2   CO  PM10     NO2     O3  PM25     년  월  \\\n",
       "0      한림읍  대정읍 2021-01-01  0.0010  0.5  21.0  0.0049  0.035  14.0  2021  1   \n",
       "1      한림읍  대정읍 2021-01-02  0.0010  0.6  26.0  0.0048  0.040  17.0  2021  1   \n",
       "2      한림읍  대정읍 2021-01-03  0.0020  0.7  45.0  0.0053  0.039  23.0  2021  1   \n",
       "3      한림읍  대정읍 2021-01-04  0.0019  0.7  42.0  0.0083  0.038  25.0  2021  1   \n",
       "4      한림읍  대정읍 2021-01-05  0.0013  0.6  32.0  0.0062  0.038  22.0  2021  1   \n",
       "...    ...  ...        ...     ...  ...   ...     ...    ...   ...   ... ..   \n",
       "10444  예래동  대정읍 2021-08-27  0.0010  0.1  24.0  0.0035  0.022   7.0  2021  8   \n",
       "10445  예래동  대정읍 2021-08-28  0.0010  0.1  25.0  0.0034  0.024   7.0  2021  8   \n",
       "10446  예래동  대정읍 2021-08-29  0.0010  0.1  22.0  0.0034  0.025   6.0  2021  8   \n",
       "10447  예래동  대정읍 2021-08-30  0.0010  0.1  18.0  0.0041  0.023   6.0  2021  8   \n",
       "10448  예래동  대정읍 2021-08-31  0.0010  0.1  17.0  0.0040  0.026   7.0  2021  8   \n",
       "\n",
       "        일  \n",
       "0       1  \n",
       "1       2  \n",
       "2       3  \n",
       "3       4  \n",
       "4       5  \n",
       "...    ..  \n",
       "10444  27  \n",
       "10445  28  \n",
       "10446  29  \n",
       "10447  30  \n",
       "10448  31  \n",
       "\n",
       "[10449 rows x 12 columns]"
      ]
     },
     "execution_count": 464,
     "metadata": {},
     "output_type": "execute_result"
    }
   ],
   "source": [
    "test"
   ]
  },
  {
   "cell_type": "code",
   "execution_count": null,
   "id": "3d9e4109",
   "metadata": {},
   "outputs": [],
   "source": []
  },
  {
   "cell_type": "code",
   "execution_count": null,
   "id": "fc3b88ca",
   "metadata": {},
   "outputs": [],
   "source": []
  },
  {
   "cell_type": "code",
   "execution_count": null,
   "id": "fea8dd85",
   "metadata": {},
   "outputs": [],
   "source": []
  },
  {
   "cell_type": "markdown",
   "id": "dde7ab9b",
   "metadata": {},
   "source": [
    "### 측정소에 따라서 수치의 차이가 있을까?"
   ]
  },
  {
   "cell_type": "code",
   "execution_count": 87,
   "id": "cf5646f7",
   "metadata": {},
   "outputs": [
    {
     "data": {
      "image/png": "[encoded data removed]",
      "text/plain": [
       "<Figure size 720x360 with 1 Axes>"
      ]
     },
     "metadata": {
      "needs_background": "light"
     },
     "output_type": "display_data"
    }
   ],
   "source": [
    "date = pd.date_range(\"2018-01-01\",\"2021-08-31\")\n",
    "측정소목록 = 미세먼지_결측치대체[\"측정소명\"].value_counts().index\n",
    "\n",
    "fig,ax = plt.subplots(1,1,figsize=(10,5))\n",
    "for 측정소 in 측정소목록:\n",
    "    data = 미세먼지_결측치대체[미세먼지_결측치대체[\"측정소명\"] == 측정소].set_index(\"일자\")\n",
    "    data[\"PM10\"].plot(ax=ax)"
   ]
  },
  {
   "cell_type": "code",
   "execution_count": null,
   "id": "101929ce",
   "metadata": {},
   "outputs": [],
   "source": []
  },
  {
   "cell_type": "code",
   "execution_count": null,
   "id": "86fb84c2",
   "metadata": {},
   "outputs": [],
   "source": []
  },
  {
   "cell_type": "code",
   "execution_count": null,
   "id": "7e5fcfdb",
   "metadata": {},
   "outputs": [],
   "source": []
  }
 ],
 "metadata": {
  "kernelspec": {
   "display_name": "Python 3",
   "language": "python",
   "name": "python3"
  },
  "language_info": {
   "codemirror_mode": {
    "name": "ipython",
    "version": 3
   },
   "file_extension": ".py",
   "mimetype": "text/x-python",
   "name": "python",
   "nbconvert_exporter": "python",
   "pygments_lexer": "ipython3",
   "version": "3.8.8"
  }
 },
 "nbformat": 4,
 "nbformat_minor": 5
}
