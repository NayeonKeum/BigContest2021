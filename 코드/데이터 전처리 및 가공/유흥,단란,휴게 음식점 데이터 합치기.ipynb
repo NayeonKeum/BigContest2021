{
 "cells": [
  {
   "cell_type": "code",
   "execution_count": 25,
   "id": "6c53f2f1",
   "metadata": {},
   "outputs": [],
   "source": [
    "import pandas as pd\n",
    "서귀포_유흥 = pd.read_csv(r\"C:\\Users\\김유빈\\빅콘\\완료 데이터\\서귀포시 유흥주점.csv\",encoding=\"cp949\")\n",
    "서귀포_단란 = pd.read_csv(r\"C:\\Users\\김유빈\\빅콘\\완료 데이터\\서귀포시 단란주점.csv\",encoding=\"cp949\")\n",
    "제주_유흥 = pd.read_csv(r\"C:\\Users\\김유빈\\빅콘\\완료 데이터\\제주 유흥주점.csv\",encoding=\"cp949\")\n",
    "제주_단란 = pd.read_csv(r\"C:\\Users\\김유빈\\빅콘\\완료 데이터\\제주 단란주점.csv\",encoding=\"cp949\")"
   ]
  },
  {
   "cell_type": "code",
   "execution_count": 29,
   "id": "75085c16",
   "metadata": {},
   "outputs": [],
   "source": [
    "서귀포_유흥 = 서귀포_유흥[[\"업소명\",\"위도\",\"경도\"]]\n",
    "서귀포_유흥[\"종류\"] = \"유흥주점\"\n",
    "서귀포_단란 = 서귀포_단란[[\"업소명\",\"위도\",\"경도\"]]\n",
    "서귀포_단란[\"종류\"] = \"단란주점\"\n",
    "\n",
    "제주_유흥 = 제주_유흥[[\"업소명\",\"위도\",\"경도\"]]\n",
    "제주_유흥[\"종류\"] = \"유흥주점\"\n",
    "제주_단란 = 제주_단란[[\"업소명\",\"위도\",\"경도\"]]\n",
    "제주_단란[\"종류\"] = \"단란주점\""
   ]
  },
  {
   "cell_type": "code",
   "execution_count": 30,
   "id": "e2f7b5b6",
   "metadata": {},
   "outputs": [],
   "source": [
    "제주도_유흥단란주점 = pd.concat([서귀포_유흥,서귀포_단란,제주_유흥,제주_단란],axis=0,ignore_index=True)"
   ]
  },
  {
   "cell_type": "code",
   "execution_count": 33,
   "id": "070a899e",
   "metadata": {},
   "outputs": [],
   "source": [
    "제주도_유흥단란주점.to_csv(\"제주도_유흥단란주점.csv\",encoding=\"utf-8-sig\",index=False)"
   ]
  },
  {
   "cell_type": "code",
   "execution_count": 32,
   "id": "4bb432e1",
   "metadata": {},
   "outputs": [
    {
     "data": {
      "text/html": [
       "<div>\n",
       "<style scoped>\n",
       "    .dataframe tbody tr th:only-of-type {\n",
       "        vertical-align: middle;\n",
       "    }\n",
       "\n",
       "    .dataframe tbody tr th {\n",
       "        vertical-align: top;\n",
       "    }\n",
       "\n",
       "    .dataframe thead th {\n",
       "        text-align: right;\n",
       "    }\n",
       "</style>\n",
       "<table border=\"1\" class=\"dataframe\">\n",
       "  <thead>\n",
       "    <tr style=\"text-align: right;\">\n",
       "      <th></th>\n",
       "      <th>업소명</th>\n",
       "      <th>위도</th>\n",
       "      <th>경도</th>\n",
       "      <th>종류</th>\n",
       "    </tr>\n",
       "  </thead>\n",
       "  <tbody>\n",
       "    <tr>\n",
       "      <th>0</th>\n",
       "      <td>제스타노래타운</td>\n",
       "      <td>33.252672</td>\n",
       "      <td>126.508565</td>\n",
       "      <td>유흥주점</td>\n",
       "    </tr>\n",
       "    <tr>\n",
       "      <th>1</th>\n",
       "      <td>포구가요반주</td>\n",
       "      <td>33.278337</td>\n",
       "      <td>126.718807</td>\n",
       "      <td>유흥주점</td>\n",
       "    </tr>\n",
       "    <tr>\n",
       "      <th>2</th>\n",
       "      <td>애플노래텔</td>\n",
       "      <td>33.278744</td>\n",
       "      <td>126.719842</td>\n",
       "      <td>유흥주점</td>\n",
       "    </tr>\n",
       "    <tr>\n",
       "      <th>3</th>\n",
       "      <td>파라다이스</td>\n",
       "      <td>33.279009</td>\n",
       "      <td>126.720733</td>\n",
       "      <td>유흥주점</td>\n",
       "    </tr>\n",
       "    <tr>\n",
       "      <th>4</th>\n",
       "      <td>남원황진이가요주점</td>\n",
       "      <td>33.279100</td>\n",
       "      <td>126.718281</td>\n",
       "      <td>유흥주점</td>\n",
       "    </tr>\n",
       "    <tr>\n",
       "      <th>...</th>\n",
       "      <td>...</td>\n",
       "      <td>...</td>\n",
       "      <td>...</td>\n",
       "      <td>...</td>\n",
       "    </tr>\n",
       "    <tr>\n",
       "      <th>1370</th>\n",
       "      <td>황태자</td>\n",
       "      <td>33.516158</td>\n",
       "      <td>126.526120</td>\n",
       "      <td>단란주점</td>\n",
       "    </tr>\n",
       "    <tr>\n",
       "      <th>1371</th>\n",
       "      <td>훼밀리</td>\n",
       "      <td>33.508846</td>\n",
       "      <td>126.509989</td>\n",
       "      <td>단란주점</td>\n",
       "    </tr>\n",
       "    <tr>\n",
       "      <th>1372</th>\n",
       "      <td>히딩크</td>\n",
       "      <td>33.414026</td>\n",
       "      <td>126.263776</td>\n",
       "      <td>단란주점</td>\n",
       "    </tr>\n",
       "    <tr>\n",
       "      <th>1373</th>\n",
       "      <td>히야신스</td>\n",
       "      <td>33.491946</td>\n",
       "      <td>126.497380</td>\n",
       "      <td>단란주점</td>\n",
       "    </tr>\n",
       "    <tr>\n",
       "      <th>1374</th>\n",
       "      <td>히포</td>\n",
       "      <td>33.491738</td>\n",
       "      <td>126.497246</td>\n",
       "      <td>단란주점</td>\n",
       "    </tr>\n",
       "  </tbody>\n",
       "</table>\n",
       "<p>1375 rows × 4 columns</p>\n",
       "</div>"
      ],
      "text/plain": [
       "            업소명         위도          경도    종류\n",
       "0       제스타노래타운  33.252672  126.508565  유흥주점\n",
       "1        포구가요반주  33.278337  126.718807  유흥주점\n",
       "2         애플노래텔  33.278744  126.719842  유흥주점\n",
       "3         파라다이스  33.279009  126.720733  유흥주점\n",
       "4     남원황진이가요주점  33.279100  126.718281  유흥주점\n",
       "...         ...        ...         ...   ...\n",
       "1370        황태자  33.516158  126.526120  단란주점\n",
       "1371        훼밀리  33.508846  126.509989  단란주점\n",
       "1372        히딩크  33.414026  126.263776  단란주점\n",
       "1373       히야신스  33.491946  126.497380  단란주점\n",
       "1374         히포  33.491738  126.497246  단란주점\n",
       "\n",
       "[1375 rows x 4 columns]"
      ]
     },
     "execution_count": 32,
     "metadata": {},
     "output_type": "execute_result"
    }
   ],
   "source": [
    "제주도_유흥단란주점"
   ]
  },
  {
   "cell_type": "markdown",
   "id": "684e8c9e",
   "metadata": {},
   "source": [
    "COMPAS 노트북에서 행정동 매핑해주기"
   ]
  },
  {
   "cell_type": "markdown",
   "id": "1c9cc432",
   "metadata": {},
   "source": [
    "### 행정동별로 유흥단란주점 피처 만들기\n",
    "- 단란주점, 유흥주점 더미화\n",
    "- 행정동별 단란주점 개수\n",
    "- 행정동별 유흥주점 개수\n",
    "- 면적당 개수 / 1인당 개수"
   ]
  },
  {
   "cell_type": "code",
   "execution_count": 47,
   "id": "387b21f7",
   "metadata": {},
   "outputs": [],
   "source": [
    "유흥단란주점 = pd.read_csv(\"제주도_유흥단란주점.csv\")\n",
    "유흥단란주점 = pd.concat([유흥단란주점,pd.get_dummies(유흥단란주점[\"종류\"])],axis=1)"
   ]
  },
  {
   "cell_type": "code",
   "execution_count": 92,
   "id": "7d116e79",
   "metadata": {},
   "outputs": [],
   "source": [
    "행정동별_유흥단란주점 = 유흥단란주점.groupby(\"행정동명\").agg({\"단란주점\":\"sum\",\"유흥주점\":\"sum\",\"종류\":\"count\"}).reset_index()\n",
    "행정동별_유흥단란주점.rename(columns={\"종류\":\"총합\"},inplace=True)"
   ]
  },
  {
   "cell_type": "code",
   "execution_count": 93,
   "id": "978507f5",
   "metadata": {},
   "outputs": [],
   "source": [
    "행정동별_유흥단란주점.to_csv(\"제주도_유흥단란주점 전처리완료.csv\",encoding=\"utf-8-sig\")"
   ]
  },
  {
   "cell_type": "code",
   "execution_count": 96,
   "id": "6e863407",
   "metadata": {},
   "outputs": [
    {
     "data": {
      "text/html": [
       "<div>\n",
       "<style scoped>\n",
       "    .dataframe tbody tr th:only-of-type {\n",
       "        vertical-align: middle;\n",
       "    }\n",
       "\n",
       "    .dataframe tbody tr th {\n",
       "        vertical-align: top;\n",
       "    }\n",
       "\n",
       "    .dataframe thead th {\n",
       "        text-align: right;\n",
       "    }\n",
       "</style>\n",
       "<table border=\"1\" class=\"dataframe\">\n",
       "  <thead>\n",
       "    <tr style=\"text-align: right;\">\n",
       "      <th></th>\n",
       "      <th>행정동명</th>\n",
       "      <th>단란주점</th>\n",
       "      <th>유흥주점</th>\n",
       "      <th>총합</th>\n",
       "    </tr>\n",
       "  </thead>\n",
       "  <tbody>\n",
       "    <tr>\n",
       "      <th>0</th>\n",
       "      <td>건입동</td>\n",
       "      <td>13</td>\n",
       "      <td>7</td>\n",
       "      <td>20</td>\n",
       "    </tr>\n",
       "    <tr>\n",
       "      <th>1</th>\n",
       "      <td>구좌읍</td>\n",
       "      <td>11</td>\n",
       "      <td>11</td>\n",
       "      <td>22</td>\n",
       "    </tr>\n",
       "    <tr>\n",
       "      <th>2</th>\n",
       "      <td>남원읍</td>\n",
       "      <td>7</td>\n",
       "      <td>8</td>\n",
       "      <td>15</td>\n",
       "    </tr>\n",
       "  </tbody>\n",
       "</table>\n",
       "</div>"
      ],
      "text/plain": [
       "  행정동명  단란주점  유흥주점  총합\n",
       "0  건입동    13     7  20\n",
       "1  구좌읍    11    11  22\n",
       "2  남원읍     7     8  15"
      ]
     },
     "execution_count": 96,
     "metadata": {},
     "output_type": "execute_result"
    }
   ],
   "source": [
    "행정동별_유흥단란주점.head(3)"
   ]
  },
  {
   "cell_type": "markdown",
   "id": "ed9eb879",
   "metadata": {},
   "source": [
    "### 행정동별로 휴게음식점 피처 만들기\n",
    "- 행정동별 휴게음식점 개수\n",
    "- 면적당 개수 / 1인당 개수"
   ]
  },
  {
   "cell_type": "code",
   "execution_count": 60,
   "id": "b5c529e6",
   "metadata": {},
   "outputs": [],
   "source": [
    "휴게음식점 = pd.read_csv(\"제주도 휴게음식점.csv\")"
   ]
  },
  {
   "cell_type": "code",
   "execution_count": 64,
   "id": "9d667228",
   "metadata": {},
   "outputs": [],
   "source": [
    "#휴게음식점[\"시도\"] = 휴게음식점[\"행정동명\"].str.split(\" \").str[1]\n",
    "#휴게음식점[\"행정동명\"] = 휴게음식점[\"행정동명\"].str.split(\" \").str[2]\n",
    "#휴게음식점.to_csv(\"제주도 휴게음식점.csv\",encoding=\"utf-8-sig\",index=False)"
   ]
  },
  {
   "cell_type": "code",
   "execution_count": 89,
   "id": "83d30eaa",
   "metadata": {},
   "outputs": [],
   "source": [
    "행정동별_휴게음식점 = 휴게음식점.groupby(\"행정동명\").agg({\"업소명\":\"count\"}).reset_index()\n",
    "행정동별_휴게음식점.rename(columns={\"업소명\":\"총합\"},inplace=True)"
   ]
  },
  {
   "cell_type": "code",
   "execution_count": 90,
   "id": "311ac0af",
   "metadata": {},
   "outputs": [],
   "source": [
    "행정동별_휴게음식점.to_csv(\"제주도_휴게음식점 전처리완료.csv\",encoding=\"utf-8-sig\")"
   ]
  },
  {
   "cell_type": "code",
   "execution_count": 91,
   "id": "cf19a508",
   "metadata": {},
   "outputs": [
    {
     "data": {
      "text/html": [
       "<div>\n",
       "<style scoped>\n",
       "    .dataframe tbody tr th:only-of-type {\n",
       "        vertical-align: middle;\n",
       "    }\n",
       "\n",
       "    .dataframe tbody tr th {\n",
       "        vertical-align: top;\n",
       "    }\n",
       "\n",
       "    .dataframe thead th {\n",
       "        text-align: right;\n",
       "    }\n",
       "</style>\n",
       "<table border=\"1\" class=\"dataframe\">\n",
       "  <thead>\n",
       "    <tr style=\"text-align: right;\">\n",
       "      <th></th>\n",
       "      <th>행정동명</th>\n",
       "      <th>총합</th>\n",
       "    </tr>\n",
       "  </thead>\n",
       "  <tbody>\n",
       "    <tr>\n",
       "      <th>0</th>\n",
       "      <td>건입동</td>\n",
       "      <td>52</td>\n",
       "    </tr>\n",
       "    <tr>\n",
       "      <th>1</th>\n",
       "      <td>구좌읍</td>\n",
       "      <td>193</td>\n",
       "    </tr>\n",
       "    <tr>\n",
       "      <th>2</th>\n",
       "      <td>남원읍</td>\n",
       "      <td>93</td>\n",
       "    </tr>\n",
       "  </tbody>\n",
       "</table>\n",
       "</div>"
      ],
      "text/plain": [
       "  행정동명   총합\n",
       "0  건입동   52\n",
       "1  구좌읍  193\n",
       "2  남원읍   93"
      ]
     },
     "execution_count": 91,
     "metadata": {},
     "output_type": "execute_result"
    }
   ],
   "source": [
    "행정동별_휴게음식점.head(3)"
   ]
  },
  {
   "cell_type": "markdown",
   "id": "35810fca",
   "metadata": {},
   "source": [
    "### 행정동별로 일반음식점 피처 만들기\n",
    "- 행정동별 일반음식점 개수\n",
    "- 행정동별 일반음식점 총면적\n",
    "- 행정동별 일반음식점 평균면적\n",
    "- 면적당 개수 / 1인당 개수"
   ]
  },
  {
   "cell_type": "code",
   "execution_count": null,
   "id": "269a9912",
   "metadata": {},
   "outputs": [],
   "source": [
    "일반음식점 = pd.read_csv(\"제주도 일반음식점 위경도.csv\")"
   ]
  },
  {
   "cell_type": "code",
   "execution_count": 87,
   "id": "b047ce3c",
   "metadata": {},
   "outputs": [],
   "source": [
    "행정동별_일반음식점 = 일반음식점.groupby(\"행정동명\").agg({\"사업장명\":\"count\",\"시설총규모\":[\"mean\",\"sum\"]}).reset_index()\n",
    "행정동별_일반음식점.columns = [\"행정동명\",\"총합\",\"음식점면적평균\",\"음식점면적합\"]"
   ]
  },
  {
   "cell_type": "code",
   "execution_count": 94,
   "id": "b268f48b",
   "metadata": {},
   "outputs": [],
   "source": [
    "행정동별_일반음식점.to_csv(\"제주도_일반음식점 전처리완료.csv\",encoding=\"utf-8-sig\")"
   ]
  },
  {
   "cell_type": "code",
   "execution_count": 71,
   "id": "4b8fb474",
   "metadata": {},
   "outputs": [],
   "source": [
    "#일반음식점[\"시도\"] = 일반음식점[\"행정동명\"].str.split(\" \").str[1]\n",
    "#일반음식점[\"행정동명\"] = 일반음식점[\"행정동명\"].str.split(\" \").str[2]\n",
    "#일반음식점.to_csv(\"제주도 일반음식점 위경도.csv\",encoding=\"utf-8-sig\",index=False)"
   ]
  },
  {
   "cell_type": "code",
   "execution_count": 95,
   "id": "f2539145",
   "metadata": {},
   "outputs": [
    {
     "data": {
      "text/html": [
       "<div>\n",
       "<style scoped>\n",
       "    .dataframe tbody tr th:only-of-type {\n",
       "        vertical-align: middle;\n",
       "    }\n",
       "\n",
       "    .dataframe tbody tr th {\n",
       "        vertical-align: top;\n",
       "    }\n",
       "\n",
       "    .dataframe thead th {\n",
       "        text-align: right;\n",
       "    }\n",
       "</style>\n",
       "<table border=\"1\" class=\"dataframe\">\n",
       "  <thead>\n",
       "    <tr style=\"text-align: right;\">\n",
       "      <th></th>\n",
       "      <th>행정동명</th>\n",
       "      <th>총합</th>\n",
       "      <th>음식점면적평균</th>\n",
       "      <th>음식점면적합</th>\n",
       "    </tr>\n",
       "  </thead>\n",
       "  <tbody>\n",
       "    <tr>\n",
       "      <th>0</th>\n",
       "      <td>건입동</td>\n",
       "      <td>129</td>\n",
       "      <td>90.849845</td>\n",
       "      <td>11719.63</td>\n",
       "    </tr>\n",
       "    <tr>\n",
       "      <th>1</th>\n",
       "      <td>구좌읍</td>\n",
       "      <td>581</td>\n",
       "      <td>87.498675</td>\n",
       "      <td>50836.73</td>\n",
       "    </tr>\n",
       "    <tr>\n",
       "      <th>2</th>\n",
       "      <td>남원읍</td>\n",
       "      <td>321</td>\n",
       "      <td>104.649502</td>\n",
       "      <td>33592.49</td>\n",
       "    </tr>\n",
       "  </tbody>\n",
       "</table>\n",
       "</div>"
      ],
      "text/plain": [
       "  행정동명   총합     음식점면적평균    음식점면적합\n",
       "0  건입동  129   90.849845  11719.63\n",
       "1  구좌읍  581   87.498675  50836.73\n",
       "2  남원읍  321  104.649502  33592.49"
      ]
     },
     "execution_count": 95,
     "metadata": {},
     "output_type": "execute_result"
    }
   ],
   "source": [
    "행정동별_일반음식점.head(3)"
   ]
  },
  {
   "cell_type": "code",
   "execution_count": null,
   "id": "8a4421eb",
   "metadata": {},
   "outputs": [],
   "source": []
  }
 ],
 "metadata": {
  "kernelspec": {
   "display_name": "Python 3",
   "language": "python",
   "name": "python3"
  },
  "language_info": {
   "codemirror_mode": {
    "name": "ipython",
    "version": 3
   },
   "file_extension": ".py",
   "mimetype": "text/x-python",
   "name": "python",
   "nbconvert_exporter": "python",
   "pygments_lexer": "ipython3",
   "version": "3.8.8"
  }
 },
 "nbformat": 4,
 "nbformat_minor": 5
}
