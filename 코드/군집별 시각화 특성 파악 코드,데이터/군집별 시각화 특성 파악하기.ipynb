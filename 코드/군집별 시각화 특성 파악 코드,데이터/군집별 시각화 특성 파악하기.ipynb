{
 "cells": [
  {
   "cell_type": "code",
   "execution_count": 109,
   "id": "97833a3d",
   "metadata": {},
   "outputs": [],
   "source": [
    "import numpy as np # linear algebra\n",
    "import pandas as pd # data processing, CSV file I/O (e.g. pd.read_csv)\n",
    "from sklearn.cluster import KMeans\n",
    "import numpy as np\n",
    "import matplotlib.pyplot as plt\n",
    "import warnings\n",
    "warnings.filterwarnings(\"ignore\")\n",
    "from tslearn.clustering import TimeSeriesKMeans, silhouette_score\n",
    "from sklearn.preprocessing import MinMaxScaler\n",
    "from sklearn.metrics import silhouette_samples\n",
    "from sklearn.model_selection import train_test_split\n",
    "import pandas as pd\n",
    "import glob, os\n",
    "import numpy as np\n",
    "import seaborn as sns\n",
    "from matplotlib import font_manager, rc\n",
    "font_name = font_manager.FontProperties(fname=\"c:/Windows/Fonts/malgun.ttf\").get_name()\n",
    "rc('font', family=font_name)\n",
    "import matplotlib.pyplot as plt"
   ]
  },
  {
   "cell_type": "markdown",
   "id": "395f5322",
   "metadata": {},
   "source": [
    "#### 행정동 별 label 정보\n",
    "- 행정동 1 + 행정동 2"
   ]
  },
  {
   "cell_type": "code",
   "execution_count": 110,
   "id": "b7d6a592",
   "metadata": {},
   "outputs": [
    {
     "data": {
      "text/html": [
       "<div>\n",
       "<style scoped>\n",
       "    .dataframe tbody tr th:only-of-type {\n",
       "        vertical-align: middle;\n",
       "    }\n",
       "\n",
       "    .dataframe tbody tr th {\n",
       "        vertical-align: top;\n",
       "    }\n",
       "\n",
       "    .dataframe thead th {\n",
       "        text-align: right;\n",
       "    }\n",
       "</style>\n",
       "<table border=\"1\" class=\"dataframe\">\n",
       "  <thead>\n",
       "    <tr style=\"text-align: right;\">\n",
       "      <th></th>\n",
       "      <th>행정동명</th>\n",
       "      <th>label</th>\n",
       "    </tr>\n",
       "  </thead>\n",
       "  <tbody>\n",
       "    <tr>\n",
       "      <th>0</th>\n",
       "      <td>건입동</td>\n",
       "      <td>0</td>\n",
       "    </tr>\n",
       "    <tr>\n",
       "      <th>1</th>\n",
       "      <td>남원읍</td>\n",
       "      <td>0</td>\n",
       "    </tr>\n",
       "    <tr>\n",
       "      <th>2</th>\n",
       "      <td>중앙동</td>\n",
       "      <td>0</td>\n",
       "    </tr>\n",
       "  </tbody>\n",
       "</table>\n",
       "</div>"
      ],
      "text/plain": [
       "  행정동명  label\n",
       "0  건입동      0\n",
       "1  남원읍      0\n",
       "2  중앙동      0"
      ]
     },
     "execution_count": 110,
     "metadata": {},
     "output_type": "execute_result"
    }
   ],
   "source": [
    "행정동_label = pd.read_csv(\"전체 행정동 label.csv\")\n",
    "행정동_label.head(3)"
   ]
  },
  {
   "cell_type": "markdown",
   "id": "e5c4c6fa",
   "metadata": {},
   "source": [
    "#### 전체 데이터\n",
    "- 군집별로 특징 파악해주기\n"
   ]
  },
  {
   "cell_type": "code",
   "execution_count": 111,
   "id": "ddef6dd9",
   "metadata": {},
   "outputs": [
    {
     "data": {
      "text/html": [
       "<div>\n",
       "<style scoped>\n",
       "    .dataframe tbody tr th:only-of-type {\n",
       "        vertical-align: middle;\n",
       "    }\n",
       "\n",
       "    .dataframe tbody tr th {\n",
       "        vertical-align: top;\n",
       "    }\n",
       "\n",
       "    .dataframe thead th {\n",
       "        text-align: right;\n",
       "    }\n",
       "</style>\n",
       "<table border=\"1\" class=\"dataframe\">\n",
       "  <thead>\n",
       "    <tr style=\"text-align: right;\">\n",
       "      <th></th>\n",
       "      <th>일자</th>\n",
       "      <th>년</th>\n",
       "      <th>월</th>\n",
       "      <th>행정시</th>\n",
       "      <th>행정동명</th>\n",
       "      <th>사업체수</th>\n",
       "      <th>세대수</th>\n",
       "      <th>세대당 인구</th>\n",
       "      <th>남여 비율</th>\n",
       "      <th>단독주택</th>\n",
       "      <th>...</th>\n",
       "      <th>요일별배출량비율</th>\n",
       "      <th>요일별배출금액비율</th>\n",
       "      <th>연_요일별배출건수비율</th>\n",
       "      <th>연_요일별배출량비율</th>\n",
       "      <th>연_요일별배출금액비율</th>\n",
       "      <th>월배출건수비율</th>\n",
       "      <th>월배출량비율</th>\n",
       "      <th>월배출금액비율</th>\n",
       "      <th>분기</th>\n",
       "      <th>배출량</th>\n",
       "    </tr>\n",
       "  </thead>\n",
       "  <tbody>\n",
       "    <tr>\n",
       "      <th>0</th>\n",
       "      <td>2019-11-05</td>\n",
       "      <td>2019</td>\n",
       "      <td>11</td>\n",
       "      <td>제주시</td>\n",
       "      <td>조천읍</td>\n",
       "      <td>2319</td>\n",
       "      <td>10862</td>\n",
       "      <td>2.27</td>\n",
       "      <td>1.06</td>\n",
       "      <td>3005</td>\n",
       "      <td>...</td>\n",
       "      <td>0.142262</td>\n",
       "      <td>0.142327</td>\n",
       "      <td>0.153731</td>\n",
       "      <td>0.156048</td>\n",
       "      <td>0.156102</td>\n",
       "      <td>0.091609</td>\n",
       "      <td>0.08669</td>\n",
       "      <td>0.086756</td>\n",
       "      <td>3</td>\n",
       "      <td>36550.00000</td>\n",
       "    </tr>\n",
       "    <tr>\n",
       "      <th>1</th>\n",
       "      <td>2019-11-05</td>\n",
       "      <td>2019</td>\n",
       "      <td>11</td>\n",
       "      <td>제주시</td>\n",
       "      <td>한경면</td>\n",
       "      <td>899</td>\n",
       "      <td>4705</td>\n",
       "      <td>1.93</td>\n",
       "      <td>1.02</td>\n",
       "      <td>2680</td>\n",
       "      <td>...</td>\n",
       "      <td>0.146079</td>\n",
       "      <td>0.146078</td>\n",
       "      <td>0.147863</td>\n",
       "      <td>0.168489</td>\n",
       "      <td>0.168538</td>\n",
       "      <td>0.093084</td>\n",
       "      <td>0.09303</td>\n",
       "      <td>0.093029</td>\n",
       "      <td>3</td>\n",
       "      <td>24458.72241</td>\n",
       "    </tr>\n",
       "  </tbody>\n",
       "</table>\n",
       "<p>2 rows × 323 columns</p>\n",
       "</div>"
      ],
      "text/plain": [
       "           일자     년   월  행정시 행정동명  사업체수    세대수  세대당 인구  남여 비율  단독주택  ...  \\\n",
       "0  2019-11-05  2019  11  제주시  조천읍  2319  10862    2.27   1.06  3005  ...   \n",
       "1  2019-11-05  2019  11  제주시  한경면   899   4705    1.93   1.02  2680  ...   \n",
       "\n",
       "   요일별배출량비율  요일별배출금액비율  연_요일별배출건수비율  연_요일별배출량비율  연_요일별배출금액비율   월배출건수비율  \\\n",
       "0  0.142262   0.142327     0.153731    0.156048     0.156102  0.091609   \n",
       "1  0.146079   0.146078     0.147863    0.168489     0.168538  0.093084   \n",
       "\n",
       "    월배출량비율   월배출금액비율  분기          배출량  \n",
       "0  0.08669  0.086756   3  36550.00000  \n",
       "1  0.09303  0.093029   3  24458.72241  \n",
       "\n",
       "[2 rows x 323 columns]"
      ]
     },
     "execution_count": 111,
     "metadata": {},
     "output_type": "execute_result"
    }
   ],
   "source": [
    "data1 = pd.read_csv(\"최종 전처리 완료 행정동1.csv\")\n",
    "data2 = pd.read_csv(\"최종 전처리완료 행정동2.csv\")\n",
    "data2.head(2)"
   ]
  },
  {
   "cell_type": "code",
   "execution_count": 112,
   "id": "28730d9e",
   "metadata": {
    "scrolled": true
   },
   "outputs": [],
   "source": [
    "data = pd.concat([data1,data2],axis=0)"
   ]
  },
  {
   "cell_type": "markdown",
   "id": "e091885a",
   "metadata": {},
   "source": [
    "#### 군집별 특징\n",
    "- 전체데이터 - 행정동별 label 정보 연결\n",
    "- 군집별특징 = pd.read_csv(\"군집별특징.csv\")"
   ]
  },
  {
   "cell_type": "code",
   "execution_count": 113,
   "id": "eb4ab190",
   "metadata": {},
   "outputs": [],
   "source": [
    "# 특징을 파악해볼 수치 데이터\n",
    "군집별특징 = pd.merge(data,행정동_label,on=\"행정동명\",how=\"inner\").reset_index()\n",
    "\n",
    "col = [x for x in 군집별특징.columns if x not in [\"일자\",\"행정시\",\"행정동명\",\"년\",\"월\",\"일\",\"요일\",\"분기\",\"index\"]]\n",
    "aggregation = {i:\"mean\" for i in col}\n",
    "\n",
    "군집별특징 = 군집별특징.groupby(\"행정동명\").agg(aggregation).reset_index()\n",
    "군집별특징.rename(columns={\"배출량\":\"평균배출량\"})\n",
    "군집별특징.to_csv(\"군집별특징.csv\",encoding=\"utf-8-sig\",index=False)"
   ]
  },
  {
   "cell_type": "code",
   "execution_count": null,
   "id": "a04c9bca",
   "metadata": {},
   "outputs": [],
   "source": []
  },
  {
   "cell_type": "markdown",
   "id": "dce612d5",
   "metadata": {},
   "source": [
    "#### 군집별 카드결제\n",
    "- 일별 업종별 카드결제데이터 - 행정동별 label 정보 연결\n",
    "- 일별 업종별 카드결제데이터 = pd.read_csv(\"일별 업종별 카드결제데이터\")"
   ]
  },
  {
   "cell_type": "code",
   "execution_count": 102,
   "id": "e0bc4975",
   "metadata": {},
   "outputs": [],
   "source": [
    "카드결제 = pd.read_csv(\"일별 업종별 카드결제데이터.csv\")\n",
    "\n",
    "\n",
    "군집별카드결제 = pd.merge(카드결제,행정동_label,on=\"행정동명\",how=\"inner\")\n",
    "군집별카드결제 = 군집별카드결제.groupby([\"행정동명\",\"업종명\",\"label\"]).agg({\"결제건수\":\"mean\",\"결제금액\":\"mean\"}).reset_index()\n",
    "군집별카드결제.rename(columns={\"결제건수\":\"평균결제건수\"},inplace=True)\n",
    "군집별카드결제.rename(columns={\"결제금액\":\"평균결제금액\"},inplace=True)"
   ]
  },
  {
   "cell_type": "code",
   "execution_count": 108,
   "id": "56fdaa82",
   "metadata": {},
   "outputs": [],
   "source": [
    "군집별카드결제.to_csv(\"군집별카드결제.csv\",encoding=\"utf-8-sig\",index=False)"
   ]
  },
  {
   "cell_type": "code",
   "execution_count": 105,
   "id": "1e0289e1",
   "metadata": {},
   "outputs": [],
   "source": []
  },
  {
   "cell_type": "code",
   "execution_count": null,
   "id": "4523a4b5",
   "metadata": {},
   "outputs": [],
   "source": []
  },
  {
   "cell_type": "code",
   "execution_count": null,
   "id": "65b3b114",
   "metadata": {},
   "outputs": [],
   "source": []
  },
  {
   "cell_type": "code",
   "execution_count": null,
   "id": "c510570f",
   "metadata": {},
   "outputs": [],
   "source": []
  },
  {
   "cell_type": "code",
   "execution_count": null,
   "id": "1c08acac",
   "metadata": {},
   "outputs": [],
   "source": []
  },
  {
   "cell_type": "code",
   "execution_count": null,
   "id": "c2388353",
   "metadata": {},
   "outputs": [],
   "source": []
  },
  {
   "cell_type": "code",
   "execution_count": null,
   "id": "4eb18a79",
   "metadata": {},
   "outputs": [],
   "source": []
  },
  {
   "cell_type": "code",
   "execution_count": null,
   "id": "71e270cc",
   "metadata": {},
   "outputs": [],
   "source": []
  },
  {
   "cell_type": "code",
   "execution_count": null,
   "id": "69955a88",
   "metadata": {},
   "outputs": [],
   "source": []
  },
  {
   "cell_type": "code",
   "execution_count": null,
   "id": "225f5fc3",
   "metadata": {},
   "outputs": [],
   "source": []
  },
  {
   "cell_type": "code",
   "execution_count": null,
   "id": "72df93cb",
   "metadata": {},
   "outputs": [],
   "source": []
  },
  {
   "cell_type": "code",
   "execution_count": null,
   "id": "ee2119b5",
   "metadata": {},
   "outputs": [],
   "source": []
  },
  {
   "cell_type": "code",
   "execution_count": null,
   "id": "83ec9593",
   "metadata": {},
   "outputs": [],
   "source": []
  },
  {
   "cell_type": "code",
   "execution_count": null,
   "id": "3d2155a7",
   "metadata": {},
   "outputs": [],
   "source": []
  },
  {
   "cell_type": "code",
   "execution_count": null,
   "id": "3849e2a1",
   "metadata": {},
   "outputs": [],
   "source": []
  },
  {
   "cell_type": "code",
   "execution_count": null,
   "id": "22c1543b",
   "metadata": {},
   "outputs": [],
   "source": []
  },
  {
   "cell_type": "code",
   "execution_count": null,
   "id": "9e2f4f86",
   "metadata": {},
   "outputs": [],
   "source": []
  },
  {
   "cell_type": "code",
   "execution_count": null,
   "id": "6a817b02",
   "metadata": {},
   "outputs": [],
   "source": []
  },
  {
   "cell_type": "code",
   "execution_count": null,
   "id": "fcda32c2",
   "metadata": {},
   "outputs": [],
   "source": []
  },
  {
   "cell_type": "code",
   "execution_count": null,
   "id": "536d7491",
   "metadata": {},
   "outputs": [],
   "source": []
  },
  {
   "cell_type": "code",
   "execution_count": null,
   "id": "c18390f0",
   "metadata": {},
   "outputs": [],
   "source": []
  },
  {
   "cell_type": "code",
   "execution_count": null,
   "id": "8a657c5c",
   "metadata": {},
   "outputs": [],
   "source": []
  },
  {
   "cell_type": "code",
   "execution_count": null,
   "id": "133c3be3",
   "metadata": {},
   "outputs": [],
   "source": []
  },
  {
   "cell_type": "code",
   "execution_count": null,
   "id": "dd3abae8",
   "metadata": {},
   "outputs": [],
   "source": []
  },
  {
   "cell_type": "code",
   "execution_count": null,
   "id": "2376c0b0",
   "metadata": {},
   "outputs": [],
   "source": []
  },
  {
   "cell_type": "code",
   "execution_count": null,
   "id": "b08993b0",
   "metadata": {},
   "outputs": [],
   "source": []
  },
  {
   "cell_type": "code",
   "execution_count": null,
   "id": "86be2649",
   "metadata": {},
   "outputs": [],
   "source": []
  },
  {
   "cell_type": "code",
   "execution_count": null,
   "id": "3535a0c0",
   "metadata": {},
   "outputs": [],
   "source": []
  },
  {
   "cell_type": "code",
   "execution_count": null,
   "id": "1def0b93",
   "metadata": {},
   "outputs": [],
   "source": []
  },
  {
   "cell_type": "code",
   "execution_count": null,
   "id": "0c20ff75",
   "metadata": {},
   "outputs": [],
   "source": []
  },
  {
   "cell_type": "code",
   "execution_count": null,
   "id": "030a804b",
   "metadata": {},
   "outputs": [],
   "source": []
  },
  {
   "cell_type": "code",
   "execution_count": null,
   "id": "ffef4537",
   "metadata": {},
   "outputs": [],
   "source": []
  },
  {
   "cell_type": "code",
   "execution_count": null,
   "id": "cefb06de",
   "metadata": {},
   "outputs": [],
   "source": []
  },
  {
   "cell_type": "code",
   "execution_count": null,
   "id": "adb52e0a",
   "metadata": {},
   "outputs": [],
   "source": []
  },
  {
   "cell_type": "code",
   "execution_count": null,
   "id": "58444f07",
   "metadata": {},
   "outputs": [],
   "source": []
  },
  {
   "cell_type": "code",
   "execution_count": null,
   "id": "47013b0f",
   "metadata": {},
   "outputs": [],
   "source": []
  },
  {
   "cell_type": "code",
   "execution_count": null,
   "id": "b34aef0e",
   "metadata": {},
   "outputs": [],
   "source": []
  },
  {
   "cell_type": "code",
   "execution_count": null,
   "id": "7fee7e88",
   "metadata": {},
   "outputs": [],
   "source": []
  },
  {
   "cell_type": "code",
   "execution_count": null,
   "id": "2ca414c1",
   "metadata": {},
   "outputs": [],
   "source": []
  },
  {
   "cell_type": "code",
   "execution_count": null,
   "id": "f76c0bcf",
   "metadata": {},
   "outputs": [],
   "source": []
  },
  {
   "cell_type": "code",
   "execution_count": null,
   "id": "b55c4a67",
   "metadata": {},
   "outputs": [],
   "source": []
  },
  {
   "cell_type": "code",
   "execution_count": null,
   "id": "3611dc96",
   "metadata": {},
   "outputs": [],
   "source": []
  },
  {
   "cell_type": "code",
   "execution_count": null,
   "id": "bdb5f80e",
   "metadata": {},
   "outputs": [],
   "source": []
  },
  {
   "cell_type": "code",
   "execution_count": null,
   "id": "5da654cf",
   "metadata": {},
   "outputs": [],
   "source": []
  },
  {
   "cell_type": "code",
   "execution_count": null,
   "id": "6f368633",
   "metadata": {},
   "outputs": [],
   "source": []
  },
  {
   "cell_type": "code",
   "execution_count": null,
   "id": "7b7aaf9e",
   "metadata": {},
   "outputs": [],
   "source": []
  },
  {
   "cell_type": "code",
   "execution_count": null,
   "id": "0afbff41",
   "metadata": {},
   "outputs": [],
   "source": []
  },
  {
   "cell_type": "code",
   "execution_count": null,
   "id": "3186dc96",
   "metadata": {},
   "outputs": [],
   "source": []
  },
  {
   "cell_type": "code",
   "execution_count": null,
   "id": "f0eb69fe",
   "metadata": {},
   "outputs": [],
   "source": []
  },
  {
   "cell_type": "code",
   "execution_count": null,
   "id": "7ffc69c8",
   "metadata": {},
   "outputs": [],
   "source": []
  },
  {
   "cell_type": "code",
   "execution_count": null,
   "id": "7c1e973f",
   "metadata": {},
   "outputs": [],
   "source": []
  },
  {
   "cell_type": "code",
   "execution_count": null,
   "id": "377901e9",
   "metadata": {},
   "outputs": [],
   "source": []
  },
  {
   "cell_type": "code",
   "execution_count": null,
   "id": "8e8a5ffc",
   "metadata": {},
   "outputs": [],
   "source": []
  },
  {
   "cell_type": "code",
   "execution_count": null,
   "id": "3138427a",
   "metadata": {},
   "outputs": [],
   "source": []
  },
  {
   "cell_type": "code",
   "execution_count": null,
   "id": "5d89f438",
   "metadata": {},
   "outputs": [],
   "source": []
  },
  {
   "cell_type": "code",
   "execution_count": null,
   "id": "e11eeb28",
   "metadata": {},
   "outputs": [],
   "source": []
  },
  {
   "cell_type": "code",
   "execution_count": null,
   "id": "dfa11274",
   "metadata": {},
   "outputs": [],
   "source": []
  },
  {
   "cell_type": "code",
   "execution_count": null,
   "id": "afe17fdc",
   "metadata": {},
   "outputs": [],
   "source": []
  },
  {
   "cell_type": "code",
   "execution_count": null,
   "id": "b315a817",
   "metadata": {},
   "outputs": [],
   "source": []
  },
  {
   "cell_type": "code",
   "execution_count": null,
   "id": "83080033",
   "metadata": {},
   "outputs": [],
   "source": []
  },
  {
   "cell_type": "code",
   "execution_count": null,
   "id": "4ea1468f",
   "metadata": {},
   "outputs": [],
   "source": []
  },
  {
   "cell_type": "code",
   "execution_count": null,
   "id": "71b054dd",
   "metadata": {},
   "outputs": [],
   "source": []
  },
  {
   "cell_type": "code",
   "execution_count": null,
   "id": "3f5bafd6",
   "metadata": {},
   "outputs": [],
   "source": []
  },
  {
   "cell_type": "code",
   "execution_count": null,
   "id": "4c9e6a6c",
   "metadata": {},
   "outputs": [],
   "source": []
  },
  {
   "cell_type": "code",
   "execution_count": null,
   "id": "4909ab83",
   "metadata": {},
   "outputs": [],
   "source": []
  },
  {
   "cell_type": "code",
   "execution_count": null,
   "id": "eb7b292f",
   "metadata": {},
   "outputs": [],
   "source": []
  },
  {
   "cell_type": "code",
   "execution_count": null,
   "id": "0fd18964",
   "metadata": {},
   "outputs": [],
   "source": []
  },
  {
   "cell_type": "code",
   "execution_count": null,
   "id": "569ce431",
   "metadata": {},
   "outputs": [],
   "source": []
  }
 ],
 "metadata": {
  "kernelspec": {
   "display_name": "Python 3",
   "language": "python",
   "name": "python3"
  },
  "language_info": {
   "codemirror_mode": {
    "name": "ipython",
    "version": 3
   },
   "file_extension": ".py",
   "mimetype": "text/x-python",
   "name": "python",
   "nbconvert_exporter": "python",
   "pygments_lexer": "ipython3",
   "version": "3.8.8"
  }
 },
 "nbformat": 4,
 "nbformat_minor": 5
}
